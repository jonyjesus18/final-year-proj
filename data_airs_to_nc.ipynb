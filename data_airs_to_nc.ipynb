{
 "cells": [
  {
   "cell_type": "code",
   "execution_count": 27,
   "metadata": {},
   "outputs": [
    {
     "name": "stdout",
     "output_type": "stream",
     "text": [
      "All data has been combined into a single .nc file with coordinates.\n"
     ]
    }
   ],
   "source": [
    "import os\n",
    "import xarray as xr\n",
    "import pandas as pd\n",
    "import numpy as np\n",
    "from datetime import datetime\n",
    "\n",
    "def load_data_at_altitude(altitude, data_folder, latitudes, longitudes):\n",
    "    # List all files in the folder\n",
    "    file_list = os.listdir(data_folder)\n",
    "\n",
    "    # Filter the files to keep only those with the correct naming convention\n",
    "    filtered_files = [file for file in file_list if file.endswith('_mfx.npz') and '2018-02' in file]\n",
    "\n",
    "    # Sort the files by date\n",
    "    filtered_files.sort()\n",
    "\n",
    "    # Load all files into a single xarray Dataset\n",
    "    data_arrays = [xr.DataArray(np.load(f'{data_folder}/{file}')['arr_0'], \n",
    "                                coords={\n",
    "                                'latitude': (('latitude'), latitudes),\n",
    "                                'longitude': (('longitude'), longitudes),\n",
    "                                'time': datetime.strptime(file[:10], '%Y-%m-%d'),\n",
    "                                'altitude': altitude}, \n",
    "                                dims=('latitude', 'longitude'),\n",
    "                                attrs={'altitude': altitude}) \n",
    "                   for file in filtered_files]\n",
    "    combined_data = xr.concat(data_arrays, dim='time')\n",
    "    return combined_data\n",
    "\n",
    "# Set the folder paths\n",
    "data_folder_24km = \"processed_airs_sftp/40_km_grid/24km/mfx\"\n",
    "data_folder_30km = \"processed_airs_sftp/40_km_grid/30km/mfx/mfx_2009_jan/\"\n",
    "data_folder_36km = \"processed_airs_sftp/40_km_grid/36km/mfx\"\n",
    "data_folder_42km = \"processed_airs_sftp/40_km_grid/42km/mfx\"\n",
    "# lat = \"coordinates_40km_grid/Airs_nh_lat_40_grid.csv\"\n",
    "# lon = \"coordinates_40km_grid/Airs_nh_lon_40_grid.csv\"\n",
    "\n",
    "lat = 'lat.csv'\n",
    "lon = 'lon.csv'\n",
    "\n",
    "# Read the latitude and longitude data from the CSV file\n",
    "latitudes = np.loadtxt(lat, delimiter=',', unpack=True)\n",
    "longitudes = np.loadtxt(lon, delimiter=',', unpack=True)\n",
    "\n",
    "# Load data at 30km and 40km altitudes\n",
    "data_24km = load_data_at_altitude(24, data_folder_24km, latitudes, longitudes)\n",
    "data_30km = load_data_at_altitude(30, data_folder_30km, latitudes, longitudes)\n",
    "data_36km = load_data_at_altitude(36, data_folder_36km, latitudes, longitudes)\n",
    "# data_42km = load_data_at_altitude(42, data_folder_42km, latitudes, longitudes)\n",
    "\n",
    "\n",
    "# Combine data at both altitudes\n",
    "combined_data = xr.concat([data_24km,data_30km,data_36km], dim='altitude')\n",
    "\n",
    "# Create an xarray Dataset with a data variable named 'mfx'\n",
    "combined_dataset = xr.Dataset({'mfx': combined_data})\n",
    "\n",
    "# Save the combined dataset to a new .nc file\n",
    "combined_dataset.to_netcdf('combined_data_with_coordinates.nc')\n",
    "\n",
    "print('All data has been combined into a single .nc file with coordinates.')\n"
   ]
  },
  {
   "cell_type": "code",
   "execution_count": null,
   "metadata": {},
   "outputs": [],
   "source": []
  }
 ],
 "metadata": {
  "kernelspec": {
   "display_name": "Python 3.9.16 ('main_fyp_env')",
   "language": "python",
   "name": "python3"
  },
  "language_info": {
   "codemirror_mode": {
    "name": "ipython",
    "version": 3
   },
   "file_extension": ".py",
   "mimetype": "text/x-python",
   "name": "python",
   "nbconvert_exporter": "python",
   "pygments_lexer": "ipython3",
   "version": "3.9.16"
  },
  "orig_nbformat": 4,
  "vscode": {
   "interpreter": {
    "hash": "8884dac054093db9aae4f55b239dc4d3884458936f39f31cf0f95408e834f664"
   }
  }
 },
 "nbformat": 4,
 "nbformat_minor": 2
}
