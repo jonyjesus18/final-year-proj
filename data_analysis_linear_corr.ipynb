{
 "cells": [
  {
   "cell_type": "markdown",
   "metadata": {},
   "source": [
    "<h1>Linear Regression Analysis</h1>\n",
    "<h2>Examining the Relationship Between X and Y</h2>\n",
    "<p>In this analysis, we will explore the linear relationship between variable X and variable Y using linear regression.</p>\n"
   ]
  },
  {
   "cell_type": "code",
   "execution_count": null,
   "metadata": {},
   "outputs": [],
   "source": [
    "import pandas as pd\n",
    "import numpy as np\n",
    "from sklearn.model_selection import train_test_split\n",
    "from sklearn.linear_model import LinearRegression\n",
    "from sklearn.metrics import mean_squared_error, r2_score\n",
    "\n",
    "import os"
   ]
  },
  {
   "cell_type": "code",
   "execution_count": 17,
   "metadata": {},
   "outputs": [],
   "source": [
    "# load your time histories into a Pandas DataFrame\n",
    "df = pd.read_csv(\"ssw_events_saved/2009-01-24_ssw.csv\")\n"
   ]
  },
  {
   "cell_type": "code",
   "execution_count": 18,
   "metadata": {},
   "outputs": [
    {
     "data": {
      "text/html": [
       "<div>\n",
       "<style scoped>\n",
       "    .dataframe tbody tr th:only-of-type {\n",
       "        vertical-align: middle;\n",
       "    }\n",
       "\n",
       "    .dataframe tbody tr th {\n",
       "        vertical-align: top;\n",
       "    }\n",
       "\n",
       "    .dataframe thead th {\n",
       "        text-align: right;\n",
       "    }\n",
       "</style>\n",
       "<table border=\"1\" class=\"dataframe\">\n",
       "  <thead>\n",
       "    <tr style=\"text-align: right;\">\n",
       "      <th></th>\n",
       "      <th>dates</th>\n",
       "      <th>wind_eastward_mean</th>\n",
       "      <th>wind_eastward_mean_selection</th>\n",
       "      <th>temperature_mean_selection</th>\n",
       "      <th>wind_eastward_mean_cos</th>\n",
       "      <th>temperate_mean_cos</th>\n",
       "      <th>temperature_pct_change</th>\n",
       "      <th>SSW_</th>\n",
       "      <th>SSW_flag</th>\n",
       "    </tr>\n",
       "  </thead>\n",
       "  <tbody>\n",
       "    <tr>\n",
       "      <th>0</th>\n",
       "      <td>2009-01-01</td>\n",
       "      <td>26.940159</td>\n",
       "      <td>6.950678</td>\n",
       "      <td>197.273848</td>\n",
       "      <td>13.470080</td>\n",
       "      <td>98.636924</td>\n",
       "      <td>NaN</td>\n",
       "      <td>False</td>\n",
       "      <td>False</td>\n",
       "    </tr>\n",
       "    <tr>\n",
       "      <th>1</th>\n",
       "      <td>2009-01-02</td>\n",
       "      <td>26.347884</td>\n",
       "      <td>-4.249671</td>\n",
       "      <td>196.254930</td>\n",
       "      <td>13.173942</td>\n",
       "      <td>98.127465</td>\n",
       "      <td>-0.516499</td>\n",
       "      <td>False</td>\n",
       "      <td>False</td>\n",
       "    </tr>\n",
       "    <tr>\n",
       "      <th>2</th>\n",
       "      <td>2009-01-03</td>\n",
       "      <td>26.876001</td>\n",
       "      <td>2.441042</td>\n",
       "      <td>195.837355</td>\n",
       "      <td>13.438001</td>\n",
       "      <td>97.918677</td>\n",
       "      <td>-0.212772</td>\n",
       "      <td>False</td>\n",
       "      <td>False</td>\n",
       "    </tr>\n",
       "    <tr>\n",
       "      <th>3</th>\n",
       "      <td>2009-01-04</td>\n",
       "      <td>27.149667</td>\n",
       "      <td>7.391898</td>\n",
       "      <td>197.917756</td>\n",
       "      <td>13.574833</td>\n",
       "      <td>98.958878</td>\n",
       "      <td>1.062311</td>\n",
       "      <td>False</td>\n",
       "      <td>False</td>\n",
       "    </tr>\n",
       "    <tr>\n",
       "      <th>4</th>\n",
       "      <td>2009-01-05</td>\n",
       "      <td>27.732194</td>\n",
       "      <td>7.882852</td>\n",
       "      <td>199.390384</td>\n",
       "      <td>13.866097</td>\n",
       "      <td>99.695192</td>\n",
       "      <td>0.744060</td>\n",
       "      <td>False</td>\n",
       "      <td>False</td>\n",
       "    </tr>\n",
       "  </tbody>\n",
       "</table>\n",
       "</div>"
      ],
      "text/plain": [
       "        dates  wind_eastward_mean  wind_eastward_mean_selection  \\\n",
       "0  2009-01-01           26.940159                      6.950678   \n",
       "1  2009-01-02           26.347884                     -4.249671   \n",
       "2  2009-01-03           26.876001                      2.441042   \n",
       "3  2009-01-04           27.149667                      7.391898   \n",
       "4  2009-01-05           27.732194                      7.882852   \n",
       "\n",
       "   temperature_mean_selection  wind_eastward_mean_cos  temperate_mean_cos  \\\n",
       "0                  197.273848               13.470080           98.636924   \n",
       "1                  196.254930               13.173942           98.127465   \n",
       "2                  195.837355               13.438001           97.918677   \n",
       "3                  197.917756               13.574833           98.958878   \n",
       "4                  199.390384               13.866097           99.695192   \n",
       "\n",
       "   temperature_pct_change   SSW_  SSW_flag  \n",
       "0                     NaN  False     False  \n",
       "1               -0.516499  False     False  \n",
       "2               -0.212772  False     False  \n",
       "3                1.062311  False     False  \n",
       "4                0.744060  False     False  "
      ]
     },
     "execution_count": 18,
     "metadata": {},
     "output_type": "execute_result"
    }
   ],
   "source": [
    "df.head()"
   ]
  },
  {
   "cell_type": "code",
   "execution_count": 21,
   "metadata": {},
   "outputs": [
    {
     "name": "stdout",
     "output_type": "stream",
     "text": [
      "Coefficient: [0.45645635]\n",
      "Intercept: -83.06015844365275\n"
     ]
    }
   ],
   "source": [
    "\n",
    "x = df[\"temperature_mean_selection\"].values.reshape(-1, 1)\n",
    "y = df[\"wind_eastward_mean_selection\"].values\n",
    "\n",
    "# Create a linear regression model object\n",
    "model = LinearRegression()\n",
    "\n",
    "# Fit the model to the data\n",
    "model.fit(x, y)\n",
    "\n",
    "# Print the coefficient and intercept values\n",
    "print('Coefficient:', model.coef_)\n",
    "print('Intercept:', model.intercept_)\n"
   ]
  },
  {
   "cell_type": "code",
   "execution_count": 22,
   "metadata": {},
   "outputs": [
    {
     "name": "stdout",
     "output_type": "stream",
     "text": [
      "R-squared: 0.19434714967727962\n",
      "Correlation coefficient: 0.44084821614392355\n"
     ]
    }
   ],
   "source": [
    "r_squared = model.score(x, y)\n",
    "print('R-squared:', r_squared)\n",
    "\n",
    "# Compute the correlation coefficient\n",
    "corr_coef = np.corrcoef(x.reshape(-1), y)[0, 1]\n",
    "print('Correlation coefficient:', corr_coef)"
   ]
  },
  {
   "cell_type": "code",
   "execution_count": null,
   "metadata": {},
   "outputs": [],
   "source": []
  }
 ],
 "metadata": {
  "kernelspec": {
   "display_name": "Python 3.9.16 ('main_fyp_env')",
   "language": "python",
   "name": "python3"
  },
  "language_info": {
   "codemirror_mode": {
    "name": "ipython",
    "version": 3
   },
   "file_extension": ".py",
   "mimetype": "text/x-python",
   "name": "python",
   "nbconvert_exporter": "python",
   "pygments_lexer": "ipython3",
   "version": "3.9.16"
  },
  "orig_nbformat": 4,
  "vscode": {
   "interpreter": {
    "hash": "8884dac054093db9aae4f55b239dc4d3884458936f39f31cf0f95408e834f664"
   }
  }
 },
 "nbformat": 4,
 "nbformat_minor": 2
}
