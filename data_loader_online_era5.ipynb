{
 "cells": [
  {
   "cell_type": "code",
   "execution_count": 2,
   "metadata": {},
   "outputs": [
    {
     "name": "stderr",
     "output_type": "stream",
     "text": [
      "/Users/joaojesus/opt/anaconda3/envs/main_fyp_env/lib/python3.9/site-packages/paramiko/transport.py:219: CryptographyDeprecationWarning: Blowfish has been deprecated\n",
      "  \"class\": algorithms.Blowfish,\n"
     ]
    }
   ],
   "source": [
    "import pysftp\n",
    "import os \n",
    "import numpy as np\n",
    "import pandas as pd\n",
    "import netCDF4\n",
    "import numpy as np\n",
    "\n",
    "from scipy import io\n",
    "from classes.matlab_reader import matlab_reader\n",
    "from classes.grid_funcs import map_grid,dataset,data_wizard\n",
    "from dotenv import load_dotenv   #for python-dotenv method\n",
    "from datetime import datetime\n",
    "\n"
   ]
  },
  {
   "cell_type": "code",
   "execution_count": 14,
   "metadata": {},
   "outputs": [],
   "source": [
    "ds = netCDF4.Dataset('sample_era5.nc')\n"
   ]
  },
  {
   "cell_type": "code",
   "execution_count": 20,
   "metadata": {},
   "outputs": [
    {
     "data": {
      "text/plain": [
       "(721, 1440)"
      ]
     },
     "execution_count": 20,
     "metadata": {},
     "output_type": "execute_result"
    }
   ],
   "source": [
    "np.shape(ds['u'][0])"
   ]
  },
  {
   "cell_type": "code",
   "execution_count": 21,
   "metadata": {},
   "outputs": [
    {
     "data": {
      "text/plain": [
       "(1,)"
      ]
     },
     "execution_count": 21,
     "metadata": {},
     "output_type": "execute_result"
    }
   ],
   "source": [
    "np.shape(np.load('a.npz'))"
   ]
  },
  {
   "cell_type": "code",
   "execution_count": 3,
   "metadata": {},
   "outputs": [
    {
     "data": {
      "text/plain": [
       "{2000: 61,\n",
       " 2001: 61,\n",
       " 2002: 61,\n",
       " 2003: 61,\n",
       " 2004: 61,\n",
       " 2005: 61,\n",
       " 2006: 61,\n",
       " 2007: 61,\n",
       " 2008: 61,\n",
       " 2009: 61,\n",
       " 2010: 61,\n",
       " 2011: 61,\n",
       " 2012: 61,\n",
       " 2013: 61,\n",
       " 2014: 61,\n",
       " 2015: 61,\n",
       " 2016: 61,\n",
       " 2017: 61,\n",
       " 2018: 61,\n",
       " 2019: 61,\n",
       " 2020: 61,\n",
       " 2021: 61,\n",
       " 2022: 61}"
      ]
     },
     "execution_count": 3,
     "metadata": {},
     "output_type": "execute_result"
    }
   ],
   "source": [
    "import calendar\n",
    "\n",
    "years = [year for year in range(2000,2022+1)]\n",
    "months = [4, 10]\n",
    "\n",
    "\n",
    "dates = []\n",
    "year_days_dict = {}\n",
    "for year in years:\n",
    "    days_per_month = []\n",
    "    for month in months:\n",
    "        days_in_month = calendar.monthrange(year, month)[1]\n",
    "        days_per_month.append(days_in_month)\n",
    "        total_days = sum(days_per_month)\n",
    "        year_days_dict[year] = total_days\n",
    "\n",
    "        for day in range(1, days_in_month + 1):\n",
    "        # Create date object for the current day\n",
    "            date_str = f'{day}/{month}/{year}'\n",
    "            date_obj = datetime.strptime(date_str,'%d/%m/%Y')\n",
    "                # Add the date object to the list\n",
    "            dates.append(date_obj)\n",
    "\n",
    "\n",
    "year_days_dict"
   ]
  },
  {
   "cell_type": "code",
   "execution_count": 23,
   "metadata": {},
   "outputs": [],
   "source": [
    "ds = netCDF4.Dataset('2000-2022-April-October.nc')\n"
   ]
  },
  {
   "cell_type": "code",
   "execution_count": 24,
   "metadata": {},
   "outputs": [
    {
     "data": {
      "text/plain": [
       "(141, 1440)"
      ]
     },
     "execution_count": 24,
     "metadata": {},
     "output_type": "execute_result"
    }
   ],
   "source": [
    "np.shape(ds['u'][0])"
   ]
  },
  {
   "cell_type": "code",
   "execution_count": 29,
   "metadata": {},
   "outputs": [],
   "source": [
    "# save latitude array into a csv file \n",
    "np.savetxt(\"latitude.csv\", ds['latitude'], delimiter=\",\")\n",
    "# save longitude array into a csv file\n",
    "np.savetxt(\"longitude.csv\", ds['longitude'], delimiter=\",\")\n"
   ]
  },
  {
   "cell_type": "code",
   "execution_count": 4,
   "metadata": {},
   "outputs": [],
   "source": [
    "# HOURLY DATA\n",
    "\n",
    "# for i in range(np.shape(ds['u'])[0]):\n",
    "# for i in range(dates):\n",
    "\n",
    "    # potential_vorticity = ds['pv'][i] # POTENTIAL_VORTICITY\n",
    "    # relative_humidity = ds['r'][i] # RELATIVE_HUMIDITY\n",
    "    # specific_humidy = ds['q'][i] # SPECIFIC_HUMIDTY\n",
    "    # temperature = ds['t'][i] # TEMPERATURE\n",
    "    # wind_eastward = ds['u'][i] # WIND_EASTWARD\n",
    "    # wind_northward = ds['v'][i] # WIND_NORTHWARD\n",
    "    # vertical_velocity = ds['w'][i] # VERTICAL_VELOCITY\n",
    "\n",
    "    # np.savez_compressed(f\"PROCESSED_ERA5_ONLINE/COMPRESSED/POTENTIAL_VORTICITY/{dates[i].strftime(('%Y-%m-%d'))}.npz\", potential_vorticity)\n",
    "    # np.savez_compressed(f\"PROCESSED_ERA5_ONLINE/COMPRESSED/RELATIVE_HUMIDITY/{dates[i].strftime(('%Y-%m-%d'))}.npz\", relative_humidity)\n",
    "    # np.savez_compressed(f\"PROCESSED_ERA5_ONLINE/COMPRESSED/SPECIFIC_HUMIDTY/{dates[i].strftime(('%Y-%m-%d'))}.npz\", specific_humidy)\n",
    "    # np.savez_compressed(f\"pre_processed_era5_online/COMPRESSED/TEMPERATURE/HOURLY/{dates[i].strftime(('%Y-%m-%d_%H:%M:%S'))}.npz\", temperature)\n",
    "    # np.savez_compressed(f\"pre_processed_era5_online/COMPRESSED/WIND_EASTWARD/HOURLY/{dates[i].strftime(('%Y-%m-%d_%H:%M:%S'))}.npz\", wind_eastward)\n",
    "    # np.savez_compressed(f\"pre_processed_era5_online/COMPRESSED/WIND_NORTHWARD/HOURLY/{dates[i].strftime(('%Y-%m-%d_%H:%M:%S'))}.npz\", wind_northward)\n",
    "    # np.savez_compressed(f\"PROCESSED_ERA5_ONLINE/COMPRESSED/VERTICAL_VELOCITY/{dates[i].strftime(('%Y-%m-%d'))}.npz\", vertical_velocity)\n"
   ]
  },
  {
   "cell_type": "code",
   "execution_count": 5,
   "metadata": {},
   "outputs": [],
   "source": [
    "# Daily Data\n",
    "\n",
    "for i in range(len(dates)):\n",
    "    potential_vorticity = ds['pv'][i] # potential_vorticity\n",
    "    mass_fraction_o3 = ds['o3'][i] # mass_fraction_o3\n",
    "    divergence_of_wind = ds['d'][i] # divergence_of_wind\n",
    "    temperature = ds['t'][i] # temperature\n",
    "    wind_eastward = ds['u'][i] # wind_eastward\n",
    "    wind_northward = ds['v'][i] # wind_northward\n",
    "    vertical_velocity = ds['w'][i] # vertical_velocity\n",
    "\n",
    "    np.savez_compressed(f\"pre_processed_era5_online/COMPRESSED/POTENTIAL_VORTICITY/{dates[i].strftime(('%Y-%m-%d'))}\", potential_vorticity)\n",
    "    np.savez_compressed(f\"pre_processed_era5_online/COMPRESSED/MASS_FRACTION_o3/{dates[i].strftime(('%Y-%m-%d'))}\", mass_fraction_o3)\n",
    "    np.savez_compressed(f\"pre_processed_era5_online/COMPRESSED/DIVERGENCE_OF_WIND/{dates[i].strftime(('%Y-%m-%d'))}\", divergence_of_wind)\n",
    "    np.savez_compressed(f\"pre_processed_era5_online/COMPRESSED/TEMPERATURE/{dates[i].strftime(('%Y-%m-%d'))}.npz\", temperature)\n",
    "    np.savez_compressed(f\"pre_processed_era5_online/COMPRESSED/WIND_EASTWARD/{dates[i].strftime(('%Y-%m-%d'))}.npz\", wind_eastward)\n",
    "    np.savez_compressed(f\"pre_processed_era5_online/COMPRESSED/WIND_NORTHWARD/{dates[i].strftime(('%Y-%m-%d'))}.npz\", wind_northward)\n",
    "    np.savez_compressed(f\"pre_processed_era5_online/COMPRESSED/VERTICAL_VELOCITY/{dates[i].strftime(('%Y-%m-%d'))}\", vertical_velocity)\n",
    "\n"
   ]
  },
  {
   "cell_type": "code",
   "execution_count": 15,
   "metadata": {},
   "outputs": [
    {
     "name": "stdout",
     "output_type": "stream",
     "text": [
      "3024\n"
     ]
    }
   ],
   "source": [
    "print(i)"
   ]
  },
  {
   "cell_type": "code",
   "execution_count": null,
   "metadata": {},
   "outputs": [],
   "source": []
  }
 ],
 "metadata": {
  "kernelspec": {
   "display_name": "Python 3.9.16 ('main_fyp_env')",
   "language": "python",
   "name": "python3"
  },
  "language_info": {
   "codemirror_mode": {
    "name": "ipython",
    "version": 3
   },
   "file_extension": ".py",
   "mimetype": "text/x-python",
   "name": "python",
   "nbconvert_exporter": "python",
   "pygments_lexer": "ipython3",
   "version": "3.9.16"
  },
  "orig_nbformat": 4,
  "vscode": {
   "interpreter": {
    "hash": "8884dac054093db9aae4f55b239dc4d3884458936f39f31cf0f95408e834f664"
   }
  }
 },
 "nbformat": 4,
 "nbformat_minor": 2
}
