{
 "cells": [
  {
   "cell_type": "code",
   "execution_count": 3,
   "metadata": {},
   "outputs": [],
   "source": [
    "import pysftp\n",
    "import os \n",
    "import numpy as np\n",
    "import pandas as pd\n",
    "import netCDF4\n",
    "import numpy as np\n",
    "\n",
    "from scipy import io\n",
    "from classes.matlab_reader import matlab_reader\n",
    "from classes.grid_funcs import map_grid,dataset,data_wizard\n",
    "from dotenv import load_dotenv   #for python-dotenv method\n",
    "from datetime import datetime\n",
    "\n"
   ]
  },
  {
   "cell_type": "code",
   "execution_count": 4,
   "metadata": {},
   "outputs": [],
   "source": [
    "ds = netCDF4.Dataset('load.nc')\n"
   ]
  },
  {
   "cell_type": "code",
   "execution_count": 5,
   "metadata": {},
   "outputs": [
    {
     "data": {
      "text/plain": [
       "(141, 1440)"
      ]
     },
     "execution_count": 5,
     "metadata": {},
     "output_type": "execute_result"
    }
   ],
   "source": [
    "np.shape(ds['u'][0])"
   ]
  },
  {
   "cell_type": "code",
   "execution_count": 6,
   "metadata": {},
   "outputs": [
    {
     "ename": "FileNotFoundError",
     "evalue": "[Errno 2] No such file or directory: 'a.npz'",
     "output_type": "error",
     "traceback": [
      "\u001b[0;31m---------------------------------------------------------------------------\u001b[0m",
      "\u001b[0;31mFileNotFoundError\u001b[0m                         Traceback (most recent call last)",
      "Cell \u001b[0;32mIn[6], line 1\u001b[0m\n\u001b[0;32m----> 1\u001b[0m np\u001b[39m.\u001b[39mshape(np\u001b[39m.\u001b[39;49mload(\u001b[39m'\u001b[39;49m\u001b[39ma.npz\u001b[39;49m\u001b[39m'\u001b[39;49m))\n",
      "File \u001b[0;32m~/opt/anaconda3/envs/main_fyp_env/lib/python3.9/site-packages/numpy/lib/npyio.py:405\u001b[0m, in \u001b[0;36mload\u001b[0;34m(file, mmap_mode, allow_pickle, fix_imports, encoding, max_header_size)\u001b[0m\n\u001b[1;32m    403\u001b[0m     own_fid \u001b[39m=\u001b[39m \u001b[39mFalse\u001b[39;00m\n\u001b[1;32m    404\u001b[0m \u001b[39melse\u001b[39;00m:\n\u001b[0;32m--> 405\u001b[0m     fid \u001b[39m=\u001b[39m stack\u001b[39m.\u001b[39menter_context(\u001b[39mopen\u001b[39;49m(os_fspath(file), \u001b[39m\"\u001b[39;49m\u001b[39mrb\u001b[39;49m\u001b[39m\"\u001b[39;49m))\n\u001b[1;32m    406\u001b[0m     own_fid \u001b[39m=\u001b[39m \u001b[39mTrue\u001b[39;00m\n\u001b[1;32m    408\u001b[0m \u001b[39m# Code to distinguish from NumPy binary files and pickles.\u001b[39;00m\n",
      "\u001b[0;31mFileNotFoundError\u001b[0m: [Errno 2] No such file or directory: 'a.npz'"
     ]
    }
   ],
   "source": [
    "np.shape(np.load('a.npz'))"
   ]
  },
  {
   "cell_type": "code",
   "execution_count": 7,
   "metadata": {},
   "outputs": [
    {
     "data": {
      "text/plain": [
       "{2000: 153,\n",
       " 2001: 153,\n",
       " 2002: 153,\n",
       " 2003: 153,\n",
       " 2004: 153,\n",
       " 2005: 153,\n",
       " 2006: 153,\n",
       " 2007: 153,\n",
       " 2008: 153,\n",
       " 2009: 153,\n",
       " 2010: 153,\n",
       " 2011: 153,\n",
       " 2012: 153,\n",
       " 2013: 153,\n",
       " 2014: 153,\n",
       " 2015: 153,\n",
       " 2016: 153,\n",
       " 2017: 153,\n",
       " 2018: 153,\n",
       " 2019: 153,\n",
       " 2020: 153,\n",
       " 2021: 153,\n",
       " 2022: 153}"
      ]
     },
     "execution_count": 7,
     "metadata": {},
     "output_type": "execute_result"
    }
   ],
   "source": [
    "import calendar\n",
    "\n",
    "years = [year for year in range(2000,2022+1)]\n",
    "months = [5,6,7,8,9]\n",
    "\n",
    "\n",
    "dates = []\n",
    "year_days_dict = {}\n",
    "for year in years:\n",
    "    days_per_month = []\n",
    "    for month in months:\n",
    "        days_in_month = calendar.monthrange(year, month)[1]\n",
    "        days_per_month.append(days_in_month)\n",
    "        total_days = sum(days_per_month)\n",
    "        year_days_dict[year] = total_days\n",
    "\n",
    "        for day in range(1, days_in_month + 1):\n",
    "        # Create date object for the current day\n",
    "            date_str = f'{day}/{month}/{year}'\n",
    "            date_obj = datetime.strptime(date_str,'%d/%m/%Y')\n",
    "                # Add the date object to the list\n",
    "            dates.append(date_obj)\n",
    "\n",
    "\n",
    "year_days_dict"
   ]
  },
  {
   "cell_type": "code",
   "execution_count": 8,
   "metadata": {},
   "outputs": [],
   "source": [
    "# # save latitude array into a csv file \n",
    "# np.savetxt(\"latitude.csv\", ds['latitude'], delimiter=\",\")\n",
    "# # save longitude array into a csv file\n",
    "# np.savetxt(\"longitude.csv\", ds['longitude'], delimiter=\",\")\n"
   ]
  },
  {
   "cell_type": "code",
   "execution_count": 9,
   "metadata": {},
   "outputs": [],
   "source": [
    "# HOURLY DATA\n",
    "\n",
    "# for i in range(np.shape(ds['u'])[0]):\n",
    "# for i in range(dates):\n",
    "\n",
    "    # potential_vorticity = ds['pv'][i] # POTENTIAL_VORTICITY\n",
    "    # relative_humidity = ds['r'][i] # RELATIVE_HUMIDITY\n",
    "    # specific_humidy = ds['q'][i] # SPECIFIC_HUMIDTY\n",
    "    # temperature = ds['t'][i] # TEMPERATURE\n",
    "    # wind_eastward = ds['u'][i] # WIND_EASTWARD\n",
    "    # wind_northward = ds['v'][i] # WIND_NORTHWARD\n",
    "    # vertical_velocity = ds['w'][i] # VERTICAL_VELOCITY\n",
    "\n",
    "    # np.savez_compressed(f\"PROCESSED_ERA5_ONLINE/COMPRESSED/POTENTIAL_VORTICITY/{dates[i].strftime(('%Y-%m-%d'))}.npz\", potential_vorticity)\n",
    "    # np.savez_compressed(f\"PROCESSED_ERA5_ONLINE/COMPRESSED/RELATIVE_HUMIDITY/{dates[i].strftime(('%Y-%m-%d'))}.npz\", relative_humidity)\n",
    "    # np.savez_compressed(f\"PROCESSED_ERA5_ONLINE/COMPRESSED/SPECIFIC_HUMIDTY/{dates[i].strftime(('%Y-%m-%d'))}.npz\", specific_humidy)\n",
    "    # np.savez_compressed(f\"pre_processed_era5_online/COMPRESSED/TEMPERATURE/HOURLY/{dates[i].strftime(('%Y-%m-%d_%H:%M:%S'))}.npz\", temperature)\n",
    "    # np.savez_compressed(f\"pre_processed_era5_online/COMPRESSED/WIND_EASTWARD/HOURLY/{dates[i].strftime(('%Y-%m-%d_%H:%M:%S'))}.npz\", wind_eastward)\n",
    "    # np.savez_compressed(f\"pre_processed_era5_online/COMPRESSED/WIND_NORTHWARD/HOURLY/{dates[i].strftime(('%Y-%m-%d_%H:%M:%S'))}.npz\", wind_northward)\n",
    "    # np.savez_compressed(f\"PROCESSED_ERA5_ONLINE/COMPRESSED/VERTICAL_VELOCITY/{dates[i].strftime(('%Y-%m-%d'))}.npz\", vertical_velocity)\n"
   ]
  },
  {
   "cell_type": "code",
   "execution_count": 11,
   "metadata": {},
   "outputs": [],
   "source": [
    "# Daily Data\n",
    "\n",
    "for i in range(len(dates)):\n",
    "    potential_vorticity = ds['pv'][i] # potential_vorticity\n",
    "    mass_fraction_o3 = ds['o3'][i] # mass_fraction_o3\n",
    "    divergence_of_wind = ds['d'][i] # divergence_of_wind\n",
    "    temperature = ds['t'][i] # temperature\n",
    "    wind_eastward = ds['u'][i] # wind_eastward\n",
    "    wind_northward = ds['v'][i] # wind_northward\n",
    "    vertical_velocity = ds['w'][i] # vertical_velocity\n",
    "\n",
    "    np.savez_compressed(f\"pre_processed_era5_online/COMPRESSED/POTENTIAL_VORTICITY/{dates[i].strftime(('%Y-%m-%d'))}\", potential_vorticity)\n",
    "    np.savez_compressed(f\"pre_processed_era5_online/COMPRESSED/MASS_FRACTION_o3/{dates[i].strftime(('%Y-%m-%d'))}\", mass_fraction_o3)\n",
    "    np.savez_compressed(f\"pre_processed_era5_online/COMPRESSED/DIVERGENCE_OF_WIND/{dates[i].strftime(('%Y-%m-%d'))}\", divergence_of_wind)\n",
    "    np.savez_compressed(f\"pre_processed_era5_online/COMPRESSED/TEMPERATURE/{dates[i].strftime(('%Y-%m-%d'))}.npz\", temperature)\n",
    "    np.savez_compressed(f\"pre_processed_era5_online/COMPRESSED/WIND_EASTWARD/{dates[i].strftime(('%Y-%m-%d'))}.npz\", wind_eastward)\n",
    "    np.savez_compressed(f\"pre_processed_era5_online/COMPRESSED/WIND_NORTHWARD/{dates[i].strftime(('%Y-%m-%d'))}.npz\", wind_northward)\n",
    "    np.savez_compressed(f\"pre_processed_era5_online/COMPRESSED/VERTICAL_VELOCITY/{dates[i].strftime(('%Y-%m-%d'))}\", vertical_velocity)\n",
    "\n",
    "    print((100*i)/len(dates), \"% complete\")\n",
    "\n"
   ]
  },
  {
   "cell_type": "code",
   "execution_count": null,
   "metadata": {},
   "outputs": [],
   "source": []
  }
 ],
 "metadata": {
  "kernelspec": {
   "display_name": "Python 3.9.16 ('main_fyp_env')",
   "language": "python",
   "name": "python3"
  },
  "language_info": {
   "codemirror_mode": {
    "name": "ipython",
    "version": 3
   },
   "file_extension": ".py",
   "mimetype": "text/x-python",
   "name": "python",
   "nbconvert_exporter": "python",
   "pygments_lexer": "ipython3",
   "version": "3.9.16"
  },
  "orig_nbformat": 4,
  "vscode": {
   "interpreter": {
    "hash": "8884dac054093db9aae4f55b239dc4d3884458936f39f31cf0f95408e834f664"
   }
  }
 },
 "nbformat": 4,
 "nbformat_minor": 2
}
