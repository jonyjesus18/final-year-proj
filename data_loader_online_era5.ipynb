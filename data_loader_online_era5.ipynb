{
 "cells": [
  {
   "cell_type": "markdown",
   "metadata": {},
   "source": [
    "<h1>Splitting data from an ERA5 download file</h1>\n",
    "<p>ERA5 files come in .nc files, this script slices the data and saves it into .npz files for easy use</P>"
   ]
  },
  {
   "cell_type": "code",
   "execution_count": 3,
   "metadata": {},
   "outputs": [
    {
     "name": "stderr",
     "output_type": "stream",
     "text": [
      "/Users/joaojesus/opt/anaconda3/envs/main_fyp_env/lib/python3.9/site-packages/paramiko/transport.py:219: CryptographyDeprecationWarning: Blowfish has been deprecated\n",
      "  \"class\": algorithms.Blowfish,\n"
     ]
    }
   ],
   "source": [
    "import pysftp\n",
    "import os \n",
    "import numpy as np\n",
    "import pandas as pd\n",
    "import netCDF4\n",
    "import numpy as np\n",
    "\n",
    "from scipy import io\n",
    "from classes.matlab_reader import matlab_reader\n",
    "from classes.grid_funcs import map_grid,dataset,data_wizard\n",
    "from dotenv import load_dotenv   #for python-dotenv method\n",
    "from datetime import datetime\n"
   ]
  },
  {
   "cell_type": "code",
   "execution_count": 4,
   "metadata": {},
   "outputs": [
    {
     "data": {
      "text/plain": [
       "{2013: 151}"
      ]
     },
     "execution_count": 4,
     "metadata": {},
     "output_type": "execute_result"
    }
   ],
   "source": [
    "import calendar\n",
    "\n",
    "years = [year for year in range(2013,2013+1)]\n",
    "months = [1,2,3,11,12]\n",
    "\n",
    "\n",
    "dates = []\n",
    "year_days_dict = {}\n",
    "for year in years:\n",
    "    days_per_month = []\n",
    "    for month in months:\n",
    "        days_in_month = calendar.monthrange(year, month)[1]\n",
    "        days_per_month.append(days_in_month)\n",
    "        total_days = sum(days_per_month)\n",
    "        year_days_dict[year] = total_days\n",
    "\n",
    "        for day in range(1, days_in_month + 1):\n",
    "        # Create date object for the current day\n",
    "            date_str = f'{day}/{month}/{year}'\n",
    "            date_obj = datetime.strptime(date_str,'%d/%m/%Y')\n",
    "                # Add the date object to the list\n",
    "            dates.append(date_obj)\n",
    "\n",
    "\n",
    "year_days_dict"
   ]
  },
  {
   "cell_type": "code",
   "execution_count": 22,
   "metadata": {},
   "outputs": [],
   "source": [
    "# load file\n",
    "ds = netCDF4.Dataset('2013_u_v.nc')\n",
    "\n",
    "# save latitude array into a csv file \n",
    "np.savetxt(\"coordinates_era5_online/COORDINATES_ERA5_ONLINE_LAT.csv\", ds['latitude'], delimiter=\",\")\n",
    "# save longitude array into a csv file\n",
    "np.savetxt(\"coordinates_era5_online/COORDINATES_ERA5_ONLINE_LON.csv\", ds['longitude'], delimiter=\",\")\n"
   ]
  },
  {
   "cell_type": "code",
   "execution_count": 23,
   "metadata": {},
   "outputs": [
    {
     "name": "stdout",
     "output_type": "stream",
     "text": [
      "0.0 % complete\n",
      "0.6622516556291391 % complete\n",
      "1.3245033112582782 % complete\n",
      "1.9867549668874172 % complete\n",
      "2.6490066225165565 % complete\n",
      "3.3112582781456954 % complete\n",
      "3.9735099337748343 % complete\n",
      "4.635761589403973 % complete\n",
      "5.298013245033113 % complete\n",
      "5.960264900662252 % complete\n",
      "6.622516556291391 % complete\n",
      "7.28476821192053 % complete\n",
      "7.947019867549669 % complete\n",
      "8.609271523178808 % complete\n",
      "9.271523178807946 % complete\n",
      "9.933774834437086 % complete\n",
      "10.596026490066226 % complete\n",
      "11.258278145695364 % complete\n",
      "11.920529801324504 % complete\n",
      "12.582781456953642 % complete\n",
      "13.245033112582782 % complete\n",
      "13.907284768211921 % complete\n",
      "14.56953642384106 % complete\n",
      "15.2317880794702 % complete\n",
      "15.894039735099337 % complete\n",
      "16.556291390728475 % complete\n",
      "17.218543046357617 % complete\n",
      "17.880794701986755 % complete\n",
      "18.543046357615893 % complete\n",
      "19.205298013245034 % complete\n",
      "19.867549668874172 % complete\n",
      "20.52980132450331 % complete\n",
      "21.192052980132452 % complete\n",
      "21.85430463576159 % complete\n",
      "22.516556291390728 % complete\n",
      "23.178807947019866 % complete\n",
      "23.841059602649008 % complete\n",
      "24.503311258278146 % complete\n",
      "25.165562913907284 % complete\n",
      "25.827814569536425 % complete\n",
      "26.490066225165563 % complete\n",
      "27.1523178807947 % complete\n",
      "27.814569536423843 % complete\n",
      "28.47682119205298 % complete\n",
      "29.13907284768212 % complete\n",
      "29.801324503311257 % complete\n",
      "30.4635761589404 % complete\n",
      "31.125827814569536 % complete\n",
      "31.788079470198674 % complete\n",
      "32.450331125827816 % complete\n",
      "33.11258278145695 % complete\n",
      "33.77483443708609 % complete\n",
      "34.437086092715234 % complete\n",
      "35.09933774834437 % complete\n",
      "35.76158940397351 % complete\n",
      "36.42384105960265 % complete\n",
      "37.086092715231786 % complete\n",
      "37.74834437086093 % complete\n",
      "38.41059602649007 % complete\n",
      "39.0728476821192 % complete\n",
      "39.735099337748345 % complete\n",
      "40.397350993377486 % complete\n",
      "41.05960264900662 % complete\n",
      "41.72185430463576 % complete\n",
      "42.384105960264904 % complete\n",
      "43.04635761589404 % complete\n",
      "43.70860927152318 % complete\n",
      "44.370860927152314 % complete\n",
      "45.033112582781456 % complete\n",
      "45.6953642384106 % complete\n",
      "46.35761589403973 % complete\n",
      "47.019867549668874 % complete\n",
      "47.682119205298015 % complete\n",
      "48.34437086092715 % complete\n",
      "49.00662251655629 % complete\n",
      "49.66887417218543 % complete\n",
      "50.33112582781457 % complete\n",
      "50.99337748344371 % complete\n",
      "51.65562913907285 % complete\n",
      "52.317880794701985 % complete\n",
      "52.980132450331126 % complete\n",
      "53.64238410596027 % complete\n",
      "54.3046357615894 % complete\n",
      "54.966887417218544 % complete\n",
      "55.629139072847686 % complete\n",
      "56.29139072847682 % complete\n",
      "56.95364238410596 % complete\n",
      "57.615894039735096 % complete\n",
      "58.27814569536424 % complete\n",
      "58.94039735099338 % complete\n",
      "59.602649006622514 % complete\n",
      "60.264900662251655 % complete\n",
      "60.9271523178808 % complete\n",
      "61.58940397350993 % complete\n",
      "62.25165562913907 % complete\n",
      "62.913907284768214 % complete\n",
      "63.57615894039735 % complete\n",
      "64.23841059602648 % complete\n",
      "64.90066225165563 % complete\n",
      "65.56291390728477 % complete\n",
      "66.2251655629139 % complete\n",
      "66.88741721854305 % complete\n",
      "67.54966887417218 % complete\n",
      "68.21192052980132 % complete\n",
      "68.87417218543047 % complete\n",
      "69.5364238410596 % complete\n",
      "70.19867549668874 % complete\n",
      "70.86092715231788 % complete\n",
      "71.52317880794702 % complete\n",
      "72.18543046357615 % complete\n",
      "72.8476821192053 % complete\n",
      "73.50993377483444 % complete\n",
      "74.17218543046357 % complete\n",
      "74.83443708609272 % complete\n",
      "75.49668874172185 % complete\n",
      "76.15894039735099 % complete\n",
      "76.82119205298014 % complete\n",
      "77.48344370860927 % complete\n",
      "78.1456953642384 % complete\n",
      "78.80794701986756 % complete\n",
      "79.47019867549669 % complete\n",
      "80.13245033112582 % complete\n",
      "80.79470198675497 % complete\n",
      "81.45695364238411 % complete\n",
      "82.11920529801324 % complete\n",
      "82.78145695364239 % complete\n",
      "83.44370860927152 % complete\n",
      "84.10596026490066 % complete\n",
      "84.76821192052981 % complete\n",
      "85.43046357615894 % complete\n",
      "86.09271523178808 % complete\n",
      "86.75496688741723 % complete\n",
      "87.41721854304636 % complete\n",
      "88.0794701986755 % complete\n",
      "88.74172185430463 % complete\n",
      "89.40397350993378 % complete\n",
      "90.06622516556291 % complete\n",
      "90.72847682119205 % complete\n",
      "91.3907284768212 % complete\n",
      "92.05298013245033 % complete\n",
      "92.71523178807946 % complete\n",
      "93.37748344370861 % complete\n",
      "94.03973509933775 % complete\n",
      "94.70198675496688 % complete\n",
      "95.36423841059603 % complete\n",
      "96.02649006622516 % complete\n",
      "96.6887417218543 % complete\n",
      "97.35099337748345 % complete\n",
      "98.01324503311258 % complete\n",
      "98.67549668874172 % complete\n",
      "99.33774834437087 % complete\n"
     ]
    }
   ],
   "source": [
    "# Daily Data\n",
    "\n",
    "for i in range(len(dates)):\n",
    "    wind_eastward = ds['u'][i] # wind_eastward\n",
    "    wind_northward = ds['v'][i] # wind_northward\n",
    "    # potential_vorticity = ds['pv'][i] # potential_vorticity\n",
    "    # mass_fraction_o3 = ds['o3'][i] # mass_fraction_o3\n",
    "    # divergence_of_wind = ds['d'][i] # divergence_of_wind\n",
    "    # temperature = ds['t'][i] # temperature\n",
    "    # vertical_velocity = ds['w'][i] # vertical_velocity\n",
    "\n",
    "    np.savez_compressed(f\"pre_processed_era5_online/COMPRESSED/WIND_EASTWARD/{dates[i].strftime(('%Y-%m-%d'))}.npz\", wind_eastward)\n",
    "    np.savez_compressed(f\"pre_processed_era5_online/COMPRESSED/WIND_NORTHWARD/{dates[i].strftime(('%Y-%m-%d'))}.npz\", wind_northward)\n",
    "\n",
    "    # np.savez_compressed(f\"pre_processed_era5_online/COMPRESSED/POTENTIAL_VORTICITY/{dates[i].strftime(('%Y-%m-%d'))}\", potential_vorticity)\n",
    "    # np.savez_compressed(f\"pre_processed_era5_online/COMPRESSED/MASS_FRACTION_o3/{dates[i].strftime(('%Y-%m-%d'))}\", mass_fraction_o3)\n",
    "    # np.savez_compressed(f\"pre_processed_era5_online/COMPRESSED/DIVERGENCE_OF_WIND/{dates[i].strftime(('%Y-%m-%d'))}\", divergence_of_wind)\n",
    "    # np.savez_compressed(f\"pre_processed_era5_online/COMPRESSED/TEMPERATURE/{dates[i].strftime(('%Y-%m-%d'))}.npz\", temperature)\n",
    "    # np.savez_compressed(f\"pre_processed_era5_online/COMPRESSED/VERTICAL_VELOCITY/{dates[i].strftime(('%Y-%m-%d'))}\", vertical_velocity)\n",
    "\n",
    "    print((100*i)/len(dates), \"% complete\")\n",
    "\n"
   ]
  },
  {
   "cell_type": "code",
   "execution_count": 13,
   "metadata": {},
   "outputs": [
    {
     "data": {
      "text/plain": [
       "(181, 1440)"
      ]
     },
     "execution_count": 13,
     "metadata": {},
     "output_type": "execute_result"
    }
   ],
   "source": [
    "np.shape(wind_eastward)"
   ]
  },
  {
   "cell_type": "code",
   "execution_count": null,
   "metadata": {},
   "outputs": [],
   "source": []
  }
 ],
 "metadata": {
  "kernelspec": {
   "display_name": "Python 3.9.16 ('main_fyp_env')",
   "language": "python",
   "name": "python3"
  },
  "language_info": {
   "codemirror_mode": {
    "name": "ipython",
    "version": 3
   },
   "file_extension": ".py",
   "mimetype": "text/x-python",
   "name": "python",
   "nbconvert_exporter": "python",
   "pygments_lexer": "ipython3",
   "version": "3.9.16"
  },
  "orig_nbformat": 4,
  "vscode": {
   "interpreter": {
    "hash": "8884dac054093db9aae4f55b239dc4d3884458936f39f31cf0f95408e834f664"
   }
  }
 },
 "nbformat": 4,
 "nbformat_minor": 2
}
