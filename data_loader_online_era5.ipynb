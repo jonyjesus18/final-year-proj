{
 "cells": [
  {
   "cell_type": "markdown",
   "metadata": {},
   "source": [
    "<h1>Splitting data from an ERA5 download file</h1>\n",
    "<p>ERA5 files come in .nc files, this script slices the data and saves it into .npz files for easy use</P>"
   ]
  },
  {
   "cell_type": "code",
   "execution_count": 1,
   "metadata": {},
   "outputs": [
    {
     "name": "stderr",
     "output_type": "stream",
     "text": [
      "/Users/joaojesus/opt/anaconda3/envs/main_fyp_env/lib/python3.9/site-packages/paramiko/transport.py:219: CryptographyDeprecationWarning: Blowfish has been deprecated\n",
      "  \"class\": algorithms.Blowfish,\n"
     ]
    }
   ],
   "source": [
    "import pysftp\n",
    "import os \n",
    "import numpy as np\n",
    "import pandas as pd\n",
    "import netCDF4\n",
    "import numpy as np\n",
    "\n",
    "from scipy import io\n",
    "from classes.matlab_reader import matlab_reader\n",
    "from classes.grid_funcs import map_grid,dataset,data_wizard\n",
    "from dotenv import load_dotenv   #for python-dotenv method\n",
    "from datetime import datetime\n"
   ]
  },
  {
   "cell_type": "code",
   "execution_count": 12,
   "metadata": {},
   "outputs": [
    {
     "data": {
      "text/plain": [
       "{2002: 31}"
      ]
     },
     "execution_count": 12,
     "metadata": {},
     "output_type": "execute_result"
    }
   ],
   "source": [
    "import calendar\n",
    "\n",
    "years = [year for year in [2002]]\n",
    "months = [3]\n",
    "\n",
    "\n",
    "dates = []\n",
    "year_days_dict = {}\n",
    "for year in years:\n",
    "    days_per_month = []\n",
    "    for month in months:\n",
    "        days_in_month = calendar.monthrange(year, month)[1]\n",
    "        days_per_month.append(days_in_month)\n",
    "        total_days = sum(days_per_month)\n",
    "        year_days_dict[year] = total_days\n",
    "\n",
    "        for day in range(1, days_in_month + 1):\n",
    "        # Create date object for the current day\n",
    "            date_str = f'{day}/{month}/{year}'\n",
    "            date_obj = datetime.strptime(date_str,'%d/%m/%Y')\n",
    "                # Add the date object to the list\n",
    "            dates.append(date_obj)\n",
    "\n",
    "\n",
    "year_days_dict"
   ]
  },
  {
   "cell_type": "code",
   "execution_count": 13,
   "metadata": {},
   "outputs": [],
   "source": [
    "# load file\n",
    "ds = netCDF4.Dataset('adaptor.mars.internal-1683831475.8301082-21084-16-7591810b-db39-4307-8241-bd0741656a27.nc')\n",
    "\n",
    "# save latitude array into a csv file \n",
    "np.savetxt(\"coordinates_era5_online/COORDINATES_ERA5_ONLINE_LAT.csv\", ds['latitude'], delimiter=\",\")\n",
    "# save longitude array into a csv file\n",
    "np.savetxt(\"coordinates_era5_online/COORDINATES_ERA5_ONLINE_LON.csv\", ds['longitude'], delimiter=\",\")\n"
   ]
  },
  {
   "cell_type": "code",
   "execution_count": 14,
   "metadata": {},
   "outputs": [
    {
     "name": "stdout",
     "output_type": "stream",
     "text": [
      "0.0 % complete\n",
      "3.225806451612903 % complete\n",
      "6.451612903225806 % complete\n",
      "9.67741935483871 % complete\n",
      "12.903225806451612 % complete\n",
      "16.129032258064516 % complete\n",
      "19.35483870967742 % complete\n",
      "22.580645161290324 % complete\n",
      "25.806451612903224 % complete\n",
      "29.032258064516128 % complete\n",
      "32.25806451612903 % complete\n",
      "35.483870967741936 % complete\n",
      "38.70967741935484 % complete\n",
      "41.935483870967744 % complete\n",
      "45.16129032258065 % complete\n",
      "48.38709677419355 % complete\n",
      "51.61290322580645 % complete\n",
      "54.83870967741935 % complete\n",
      "58.064516129032256 % complete\n",
      "61.29032258064516 % complete\n",
      "64.51612903225806 % complete\n",
      "67.74193548387096 % complete\n",
      "70.96774193548387 % complete\n",
      "74.19354838709677 % complete\n",
      "77.41935483870968 % complete\n",
      "80.64516129032258 % complete\n",
      "83.87096774193549 % complete\n",
      "87.09677419354838 % complete\n",
      "90.3225806451613 % complete\n",
      "93.54838709677419 % complete\n"
     ]
    },
    {
     "ename": "IndexError",
     "evalue": "index exceeds dimension bounds",
     "output_type": "error",
     "traceback": [
      "\u001b[0;31m---------------------------------------------------------------------------\u001b[0m",
      "\u001b[0;31mIndexError\u001b[0m                                Traceback (most recent call last)",
      "Cell \u001b[0;32mIn[14], line 5\u001b[0m\n\u001b[1;32m      1\u001b[0m \u001b[39m# Daily Data\u001b[39;00m\n\u001b[1;32m      3\u001b[0m \u001b[39mfor\u001b[39;00m i \u001b[39min\u001b[39;00m \u001b[39mrange\u001b[39m(\u001b[39mlen\u001b[39m(dates)):\n\u001b[1;32m      4\u001b[0m     \u001b[39m# wind_eastward = ds['u'][i] # wind_eastward\u001b[39;00m\n\u001b[0;32m----> 5\u001b[0m     wind_northward \u001b[39m=\u001b[39m ds[\u001b[39m'\u001b[39;49m\u001b[39mv\u001b[39;49m\u001b[39m'\u001b[39;49m][i] \u001b[39m# wind_northward\u001b[39;00m\n\u001b[1;32m      6\u001b[0m     \u001b[39m# potential_vorticity = ds['pv'][i] # potential_vorticity\u001b[39;00m\n\u001b[1;32m      7\u001b[0m     \u001b[39m# mass_fraction_o3 = ds['o3'][i] # mass_fraction_o3\u001b[39;00m\n\u001b[1;32m      8\u001b[0m     \u001b[39m# divergence_of_wind = ds['d'][i] # divergence_of_wind\u001b[39;00m\n\u001b[0;32m   (...)\u001b[0m\n\u001b[1;32m     11\u001b[0m \n\u001b[1;32m     12\u001b[0m     \u001b[39m# np.savez_compressed(f\"pre_processed_era5_online/COMPRESSED/WIND_EASTWARD/{dates[i].strftime(('%Y-%m-%d'))}.npz\", wind_eastward)\u001b[39;00m\n\u001b[1;32m     13\u001b[0m     np\u001b[39m.\u001b[39msavez_compressed(\u001b[39mf\u001b[39m\u001b[39m\"\u001b[39m\u001b[39mpre_processed_era5_online/COMPRESSED/WIND_NORTHWARD/\u001b[39m\u001b[39m{\u001b[39;00mdates[i]\u001b[39m.\u001b[39mstrftime((\u001b[39m'\u001b[39m\u001b[39m%\u001b[39m\u001b[39mY-\u001b[39m\u001b[39m%\u001b[39m\u001b[39mm-\u001b[39m\u001b[39m%d\u001b[39;00m\u001b[39m'\u001b[39m))\u001b[39m}\u001b[39;00m\u001b[39m.npz\u001b[39m\u001b[39m\"\u001b[39m, wind_northward)\n",
      "File \u001b[0;32msrc/netCDF4/_netCDF4.pyx:4973\u001b[0m, in \u001b[0;36mnetCDF4._netCDF4.Variable.__getitem__\u001b[0;34m()\u001b[0m\n",
      "File \u001b[0;32msrc/netCDF4/_netCDF4.pyx:5928\u001b[0m, in \u001b[0;36mnetCDF4._netCDF4.Variable._get\u001b[0;34m()\u001b[0m\n",
      "\u001b[0;31mIndexError\u001b[0m: index exceeds dimension bounds"
     ]
    }
   ],
   "source": [
    "# Daily Data\n",
    "\n",
    "for i in range(len(dates)):\n",
    "    # wind_eastward = ds['u'][i] # wind_eastward\n",
    "    wind_northward = ds['v'][i] # wind_northward\n",
    "    # potential_vorticity = ds['pv'][i] # potential_vorticity\n",
    "    # mass_fraction_o3 = ds['o3'][i] # mass_fraction_o3\n",
    "    # divergence_of_wind = ds['d'][i] # divergence_of_wind\n",
    "    # temperature = ds['t'][i] # temperature\n",
    "    # vertical_velocity = ds['w'][i] # vertical_velocity\n",
    "\n",
    "    # np.savez_compressed(f\"pre_processed_era5_online/COMPRESSED/WIND_EASTWARD/{dates[i].strftime(('%Y-%m-%d'))}.npz\", wind_eastward)\n",
    "    np.savez_compressed(f\"pre_processed_era5_online/COMPRESSED/WIND_NORTHWARD/{dates[i].strftime(('%Y-%m-%d'))}.npz\", wind_northward)\n",
    "\n",
    "    # np.savez_compressed(f\"pre_processed_era5_online/COMPRESSED/POTENTIAL_VORTICITY/{dates[i].strftime(('%Y-%m-%d'))}\", potential_vorticity)\n",
    "    # np.savez_compressed(f\"pre_processed_era5_online/COMPRESSED/MASS_FRACTION_o3/{dates[i].strftime(('%Y-%m-%d'))}\", mass_fraction_o3)\n",
    "    # np.savez_compressed(f\"pre_processed_era5_online/COMPRESSED/DIVERGENCE_OF_WIND/{dates[i].strftime(('%Y-%m-%d'))}\", divergence_of_wind)\n",
    "    # np.savez_compressed(f\"pre_processed_era5_online/COMPRESSED/TEMPERATURE/{dates[i].strftime(('%Y-%m-%d'))}.npz\", temperature)\n",
    "    # np.savez_compressed(f\"pre_processed_era5_online/COMPRESSED/VERTICAL_VELOCITY/{dates[i].strftime(('%Y-%m-%d'))}\", vertical_velocity)\n",
    "\n",
    "    print((100*i)/len(dates), \"% complete\")\n",
    "\n"
   ]
  },
  {
   "cell_type": "code",
   "execution_count": 13,
   "metadata": {},
   "outputs": [
    {
     "data": {
      "text/plain": [
       "(181, 1440)"
      ]
     },
     "execution_count": 13,
     "metadata": {},
     "output_type": "execute_result"
    }
   ],
   "source": [
    "np.shape(wind_eastward)"
   ]
  },
  {
   "cell_type": "code",
   "execution_count": null,
   "metadata": {},
   "outputs": [],
   "source": []
  }
 ],
 "metadata": {
  "kernelspec": {
   "display_name": "Python 3.9.16 ('main_fyp_env')",
   "language": "python",
   "name": "python3"
  },
  "language_info": {
   "codemirror_mode": {
    "name": "ipython",
    "version": 3
   },
   "file_extension": ".py",
   "mimetype": "text/x-python",
   "name": "python",
   "nbconvert_exporter": "python",
   "pygments_lexer": "ipython3",
   "version": "3.9.16"
  },
  "orig_nbformat": 4,
  "vscode": {
   "interpreter": {
    "hash": "8884dac054093db9aae4f55b239dc4d3884458936f39f31cf0f95408e834f664"
   }
  }
 },
 "nbformat": 4,
 "nbformat_minor": 2
}
