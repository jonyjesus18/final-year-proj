{
 "cells": [
  {
   "cell_type": "code",
   "execution_count": null,
   "metadata": {},
   "outputs": [],
   "source": [
    "import pysftp\n",
    "import os \n",
    "import numpy as np\n",
    "import pandas as pd\n",
    "import netCDF4\n",
    "import numpy as np\n",
    "\n",
    "from scipy import io\n",
    "from classes.matlab_reader import matlab_reader\n",
    "from classes.grid_funcs import map_grid,dataset,data_wizard\n",
    "from dotenv import load_dotenv   #for python-dotenv method\n",
    "from datetime import datetime"
   ]
  },
  {
   "cell_type": "code",
   "execution_count": null,
   "metadata": {},
   "outputs": [],
   "source": [
    "ds = netCDF4.Dataset(file_name)\n",
    "\n",
    "hour = 3\n",
    "level = 100\n",
    "\n",
    "wind_northward = ds['v'][hour][level]# nortward\n",
    "wind_eastward = ds['u'][hour][level] # eastward\n",
    "temperature = ds['t'][hour][level]\n",
    "\n",
    "lat = np.genfromtxt(f'COORDINATES_ERA/COORDINATES_ERA5_LAT.csv', delimiter=',')\n",
    "lon = np.genfromtxt(f'COORDINATES_ERA/COORDINATES_ERA5_LON.csv', delimiter=',')\n",
    "grid_ = np.meshgrid(lon,lat)"
   ]
  }
 ],
 "metadata": {
  "kernelspec": {
   "display_name": "Python 3.10.8 ('fyp_env': venv)",
   "language": "python",
   "name": "python3"
  },
  "language_info": {
   "name": "python",
   "version": "3.10.8"
  },
  "orig_nbformat": 4,
  "vscode": {
   "interpreter": {
    "hash": "69000bcf4096880489a1f883c0c935d5e60bfa1c9d3018250aeac379830091d7"
   }
  }
 },
 "nbformat": 4,
 "nbformat_minor": 2
}
