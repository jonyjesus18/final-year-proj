{
 "cells": [
  {
   "cell_type": "markdown",
   "metadata": {},
   "source": [
    "<h1>Creating a climatology for the AIRS data</h1>\n",
    "<h4>Momentum Flux (mfx) at 30hpa for Months October-March across are 2002, 2005, 2011, 2012, 2014, 2015, 2016, 2017, 2019, 2020, 2021 and 2022</h4>\n",
    "<p> To better understand the atmospheric processes and variability, it is essential to create a climatology of the relevant data. For the AIRS (Atmospheric Infrared Sounder) dataset, a climatology can be developed by averaging the data over several years, considering the seasonal and interannual variations.\n",
    "\n",
    "One important consideration is the impact of seasonal variations on the vortex. To address this, a subtraction method can be employed. For instance, in the case of an SSW (Sudden Stratospheric Warming) event, the days leading up to the central warming date in the current year's time series and the corresponding days before the date in the climatology time series are subtracted. This step helps account for seasonal variations in the vortex.\n",
    "\n",
    "Overall, creating a climatology for the AIRS data can provide valuable insights into the atmospheric processes and improve our ability to model and predict weather patterns.</p>"
   ]
  },
  {
   "cell_type": "code",
   "execution_count": 7,
   "metadata": {},
   "outputs": [
    {
     "ename": "ModuleNotFoundError",
     "evalue": "No module named 'scipy'",
     "output_type": "error",
     "traceback": [
      "\u001b[0;31m---------------------------------------------------------------------------\u001b[0m",
      "\u001b[0;31mModuleNotFoundError\u001b[0m                       Traceback (most recent call last)",
      "Cell \u001b[0;32mIn [7], line 4\u001b[0m\n\u001b[1;32m      2\u001b[0m \u001b[39mimport\u001b[39;00m \u001b[39mnumpy\u001b[39;00m \u001b[39mas\u001b[39;00m \u001b[39mnp\u001b[39;00m\n\u001b[1;32m      3\u001b[0m \u001b[39mfrom\u001b[39;00m \u001b[39mdatetime\u001b[39;00m \u001b[39mimport\u001b[39;00m datetime, timedelta\n\u001b[0;32m----> 4\u001b[0m \u001b[39mfrom\u001b[39;00m \u001b[39mclasses\u001b[39;00m\u001b[39m.\u001b[39;00m\u001b[39mmatlab_reader\u001b[39;00m \u001b[39mimport\u001b[39;00m matlab_reader\n\u001b[1;32m      5\u001b[0m \u001b[39mfrom\u001b[39;00m \u001b[39mclasses\u001b[39;00m\u001b[39m.\u001b[39;00m\u001b[39mgrid_funcs\u001b[39;00m \u001b[39mimport\u001b[39;00m map_grid,dataset,data_wizard\n\u001b[1;32m      6\u001b[0m \u001b[39mfrom\u001b[39;00m \u001b[39mdatetime\u001b[39;00m \u001b[39mimport\u001b[39;00m datetime\n",
      "File \u001b[0;32m~/Desktop/final_year_proj/classes/matlab_reader.py:1\u001b[0m\n\u001b[0;32m----> 1\u001b[0m \u001b[39mfrom\u001b[39;00m \u001b[39mscipy\u001b[39;00m \u001b[39mimport\u001b[39;00m io\n\u001b[1;32m      2\u001b[0m \u001b[39mimport\u001b[39;00m \u001b[39mnumpy\u001b[39;00m \u001b[39mas\u001b[39;00m \u001b[39mnp\u001b[39;00m\n\u001b[1;32m      3\u001b[0m \u001b[39mimport\u001b[39;00m \u001b[39mpandas\u001b[39;00m \u001b[39mas\u001b[39;00m \u001b[39mpd\u001b[39;00m\n",
      "\u001b[0;31mModuleNotFoundError\u001b[0m: No module named 'scipy'"
     ]
    }
   ],
   "source": [
    "import os\n",
    "import numpy as np\n",
    "from datetime import datetime, timedelta\n",
    "from classes.matlab_reader import matlab_reader\n",
    "from classes.grid_funcs import map_grid,dataset,data_wizard\n",
    "from datetime import datetime"
   ]
  },
  {
   "cell_type": "code",
   "execution_count": 1,
   "metadata": {},
   "outputs": [
    {
     "name": "stderr",
     "output_type": "stream",
     "text": [
      "/var/folders/p6/325r0tsd2cd1jddpt9nd70hm0000gn/T/ipykernel_64333/4294738743.py:26: RuntimeWarning: Mean of empty slice\n",
      "  daily_average = np.nanmean(daily_data, axis=0)\n"
     ]
    }
   ],
   "source": [
    "\n",
    "# Define the path to the directory containing the files\n",
    "directory = '/Users/joaojesus/Desktop/final_year_proj/processed_airs_sftp/40_km_grid/30km/mfx'\n",
    "\n",
    "# Define the years and months to include\n",
    "# years = [2002, 2005, 2011, 2012, 2014, 2015, 2016, 2017, 2019, 2020, 2021, 2022]\n",
    "years = [2002, 2005, 2011, 2012, 2014, 2015]\n",
    "months = ['10', '11', '12', '01', '02', '03']\n",
    "\n",
    "# Loop through the files and calculate the daily averages\n",
    "daily_averages = {}\n",
    "for month in months:\n",
    "    for day in range(1, 32):\n",
    "        date_str = f'{month}-{day:02d}'\n",
    "        daily_data = []\n",
    "        for year in years:\n",
    "            filename = f'{year}-{date_str}_mfx.npz'\n",
    "            file_path = os.path.join(directory, filename)\n",
    "            if os.path.exists(file_path):\n",
    "                data = np.load(file_path)['arr_0']\n",
    "                daily_data.append(data)\n",
    "        if daily_data:\n",
    "            daily_average = np.nanmean(daily_data, axis=0)\n",
    "            daily_averages[date_str] = daily_average\n",
    "\n",
    "# Save the daily averages to a file\n",
    "for date_str, daily_average in daily_averages.items():\n",
    "    np.savez(f'climatology/airs/30km/mfx/{date_str}_daily_average.npz', daily_average)\n"
   ]
  },
  {
   "cell_type": "code",
   "execution_count": 3,
   "metadata": {},
   "outputs": [
    {
     "data": {
      "text/plain": [
       "-0.00017582962012326793"
      ]
     },
     "execution_count": 3,
     "metadata": {},
     "output_type": "execute_result"
    }
   ],
   "source": [
    "np.nanmean(daily_average)"
   ]
  },
  {
   "cell_type": "code",
   "execution_count": 26,
   "metadata": {},
   "outputs": [
    {
     "name": "stderr",
     "output_type": "stream",
     "text": [
      "/var/folders/p6/325r0tsd2cd1jddpt9nd70hm0000gn/T/ipykernel_12067/213814984.py:3: RuntimeWarning: Mean of empty slice\n",
      "  daily_average = np.nanmean(values, axis=0)\n"
     ]
    }
   ],
   "source": [
    "# Calculate the daily averages and save to a file\n",
    "for date, values in daily_averages.items():\n",
    "    daily_average = np.nanmean(values, axis=0)\n",
    "    np.savez(f'climatology/airs/30km/mfx/{date}_daily_average.npz', daily_average)"
   ]
  },
  {
   "cell_type": "code",
   "execution_count": 17,
   "metadata": {},
   "outputs": [],
   "source": [
    "# load an example daily average file\n",
    "data = np.load('climatology/airs/30km/mfx/2012-10-01_daily_average.npz')['arr_0']"
   ]
  },
  {
   "cell_type": "code",
   "execution_count": 18,
   "metadata": {},
   "outputs": [],
   "source": [
    "np.nanmean(data)\n",
    "\n",
    "def get_day_array(date_string = \"2018-02-11\", days = 9):\n",
    "    date = datetime.strptime(date_string, \"%Y-%m-%d\")\n",
    "    dates = []\n",
    "    for i in range(days):\n",
    "        previous_date = date - timedelta(days=i+1)\n",
    "        dates.append(previous_date.strftime(\"%Y-%m-%d\")) \n",
    "    dates.reverse()\n",
    "    return dates"
   ]
  },
  {
   "cell_type": "code",
   "execution_count": 36,
   "metadata": {},
   "outputs": [],
   "source": [
    "days = 8\n",
    "dates = get_day_array(date_string=\"2009-01-26\",days=days)\n",
    "\n",
    "data_dict = {}\n",
    "for i in range(days):\n",
    "    data = np.load(f'climatology/airs/30km/mfx/{dates[i]}_daily_average.npz')['arr_0']\n",
    "    data_climatological_mean = np.load(f'climatology/airs/30km/mfx/{dates[i][5:]}_daily_average.npz')['arr_0']\n",
    "    perturbation = data - data_climatological_mean\n",
    "    data_dict[f\"data_{i+1}\"] = data\n"
   ]
  },
  {
   "cell_type": "code",
   "execution_count": 1,
   "metadata": {},
   "outputs": [],
   "source": [
    "file_path = f'climatology/airs/30km/mfx/'"
   ]
  },
  {
   "cell_type": "code",
   "execution_count": 5,
   "metadata": {},
   "outputs": [],
   "source": [
    "files = os.listdir(file_path)\n",
    "files.sort()\n",
    "\n",
    "grid = map_grid(grid_size='40', source='airs')\n",
    "wizard = data_wizard()\n",
    "\n",
    "cos_lat = np.cos(np.deg2rad(grid.nh_lat))\n",
    "select_area_indexer = grid.select_area_indexer(min_lat= 55,max_lat= 65,min_lon= -180,max_lon= 180)\n"
   ]
  },
  {
   "cell_type": "code",
   "execution_count": 6,
   "metadata": {},
   "outputs": [
    {
     "data": {
      "text/plain": [
       "['.DS_Store',\n",
       " '01-01_daily_average.npz',\n",
       " '01-02_daily_average.npz',\n",
       " '01-03_daily_average.npz',\n",
       " '01-04_daily_average.npz',\n",
       " '01-05_daily_average.npz',\n",
       " '01-06_daily_average.npz',\n",
       " '01-07_daily_average.npz',\n",
       " '01-08_daily_average.npz',\n",
       " '01-09_daily_average.npz',\n",
       " '01-10_daily_average.npz',\n",
       " '01-11_daily_average.npz',\n",
       " '01-12_daily_average.npz',\n",
       " '01-13_daily_average.npz',\n",
       " '01-14_daily_average.npz',\n",
       " '01-15_daily_average.npz',\n",
       " '01-16_daily_average.npz',\n",
       " '01-17_daily_average.npz',\n",
       " '01-18_daily_average.npz',\n",
       " '01-19_daily_average.npz',\n",
       " '01-20_daily_average.npz',\n",
       " '01-21_daily_average.npz',\n",
       " '01-22_daily_average.npz',\n",
       " '01-23_daily_average.npz',\n",
       " '01-24_daily_average.npz',\n",
       " '01-25_daily_average.npz',\n",
       " '01-26_daily_average.npz',\n",
       " '01-27_daily_average.npz',\n",
       " '01-28_daily_average.npz',\n",
       " '01-29_daily_average.npz',\n",
       " '01-30_daily_average.npz',\n",
       " '01-31_daily_average.npz',\n",
       " '02-01_daily_average.npz',\n",
       " '02-02_daily_average.npz',\n",
       " '02-03_daily_average.npz',\n",
       " '02-04_daily_average.npz',\n",
       " '02-05_daily_average.npz',\n",
       " '02-06_daily_average.npz',\n",
       " '02-07_daily_average.npz',\n",
       " '02-08_daily_average.npz',\n",
       " '02-09_daily_average.npz',\n",
       " '02-10_daily_average.npz',\n",
       " '02-11_daily_average.npz',\n",
       " '02-12_daily_average.npz',\n",
       " '02-13_daily_average.npz',\n",
       " '02-14_daily_average.npz',\n",
       " '02-15_daily_average.npz',\n",
       " '02-16_daily_average.npz',\n",
       " '02-17_daily_average.npz',\n",
       " '02-18_daily_average.npz',\n",
       " '02-19_daily_average.npz',\n",
       " '02-20_daily_average.npz',\n",
       " '02-21_daily_average.npz',\n",
       " '02-22_daily_average.npz',\n",
       " '02-23_daily_average.npz',\n",
       " '02-24_daily_average.npz',\n",
       " '02-25_daily_average.npz',\n",
       " '02-26_daily_average.npz',\n",
       " '02-27_daily_average.npz',\n",
       " '02-28_daily_average.npz',\n",
       " '02-29_daily_average.npz',\n",
       " '03-01_daily_average.npz',\n",
       " '03-02_daily_average.npz',\n",
       " '03-03_daily_average.npz',\n",
       " '03-04_daily_average.npz',\n",
       " '03-05_daily_average.npz',\n",
       " '03-06_daily_average.npz',\n",
       " '03-07_daily_average.npz',\n",
       " '03-08_daily_average.npz',\n",
       " '03-09_daily_average.npz',\n",
       " '03-10_daily_average.npz',\n",
       " '03-11_daily_average.npz',\n",
       " '03-12_daily_average.npz',\n",
       " '03-13_daily_average.npz',\n",
       " '03-14_daily_average.npz',\n",
       " '03-15_daily_average.npz',\n",
       " '03-16_daily_average.npz',\n",
       " '03-17_daily_average.npz',\n",
       " '03-18_daily_average.npz',\n",
       " '03-19_daily_average.npz',\n",
       " '03-20_daily_average.npz',\n",
       " '03-21_daily_average.npz',\n",
       " '03-22_daily_average.npz',\n",
       " '03-23_daily_average.npz',\n",
       " '03-24_daily_average.npz',\n",
       " '03-25_daily_average.npz',\n",
       " '03-26_daily_average.npz',\n",
       " '03-27_daily_average.npz',\n",
       " '03-28_daily_average.npz',\n",
       " '03-29_daily_average.npz',\n",
       " '03-30_daily_average.npz',\n",
       " '03-31_daily_average.npz',\n",
       " '10-01_daily_average.npz',\n",
       " '10-02_daily_average.npz',\n",
       " '10-03_daily_average.npz',\n",
       " '10-04_daily_average.npz',\n",
       " '10-05_daily_average.npz',\n",
       " '10-06_daily_average.npz',\n",
       " '10-07_daily_average.npz',\n",
       " '10-08_daily_average.npz',\n",
       " '10-09_daily_average.npz',\n",
       " '10-10_daily_average.npz',\n",
       " '10-11_daily_average.npz',\n",
       " '10-12_daily_average.npz',\n",
       " '10-13_daily_average.npz',\n",
       " '10-14_daily_average.npz',\n",
       " '10-15_daily_average.npz',\n",
       " '10-16_daily_average.npz',\n",
       " '10-17_daily_average.npz',\n",
       " '10-18_daily_average.npz',\n",
       " '10-19_daily_average.npz',\n",
       " '10-20_daily_average.npz',\n",
       " '10-21_daily_average.npz',\n",
       " '10-22_daily_average.npz',\n",
       " '10-23_daily_average.npz',\n",
       " '10-24_daily_average.npz',\n",
       " '10-25_daily_average.npz',\n",
       " '10-26_daily_average.npz',\n",
       " '10-27_daily_average.npz',\n",
       " '10-28_daily_average.npz',\n",
       " '10-29_daily_average.npz',\n",
       " '10-30_daily_average.npz',\n",
       " '10-31_daily_average.npz',\n",
       " '11-01_daily_average.npz',\n",
       " '11-02_daily_average.npz',\n",
       " '11-03_daily_average.npz',\n",
       " '11-04_daily_average.npz',\n",
       " '11-05_daily_average.npz',\n",
       " '11-06_daily_average.npz',\n",
       " '11-07_daily_average.npz',\n",
       " '11-08_daily_average.npz',\n",
       " '11-09_daily_average.npz',\n",
       " '11-10_daily_average.npz',\n",
       " '11-11_daily_average.npz',\n",
       " '11-12_daily_average.npz',\n",
       " '11-13_daily_average.npz',\n",
       " '11-14_daily_average.npz',\n",
       " '11-15_daily_average.npz',\n",
       " '11-16_daily_average.npz',\n",
       " '11-17_daily_average.npz',\n",
       " '11-18_daily_average.npz',\n",
       " '11-19_daily_average.npz',\n",
       " '11-20_daily_average.npz',\n",
       " '11-21_daily_average.npz',\n",
       " '11-22_daily_average.npz',\n",
       " '11-23_daily_average.npz',\n",
       " '11-24_daily_average.npz',\n",
       " '11-25_daily_average.npz',\n",
       " '11-26_daily_average.npz',\n",
       " '11-27_daily_average.npz',\n",
       " '11-28_daily_average.npz',\n",
       " '11-29_daily_average.npz',\n",
       " '11-30_daily_average.npz',\n",
       " '12-01_daily_average.npz',\n",
       " '12-02_daily_average.npz',\n",
       " '12-03_daily_average.npz',\n",
       " '12-04_daily_average.npz',\n",
       " '12-05_daily_average.npz',\n",
       " '12-06_daily_average.npz',\n",
       " '12-07_daily_average.npz',\n",
       " '12-08_daily_average.npz',\n",
       " '12-09_daily_average.npz',\n",
       " '12-10_daily_average.npz',\n",
       " '12-11_daily_average.npz',\n",
       " '12-12_daily_average.npz',\n",
       " '12-13_daily_average.npz',\n",
       " '12-14_daily_average.npz',\n",
       " '12-15_daily_average.npz',\n",
       " '12-16_daily_average.npz',\n",
       " '12-17_daily_average.npz',\n",
       " '12-18_daily_average.npz',\n",
       " '12-19_daily_average.npz',\n",
       " '12-20_daily_average.npz',\n",
       " '12-21_daily_average.npz',\n",
       " '12-22_daily_average.npz',\n",
       " '12-23_daily_average.npz',\n",
       " '12-24_daily_average.npz',\n",
       " '12-25_daily_average.npz',\n",
       " '12-26_daily_average.npz',\n",
       " '12-27_daily_average.npz',\n",
       " '12-28_daily_average.npz',\n",
       " '12-29_daily_average.npz',\n",
       " '12-30_daily_average.npz',\n",
       " '12-31_daily_average.npz']"
      ]
     },
     "execution_count": 6,
     "metadata": {},
     "output_type": "execute_result"
    }
   ],
   "source": [
    "for file in files:\n",
    "    if file.endswith(\".npz\"):\n",
    "\n",
    "        data = np.load(f'processed_airs_sftp/40_km_grid/30km/mfx/{file}\")['arr_0']\n",
    "        data_filtered = wizard.data_filtering(select_area_indexer = select_area_indexer ,data = data) \n",
    "\n",
    "# Load data\n",
    "wizard = data_wizard()\n",
    "\n",
    "cos_lat = np.cos(np.deg2rad(grid.nh_lat))\n"
   ]
  },
  {
   "cell_type": "code",
   "execution_count": null,
   "metadata": {},
   "outputs": [],
   "source": []
  }
 ],
 "metadata": {
  "kernelspec": {
   "display_name": "Python 3.10.8 64-bit",
   "language": "python",
   "name": "python3"
  },
  "language_info": {
   "codemirror_mode": {
    "name": "ipython",
    "version": 3
   },
   "file_extension": ".py",
   "mimetype": "text/x-python",
   "name": "python",
   "nbconvert_exporter": "python",
   "pygments_lexer": "ipython3",
   "version": "3.10.8"
  },
  "orig_nbformat": 4,
  "vscode": {
   "interpreter": {
    "hash": "aee8b7b246df8f9039afb4144a1f6fd8d2ca17a180786b69acc140d282b71a49"
   }
  }
 },
 "nbformat": 4,
 "nbformat_minor": 2
}
