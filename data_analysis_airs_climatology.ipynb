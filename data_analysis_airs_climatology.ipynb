{
 "cells": [
  {
   "cell_type": "markdown",
   "metadata": {},
   "source": [
    "<h1>Creating a climatology for the AIRS data</h1>\n",
    "<h4>Momentum Flux (mfx) at 30hpa for Months October-March across are 2002, 2005, 2011, 2012, 2014, 2015, 2016, 2017, 2019, 2020, 2021 and 2022</h4>\n",
    "<p> To better understand the atmospheric processes and variability, it is essential to create a climatology of the relevant data. For the AIRS (Atmospheric Infrared Sounder) dataset, a climatology can be developed by averaging the data over several years, considering the seasonal and interannual variations.\n",
    "\n",
    "One important consideration is the impact of seasonal variations on the vortex. To address this, a subtraction method can be employed. For instance, in the case of an SSW (Sudden Stratospheric Warming) event, the days leading up to the central warming date in the current year's time series and the corresponding days before the date in the climatology time series are subtracted. This step helps account for seasonal variations in the vortex.\n",
    "\n",
    "Overall, creating a climatology for the AIRS data can provide valuable insights into the atmospheric processes and improve our ability to model and predict weather patterns.</p>"
   ]
  },
  {
   "cell_type": "code",
   "execution_count": 1,
   "metadata": {},
   "outputs": [
    {
     "name": "stderr",
     "output_type": "stream",
     "text": [
      "/var/folders/p6/325r0tsd2cd1jddpt9nd70hm0000gn/T/ipykernel_64333/4294738743.py:26: RuntimeWarning: Mean of empty slice\n",
      "  daily_average = np.nanmean(daily_data, axis=0)\n"
     ]
    }
   ],
   "source": [
    "import os\n",
    "import numpy as np\n",
    "from datetime import datetime, timedelta\n",
    "\n",
    "# Define the path to the directory containing the files\n",
    "directory = '/Users/joaojesus/Desktop/final_year_proj/processed_airs_sftp/40_km_grid/30km/mfx'\n",
    "\n",
    "# Define the years and months to include\n",
    "# years = [2002, 2005, 2011, 2012, 2014, 2015, 2016, 2017, 2019, 2020, 2021, 2022]\n",
    "years = [2002, 2005, 2011, 2012, 2014, 2015]\n",
    "months = ['10', '11', '12', '01', '02', '03']\n",
    "\n",
    "# Loop through the files and calculate the daily averages\n",
    "daily_averages = {}\n",
    "for month in months:\n",
    "    for day in range(1, 32):\n",
    "        date_str = f'{month}-{day:02d}'\n",
    "        daily_data = []\n",
    "        for year in years:\n",
    "            filename = f'{year}-{date_str}_mfx.npz'\n",
    "            file_path = os.path.join(directory, filename)\n",
    "            if os.path.exists(file_path):\n",
    "                data = np.load(file_path)['arr_0']\n",
    "                daily_data.append(data)\n",
    "        if daily_data:\n",
    "            daily_average = np.nanmean(daily_data, axis=0)\n",
    "            daily_averages[date_str] = daily_average\n",
    "\n",
    "# Save the daily averages to a file\n",
    "for date_str, daily_average in daily_averages.items():\n",
    "    np.savez(f'climatology/airs/30km/mfx/{date_str}_daily_average.npz', daily_average)\n"
   ]
  },
  {
   "cell_type": "code",
   "execution_count": 3,
   "metadata": {},
   "outputs": [
    {
     "data": {
      "text/plain": [
       "-0.00017582962012326793"
      ]
     },
     "execution_count": 3,
     "metadata": {},
     "output_type": "execute_result"
    }
   ],
   "source": [
    "np.nanmean(daily_average)"
   ]
  },
  {
   "cell_type": "code",
   "execution_count": 26,
   "metadata": {},
   "outputs": [
    {
     "name": "stderr",
     "output_type": "stream",
     "text": [
      "/var/folders/p6/325r0tsd2cd1jddpt9nd70hm0000gn/T/ipykernel_12067/213814984.py:3: RuntimeWarning: Mean of empty slice\n",
      "  daily_average = np.nanmean(values, axis=0)\n"
     ]
    }
   ],
   "source": [
    "# Calculate the daily averages and save to a file\n",
    "for date, values in daily_averages.items():\n",
    "    daily_average = np.nanmean(values, axis=0)\n",
    "    np.savez(f'climatology/airs/30km/mfx/{date}_daily_average.npz', daily_average)"
   ]
  },
  {
   "cell_type": "code",
   "execution_count": 17,
   "metadata": {},
   "outputs": [],
   "source": [
    "# load an example daily average file\n",
    "data = np.load('climatology/airs/30km/mfx/2012-10-01_daily_average.npz')['arr_0']"
   ]
  },
  {
   "cell_type": "code",
   "execution_count": 18,
   "metadata": {},
   "outputs": [],
   "source": [
    "np.nanmean(data)\n",
    "\n",
    "def get_day_array(date_string = \"2018-02-11\", days = 9):\n",
    "    date = datetime.strptime(date_string, \"%Y-%m-%d\")\n",
    "    dates = []\n",
    "    for i in range(days):\n",
    "        previous_date = date - timedelta(days=i+1)\n",
    "        dates.append(previous_date.strftime(\"%Y-%m-%d\")) \n",
    "    dates.reverse()\n",
    "    return dates"
   ]
  },
  {
   "cell_type": "code",
   "execution_count": 36,
   "metadata": {},
   "outputs": [],
   "source": [
    "days = 8\n",
    "dates = get_day_array(date_string=\"2009-01-26\",days=days)\n",
    "\n",
    "data_dict = {}\n",
    "for i in range(days):\n",
    "    data = np.load(f'climatology/airs/30km/mfx/{dates[i]}_daily_average.npz')['arr_0']\n",
    "    data_climatological_mean = np.load(f'climatology/airs/30km/mfx/{dates[i][5:]}_daily_average.npz')['arr_0']\n",
    "    perturbation = data - data_climatological_mean\n",
    "    data_dict[f\"data_{i+1}\"] = data\n"
   ]
  },
  {
   "cell_type": "code",
   "execution_count": 33,
   "metadata": {},
   "outputs": [
    {
     "data": {
      "text/plain": [
       "['02', '11']"
      ]
     },
     "execution_count": 33,
     "metadata": {},
     "output_type": "execute_result"
    }
   ],
   "source": []
  },
  {
   "cell_type": "code",
   "execution_count": 31,
   "metadata": {},
   "outputs": [
    {
     "data": {
      "text/plain": [
       "18"
      ]
     },
     "execution_count": 31,
     "metadata": {},
     "output_type": "execute_result"
    }
   ],
   "source": [
    "day"
   ]
  },
  {
   "cell_type": "code",
   "execution_count": 32,
   "metadata": {},
   "outputs": [
    {
     "data": {
      "text/plain": [
       "'2009-01-18'"
      ]
     },
     "execution_count": 32,
     "metadata": {},
     "output_type": "execute_result"
    }
   ],
   "source": [
    "dates[0]"
   ]
  },
  {
   "cell_type": "code",
   "execution_count": null,
   "metadata": {},
   "outputs": [],
   "source": []
  }
 ],
 "metadata": {
  "kernelspec": {
   "display_name": "Python 3.10.8 64-bit",
   "language": "python",
   "name": "python3"
  },
  "language_info": {
   "codemirror_mode": {
    "name": "ipython",
    "version": 3
   },
   "file_extension": ".py",
   "mimetype": "text/x-python",
   "name": "python",
   "nbconvert_exporter": "python",
   "pygments_lexer": "ipython3",
   "version": "3.10.8"
  },
  "orig_nbformat": 4,
  "vscode": {
   "interpreter": {
    "hash": "aee8b7b246df8f9039afb4144a1f6fd8d2ca17a180786b69acc140d282b71a49"
   }
  }
 },
 "nbformat": 4,
 "nbformat_minor": 2
}
