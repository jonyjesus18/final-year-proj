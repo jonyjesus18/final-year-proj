{
 "cells": [
  {
   "cell_type": "markdown",
   "metadata": {},
   "source": [
    "<h1>Creating a climatology for the AIRS data</h1>\n",
    "<h4>Momentum Flux (mfx) at 30hpa for Months October-March across are 2002, 2005, 2011, 2012, 2014, 2015, 2016, 2017, 2019, 2020, 2021 and 2022</h4>\n",
    "<p> To better understand the atmospheric processes and variability, it is essential to create a climatology of the relevant data. For the AIRS (Atmospheric Infrared Sounder) dataset, a climatology can be developed by averaging the data over several years, considering the seasonal and interannual variations.\n",
    "\n",
    "One important consideration is the impact of seasonal variations on the vortex. To address this, a subtraction method can be employed. For instance, in the case of an SSW (Sudden Stratospheric Warming) event, the days leading up to the central warming date in the current year's time series and the corresponding days before the date in the climatology time series are subtracted. This step helps account for seasonal variations in the vortex.\n",
    "\n",
    "Overall, creating a climatology for the AIRS data can provide valuable insights into the atmospheric processes and improve our ability to model and predict weather patterns.</p>"
   ]
  },
  {
   "cell_type": "code",
   "execution_count": null,
   "metadata": {},
   "outputs": [],
   "source": []
  },
  {
   "cell_type": "markdown",
   "metadata": {},
   "source": []
  }
 ],
 "metadata": {
  "kernelspec": {
   "display_name": "Python 3.10.8 64-bit",
   "language": "python",
   "name": "python3"
  },
  "language_info": {
   "name": "python",
   "version": "3.10.8"
  },
  "orig_nbformat": 4,
  "vscode": {
   "interpreter": {
    "hash": "aee8b7b246df8f9039afb4144a1f6fd8d2ca17a180786b69acc140d282b71a49"
   }
  }
 },
 "nbformat": 4,
 "nbformat_minor": 2
}
