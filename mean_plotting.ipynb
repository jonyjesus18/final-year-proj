{
 "cells": [
  {
   "cell_type": "code",
   "execution_count": 1,
   "metadata": {},
   "outputs": [
    {
     "name": "stderr",
     "output_type": "stream",
     "text": [
      "/Users/joaojesus/opt/anaconda3/envs/geo_plotting/lib/python3.8/site-packages/paramiko/transport.py:219: CryptographyDeprecationWarning: Blowfish has been deprecated\n",
      "  \"class\": algorithms.Blowfish,\n"
     ]
    }
   ],
   "source": [
    "import pysftp\n",
    "import os \n",
    "import numpy as np\n",
    "import pandas as pd\n",
    "import netCDF4\n",
    "import numpy as np\n",
    "import matplotlib.pyplot as plt\n",
    "\n",
    "\n",
    "from scipy import io\n",
    "from classes.matlab_reader import matlab_reader\n",
    "from classes.grid_funcs import map_grid,dataset,data_wizard\n",
    "from dotenv import load_dotenv   #for python-dotenv method\n",
    "from datetime import datetime\n",
    "\n",
    "pd.set_option('display.max_rows', 60)\n"
   ]
  },
  {
   "cell_type": "code",
   "execution_count": 24,
   "metadata": {},
   "outputs": [],
   "source": [
    "YEAR_ANALYSIS = '2018'"
   ]
  },
  {
   "cell_type": "code",
   "execution_count": 25,
   "metadata": {},
   "outputs": [],
   "source": [
    "# Get Wind Data\n",
    "\n",
    "path = '/Users/joaojesus/Desktop/FinalYearProject/GENERATED_CSV/WIND_EASTWARD/level_100/'\n",
    "grid = map_grid(grid_size=None, source = 'era5')\n",
    "wizard = data_wizard()\n",
    "res_mean = []\n",
    "res_mean_selection = []\n",
    "file_names = []\n",
    "for file in os.listdir(path):\n",
    "    if file[5:9] == YEAR_ANALYSIS: \n",
    "        wind_eastward = np.loadtxt(path + file, delimiter=\",\")\n",
    "\n",
    "        select_area_indexer = grid.select_area_indexer(\n",
    "            min_lat= 55,\n",
    "            max_lat= 65,\n",
    "            min_lon= -180,\n",
    "            max_lon= 180)\n",
    "\n",
    "        data = wizard.data_filtering(select_area_indexer = select_area_indexer ,data = wind_eastward)\n",
    "\n",
    "        file_names.append(file)\n",
    "        res_mean.append(np.nanmean(wind_eastward))\n",
    "        res_mean_selection.append(np.nanmean(data))\n",
    "\n",
    "df = pd.DataFrame(data={\n",
    "    'file' : file_names,\n",
    "    'wind_eastward_mean' : res_mean,\n",
    "    'wind_eastward_mean_selection' : res_mean_selection\n",
    "})\n",
    "\n",
    "\n",
    "year = [string[5:9] for string in df['file'].to_list()]\n",
    "day = [string[10:13] for string in df['file'].to_list()]\n",
    "\n",
    "import datetime\n",
    "dates = []\n",
    "\n",
    "for i in range(len(day)):\n",
    "    date = datetime.datetime(int(year[i]), 1, 1)\n",
    "    date += datetime.timedelta(days=int(day[i])-1)\n",
    "    dates.append(date)\n",
    "\n",
    "df['dates'] = dates\n",
    "df['dates'] = pd.to_datetime(df['dates'])\n",
    "\n",
    "df = df.sort_values(by='dates')\n",
    "\n",
    "df = df.reset_index()\n",
    "df = df.drop(columns=['index'])\n",
    "\n",
    "# Define the outlier threshold\n",
    "outlier_threshold = df['wind_eastward_mean_selection'].mean() + (df['wind_eastward_mean_selection'].std() * 3)\n",
    "\n",
    "df['outliers'] = df['wind_eastward_mean_selection'] > outlier_threshold"
   ]
  },
  {
   "cell_type": "code",
   "execution_count": 26,
   "metadata": {},
   "outputs": [],
   "source": [
    "# Define a function to apply to each row of the DataFrame\n",
    "def replace_outliers(row):\n",
    "    if not row['outliers']:\n",
    "        # If B is False, return the value of A\n",
    "        return row['wind_eastward_mean_selection']\n",
    "    else:\n",
    "        # If B is True, replace the value of A with the average of the last 3 values of A\n",
    "        last_3_avg = df.loc[:row.name, 'wind_eastward_mean_selection'].tail(5).mean()\n",
    "        return last_3_avg\n",
    "\n",
    "# Apply the function to each row of the DataFrame and store the result in a new column 'C'\n",
    "df['res_filtered'] = df.apply(replace_outliers, axis=1)\n",
    "\n",
    "values = df['res_filtered'].to_list()\n",
    "SSW_ = [False]\n",
    "\n",
    "for i in range(1,len(values)):\n",
    "    if values[i-1] >= 0 and values[i] < 0:\n",
    "        SSW_.append(True)\n",
    "    else:\n",
    "        SSW_.append(False)\n",
    "\n",
    "df['SSW_'] = SSW_\n",
    "\n",
    "df['SSW_flag'] = False\n",
    "day_threshold = 7\n",
    "for index in df[df['SSW_'] == True].index:\n",
    "    if len(df.iloc[index:index+day_threshold].loc[df['res_filtered'] < -0.1]) >= day_threshold :\n",
    "        df['SSW_flag'].iloc[index] = True"
   ]
  },
  {
   "cell_type": "code",
   "execution_count": 27,
   "metadata": {},
   "outputs": [],
   "source": [
    "# Get Temperature Data\n",
    "\n",
    "path = '/Users/joaojesus/Desktop/FinalYearProject/GENERATED_CSV/TEMPERATURE/level_100/'\n",
    "grid = map_grid(grid_size=None, source = 'era5')\n",
    "wizard = data_wizard()\n",
    "res_mean = []\n",
    "res_mean_selection = []\n",
    "file_names = []\n",
    "for file in os.listdir(path):\n",
    "    if file[5:9] == YEAR_ANALYSIS: \n",
    "        temperature = np.loadtxt(path + file, delimiter=\",\")\n",
    "\n",
    "        select_area_indexer = grid.select_area_indexer(\n",
    "            min_lat= 60,\n",
    "            max_lat= 90,\n",
    "            min_lon= -180,\n",
    "            max_lon= 180)\n",
    "\n",
    "        data = wizard.data_filtering(select_area_indexer = select_area_indexer ,data = temperature)\n",
    "\n",
    "        file_names.append(file)\n",
    "        res_mean.append(np.nanmean(temperature))\n",
    "        res_mean_selection.append(np.nanmean(data))\n",
    "\n",
    "df_temperature = pd.DataFrame(data={\n",
    "    'file' : file_names,\n",
    "    'temperature' : res_mean,\n",
    "    'temperature_selection_mean' : res_mean_selection\n",
    "})\n",
    "\n",
    "\n",
    "year = [string[5:9] for string in df_temperature['file'].to_list()]\n",
    "day = [string[10:13] for string in df_temperature['file'].to_list()]\n",
    "\n",
    "import datetime\n",
    "dates = []\n",
    "\n",
    "for i in range(len(day)):\n",
    "    date = datetime.datetime(int(year[i]), 1, 1)\n",
    "    date += datetime.timedelta(days=int(day[i])-1)\n",
    "    dates.append(date)\n",
    "\n",
    "df_temperature['dates'] = dates\n",
    "df_temperature['dates'] = pd.to_datetime(df_temperature['dates'])\n",
    "\n",
    "df_temperature = df_temperature.sort_values(by='dates')\n",
    "\n",
    "df_temperature = df_temperature.reset_index()\n",
    "df_temperature = df_temperature.drop(columns=['index'])\n"
   ]
  },
  {
   "cell_type": "code",
   "execution_count": 28,
   "metadata": {},
   "outputs": [
    {
     "data": {
      "text/html": [
       "<div>\n",
       "<style scoped>\n",
       "    .dataframe tbody tr th:only-of-type {\n",
       "        vertical-align: middle;\n",
       "    }\n",
       "\n",
       "    .dataframe tbody tr th {\n",
       "        vertical-align: top;\n",
       "    }\n",
       "\n",
       "    .dataframe thead th {\n",
       "        text-align: right;\n",
       "    }\n",
       "</style>\n",
       "<table border=\"1\" class=\"dataframe\">\n",
       "  <thead>\n",
       "    <tr style=\"text-align: right;\">\n",
       "      <th></th>\n",
       "      <th>file</th>\n",
       "      <th>temperature</th>\n",
       "      <th>temperature_selection_mean</th>\n",
       "      <th>dates</th>\n",
       "    </tr>\n",
       "  </thead>\n",
       "  <tbody>\n",
       "    <tr>\n",
       "      <th>0</th>\n",
       "      <td>era5_2018d001.nc_3_100_temperature.csv</td>\n",
       "      <td>259.608432</td>\n",
       "      <td>242.769261</td>\n",
       "      <td>2018-01-01</td>\n",
       "    </tr>\n",
       "    <tr>\n",
       "      <th>1</th>\n",
       "      <td>era5_2018d002.nc_3_100_temperature.csv</td>\n",
       "      <td>259.501266</td>\n",
       "      <td>242.309842</td>\n",
       "      <td>2018-01-02</td>\n",
       "    </tr>\n",
       "    <tr>\n",
       "      <th>2</th>\n",
       "      <td>era5_2018d003.nc_3_100_temperature.csv</td>\n",
       "      <td>259.556069</td>\n",
       "      <td>241.995566</td>\n",
       "      <td>2018-01-03</td>\n",
       "    </tr>\n",
       "    <tr>\n",
       "      <th>3</th>\n",
       "      <td>era5_2018d004.nc_3_100_temperature.csv</td>\n",
       "      <td>259.636655</td>\n",
       "      <td>241.612526</td>\n",
       "      <td>2018-01-04</td>\n",
       "    </tr>\n",
       "    <tr>\n",
       "      <th>4</th>\n",
       "      <td>era5_2018d005.nc_3_100_temperature.csv</td>\n",
       "      <td>259.672683</td>\n",
       "      <td>241.308549</td>\n",
       "      <td>2018-01-05</td>\n",
       "    </tr>\n",
       "    <tr>\n",
       "      <th>5</th>\n",
       "      <td>era5_2018d006.nc_3_100_temperature.csv</td>\n",
       "      <td>259.686315</td>\n",
       "      <td>241.379174</td>\n",
       "      <td>2018-01-06</td>\n",
       "    </tr>\n",
       "    <tr>\n",
       "      <th>6</th>\n",
       "      <td>era5_2018d007.nc_3_100_temperature.csv</td>\n",
       "      <td>259.830714</td>\n",
       "      <td>241.913818</td>\n",
       "      <td>2018-01-07</td>\n",
       "    </tr>\n",
       "    <tr>\n",
       "      <th>7</th>\n",
       "      <td>era5_2018d008.nc_3_100_temperature.csv</td>\n",
       "      <td>259.928507</td>\n",
       "      <td>242.961023</td>\n",
       "      <td>2018-01-08</td>\n",
       "    </tr>\n",
       "    <tr>\n",
       "      <th>8</th>\n",
       "      <td>era5_2018d009.nc_3_100_temperature.csv</td>\n",
       "      <td>260.109777</td>\n",
       "      <td>244.331364</td>\n",
       "      <td>2018-01-09</td>\n",
       "    </tr>\n",
       "    <tr>\n",
       "      <th>9</th>\n",
       "      <td>era5_2018d010.nc_3_100_temperature.csv</td>\n",
       "      <td>260.249701</td>\n",
       "      <td>244.991246</td>\n",
       "      <td>2018-01-10</td>\n",
       "    </tr>\n",
       "    <tr>\n",
       "      <th>10</th>\n",
       "      <td>era5_2018d011.nc_3_100_temperature.csv</td>\n",
       "      <td>260.296996</td>\n",
       "      <td>245.150582</td>\n",
       "      <td>2018-01-11</td>\n",
       "    </tr>\n",
       "    <tr>\n",
       "      <th>11</th>\n",
       "      <td>era5_2018d012.nc_3_100_temperature.csv</td>\n",
       "      <td>260.490377</td>\n",
       "      <td>245.912989</td>\n",
       "      <td>2018-01-12</td>\n",
       "    </tr>\n",
       "    <tr>\n",
       "      <th>12</th>\n",
       "      <td>era5_2018d013.nc_3_100_temperature.csv</td>\n",
       "      <td>260.439807</td>\n",
       "      <td>245.834479</td>\n",
       "      <td>2018-01-13</td>\n",
       "    </tr>\n",
       "    <tr>\n",
       "      <th>13</th>\n",
       "      <td>era5_2018d014.nc_3_100_temperature.csv</td>\n",
       "      <td>260.299795</td>\n",
       "      <td>245.665373</td>\n",
       "      <td>2018-01-14</td>\n",
       "    </tr>\n",
       "    <tr>\n",
       "      <th>14</th>\n",
       "      <td>era5_2018d015.nc_3_100_temperature.csv</td>\n",
       "      <td>260.252483</td>\n",
       "      <td>245.991413</td>\n",
       "      <td>2018-01-15</td>\n",
       "    </tr>\n",
       "    <tr>\n",
       "      <th>15</th>\n",
       "      <td>era5_2018d016.nc_3_100_temperature.csv</td>\n",
       "      <td>260.275801</td>\n",
       "      <td>246.224168</td>\n",
       "      <td>2018-01-16</td>\n",
       "    </tr>\n",
       "    <tr>\n",
       "      <th>16</th>\n",
       "      <td>era5_2018d017.nc_3_100_temperature.csv</td>\n",
       "      <td>260.205126</td>\n",
       "      <td>246.021431</td>\n",
       "      <td>2018-01-17</td>\n",
       "    </tr>\n",
       "    <tr>\n",
       "      <th>17</th>\n",
       "      <td>era5_2018d018.nc_3_100_temperature.csv</td>\n",
       "      <td>260.198679</td>\n",
       "      <td>245.756613</td>\n",
       "      <td>2018-01-18</td>\n",
       "    </tr>\n",
       "    <tr>\n",
       "      <th>18</th>\n",
       "      <td>era5_2018d019.nc_3_100_temperature.csv</td>\n",
       "      <td>260.102683</td>\n",
       "      <td>245.362369</td>\n",
       "      <td>2018-01-19</td>\n",
       "    </tr>\n",
       "    <tr>\n",
       "      <th>19</th>\n",
       "      <td>era5_2018d020.nc_3_100_temperature.csv</td>\n",
       "      <td>259.934944</td>\n",
       "      <td>244.969092</td>\n",
       "      <td>2018-01-20</td>\n",
       "    </tr>\n",
       "    <tr>\n",
       "      <th>20</th>\n",
       "      <td>era5_2018d021.nc_3_100_temperature.csv</td>\n",
       "      <td>259.789239</td>\n",
       "      <td>244.905125</td>\n",
       "      <td>2018-01-21</td>\n",
       "    </tr>\n",
       "    <tr>\n",
       "      <th>21</th>\n",
       "      <td>era5_2018d022.nc_3_100_temperature.csv</td>\n",
       "      <td>259.668529</td>\n",
       "      <td>244.875851</td>\n",
       "      <td>2018-01-22</td>\n",
       "    </tr>\n",
       "    <tr>\n",
       "      <th>22</th>\n",
       "      <td>era5_2018d023.nc_3_100_temperature.csv</td>\n",
       "      <td>259.564275</td>\n",
       "      <td>244.322229</td>\n",
       "      <td>2018-01-23</td>\n",
       "    </tr>\n",
       "    <tr>\n",
       "      <th>23</th>\n",
       "      <td>era5_2018d024.nc_3_100_temperature.csv</td>\n",
       "      <td>259.416464</td>\n",
       "      <td>243.842104</td>\n",
       "      <td>2018-01-24</td>\n",
       "    </tr>\n",
       "    <tr>\n",
       "      <th>24</th>\n",
       "      <td>era5_2018d025.nc_3_100_temperature.csv</td>\n",
       "      <td>259.303207</td>\n",
       "      <td>243.467362</td>\n",
       "      <td>2018-01-25</td>\n",
       "    </tr>\n",
       "    <tr>\n",
       "      <th>25</th>\n",
       "      <td>era5_2018d026.nc_3_100_temperature.csv</td>\n",
       "      <td>259.214977</td>\n",
       "      <td>243.640953</td>\n",
       "      <td>2018-01-26</td>\n",
       "    </tr>\n",
       "    <tr>\n",
       "      <th>26</th>\n",
       "      <td>era5_2018d027.nc_3_100_temperature.csv</td>\n",
       "      <td>259.152994</td>\n",
       "      <td>243.452643</td>\n",
       "      <td>2018-01-27</td>\n",
       "    </tr>\n",
       "    <tr>\n",
       "      <th>27</th>\n",
       "      <td>era5_2018d028.nc_3_100_temperature.csv</td>\n",
       "      <td>259.268962</td>\n",
       "      <td>243.206570</td>\n",
       "      <td>2018-01-28</td>\n",
       "    </tr>\n",
       "    <tr>\n",
       "      <th>28</th>\n",
       "      <td>era5_2018d029.nc_3_100_temperature.csv</td>\n",
       "      <td>259.433837</td>\n",
       "      <td>243.316411</td>\n",
       "      <td>2018-01-29</td>\n",
       "    </tr>\n",
       "    <tr>\n",
       "      <th>29</th>\n",
       "      <td>era5_2018d030.nc_3_100_temperature.csv</td>\n",
       "      <td>259.470743</td>\n",
       "      <td>243.430286</td>\n",
       "      <td>2018-01-30</td>\n",
       "    </tr>\n",
       "    <tr>\n",
       "      <th>30</th>\n",
       "      <td>era5_2018d031.nc_3_100_temperature.csv</td>\n",
       "      <td>259.554668</td>\n",
       "      <td>243.455491</td>\n",
       "      <td>2018-01-31</td>\n",
       "    </tr>\n",
       "    <tr>\n",
       "      <th>31</th>\n",
       "      <td>era5_2018d032.nc_3_100_temperature.csv</td>\n",
       "      <td>259.537002</td>\n",
       "      <td>243.534421</td>\n",
       "      <td>2018-02-01</td>\n",
       "    </tr>\n",
       "    <tr>\n",
       "      <th>32</th>\n",
       "      <td>era5_2018d033.nc_3_100_temperature.csv</td>\n",
       "      <td>259.337757</td>\n",
       "      <td>243.108107</td>\n",
       "      <td>2018-02-02</td>\n",
       "    </tr>\n",
       "    <tr>\n",
       "      <th>33</th>\n",
       "      <td>era5_2018d034.nc_3_100_temperature.csv</td>\n",
       "      <td>259.430232</td>\n",
       "      <td>243.308933</td>\n",
       "      <td>2018-02-03</td>\n",
       "    </tr>\n",
       "    <tr>\n",
       "      <th>34</th>\n",
       "      <td>era5_2018d035.nc_3_100_temperature.csv</td>\n",
       "      <td>259.593819</td>\n",
       "      <td>244.198445</td>\n",
       "      <td>2018-02-04</td>\n",
       "    </tr>\n",
       "    <tr>\n",
       "      <th>35</th>\n",
       "      <td>era5_2018d036.nc_3_100_temperature.csv</td>\n",
       "      <td>259.873695</td>\n",
       "      <td>244.872404</td>\n",
       "      <td>2018-02-05</td>\n",
       "    </tr>\n",
       "    <tr>\n",
       "      <th>36</th>\n",
       "      <td>era5_2018d037.nc_3_100_temperature.csv</td>\n",
       "      <td>259.931935</td>\n",
       "      <td>244.858815</td>\n",
       "      <td>2018-02-06</td>\n",
       "    </tr>\n",
       "    <tr>\n",
       "      <th>37</th>\n",
       "      <td>era5_2018d038.nc_3_100_temperature.csv</td>\n",
       "      <td>259.834007</td>\n",
       "      <td>244.763317</td>\n",
       "      <td>2018-02-07</td>\n",
       "    </tr>\n",
       "    <tr>\n",
       "      <th>38</th>\n",
       "      <td>era5_2018d039.nc_3_100_temperature.csv</td>\n",
       "      <td>259.880394</td>\n",
       "      <td>244.541315</td>\n",
       "      <td>2018-02-08</td>\n",
       "    </tr>\n",
       "    <tr>\n",
       "      <th>39</th>\n",
       "      <td>era5_2018d040.nc_3_100_temperature.csv</td>\n",
       "      <td>259.864298</td>\n",
       "      <td>244.698139</td>\n",
       "      <td>2018-02-09</td>\n",
       "    </tr>\n",
       "    <tr>\n",
       "      <th>40</th>\n",
       "      <td>era5_2018d041.nc_3_100_temperature.csv</td>\n",
       "      <td>259.741358</td>\n",
       "      <td>244.520022</td>\n",
       "      <td>2018-02-10</td>\n",
       "    </tr>\n",
       "    <tr>\n",
       "      <th>41</th>\n",
       "      <td>era5_2018d042.nc_3_100_temperature.csv</td>\n",
       "      <td>259.666758</td>\n",
       "      <td>244.360016</td>\n",
       "      <td>2018-02-11</td>\n",
       "    </tr>\n",
       "    <tr>\n",
       "      <th>42</th>\n",
       "      <td>era5_2018d043.nc_3_100_temperature.csv</td>\n",
       "      <td>259.755157</td>\n",
       "      <td>244.212047</td>\n",
       "      <td>2018-02-12</td>\n",
       "    </tr>\n",
       "    <tr>\n",
       "      <th>43</th>\n",
       "      <td>era5_2018d044.nc_3_100_temperature.csv</td>\n",
       "      <td>259.747979</td>\n",
       "      <td>243.653782</td>\n",
       "      <td>2018-02-13</td>\n",
       "    </tr>\n",
       "    <tr>\n",
       "      <th>44</th>\n",
       "      <td>era5_2018d045.nc_3_100_temperature.csv</td>\n",
       "      <td>259.751770</td>\n",
       "      <td>243.832820</td>\n",
       "      <td>2018-02-14</td>\n",
       "    </tr>\n",
       "    <tr>\n",
       "      <th>45</th>\n",
       "      <td>era5_2018d046.nc_3_100_temperature.csv</td>\n",
       "      <td>259.763994</td>\n",
       "      <td>244.076646</td>\n",
       "      <td>2018-02-15</td>\n",
       "    </tr>\n",
       "    <tr>\n",
       "      <th>46</th>\n",
       "      <td>era5_2018d047.nc_3_100_temperature.csv</td>\n",
       "      <td>259.686278</td>\n",
       "      <td>244.028641</td>\n",
       "      <td>2018-02-16</td>\n",
       "    </tr>\n",
       "    <tr>\n",
       "      <th>47</th>\n",
       "      <td>era5_2018d048.nc_3_100_temperature.csv</td>\n",
       "      <td>259.559417</td>\n",
       "      <td>244.084467</td>\n",
       "      <td>2018-02-17</td>\n",
       "    </tr>\n",
       "    <tr>\n",
       "      <th>48</th>\n",
       "      <td>era5_2018d049.nc_3_100_temperature.csv</td>\n",
       "      <td>259.539041</td>\n",
       "      <td>244.268623</td>\n",
       "      <td>2018-02-18</td>\n",
       "    </tr>\n",
       "    <tr>\n",
       "      <th>49</th>\n",
       "      <td>era5_2018d050.nc_3_100_temperature.csv</td>\n",
       "      <td>259.520540</td>\n",
       "      <td>244.738749</td>\n",
       "      <td>2018-02-19</td>\n",
       "    </tr>\n",
       "    <tr>\n",
       "      <th>50</th>\n",
       "      <td>era5_2018d051.nc_3_100_temperature.csv</td>\n",
       "      <td>259.618989</td>\n",
       "      <td>245.564576</td>\n",
       "      <td>2018-02-20</td>\n",
       "    </tr>\n",
       "    <tr>\n",
       "      <th>51</th>\n",
       "      <td>era5_2018d052.nc_3_100_temperature.csv</td>\n",
       "      <td>259.593117</td>\n",
       "      <td>245.394428</td>\n",
       "      <td>2018-02-21</td>\n",
       "    </tr>\n",
       "    <tr>\n",
       "      <th>52</th>\n",
       "      <td>era5_2018d053.nc_3_100_temperature.csv</td>\n",
       "      <td>259.444160</td>\n",
       "      <td>245.220731</td>\n",
       "      <td>2018-02-22</td>\n",
       "    </tr>\n",
       "    <tr>\n",
       "      <th>53</th>\n",
       "      <td>era5_2018d054.nc_3_100_temperature.csv</td>\n",
       "      <td>259.576675</td>\n",
       "      <td>246.086358</td>\n",
       "      <td>2018-02-23</td>\n",
       "    </tr>\n",
       "  </tbody>\n",
       "</table>\n",
       "</div>"
      ],
      "text/plain": [
       "                                      file  temperature  \\\n",
       "0   era5_2018d001.nc_3_100_temperature.csv   259.608432   \n",
       "1   era5_2018d002.nc_3_100_temperature.csv   259.501266   \n",
       "2   era5_2018d003.nc_3_100_temperature.csv   259.556069   \n",
       "3   era5_2018d004.nc_3_100_temperature.csv   259.636655   \n",
       "4   era5_2018d005.nc_3_100_temperature.csv   259.672683   \n",
       "5   era5_2018d006.nc_3_100_temperature.csv   259.686315   \n",
       "6   era5_2018d007.nc_3_100_temperature.csv   259.830714   \n",
       "7   era5_2018d008.nc_3_100_temperature.csv   259.928507   \n",
       "8   era5_2018d009.nc_3_100_temperature.csv   260.109777   \n",
       "9   era5_2018d010.nc_3_100_temperature.csv   260.249701   \n",
       "10  era5_2018d011.nc_3_100_temperature.csv   260.296996   \n",
       "11  era5_2018d012.nc_3_100_temperature.csv   260.490377   \n",
       "12  era5_2018d013.nc_3_100_temperature.csv   260.439807   \n",
       "13  era5_2018d014.nc_3_100_temperature.csv   260.299795   \n",
       "14  era5_2018d015.nc_3_100_temperature.csv   260.252483   \n",
       "15  era5_2018d016.nc_3_100_temperature.csv   260.275801   \n",
       "16  era5_2018d017.nc_3_100_temperature.csv   260.205126   \n",
       "17  era5_2018d018.nc_3_100_temperature.csv   260.198679   \n",
       "18  era5_2018d019.nc_3_100_temperature.csv   260.102683   \n",
       "19  era5_2018d020.nc_3_100_temperature.csv   259.934944   \n",
       "20  era5_2018d021.nc_3_100_temperature.csv   259.789239   \n",
       "21  era5_2018d022.nc_3_100_temperature.csv   259.668529   \n",
       "22  era5_2018d023.nc_3_100_temperature.csv   259.564275   \n",
       "23  era5_2018d024.nc_3_100_temperature.csv   259.416464   \n",
       "24  era5_2018d025.nc_3_100_temperature.csv   259.303207   \n",
       "25  era5_2018d026.nc_3_100_temperature.csv   259.214977   \n",
       "26  era5_2018d027.nc_3_100_temperature.csv   259.152994   \n",
       "27  era5_2018d028.nc_3_100_temperature.csv   259.268962   \n",
       "28  era5_2018d029.nc_3_100_temperature.csv   259.433837   \n",
       "29  era5_2018d030.nc_3_100_temperature.csv   259.470743   \n",
       "30  era5_2018d031.nc_3_100_temperature.csv   259.554668   \n",
       "31  era5_2018d032.nc_3_100_temperature.csv   259.537002   \n",
       "32  era5_2018d033.nc_3_100_temperature.csv   259.337757   \n",
       "33  era5_2018d034.nc_3_100_temperature.csv   259.430232   \n",
       "34  era5_2018d035.nc_3_100_temperature.csv   259.593819   \n",
       "35  era5_2018d036.nc_3_100_temperature.csv   259.873695   \n",
       "36  era5_2018d037.nc_3_100_temperature.csv   259.931935   \n",
       "37  era5_2018d038.nc_3_100_temperature.csv   259.834007   \n",
       "38  era5_2018d039.nc_3_100_temperature.csv   259.880394   \n",
       "39  era5_2018d040.nc_3_100_temperature.csv   259.864298   \n",
       "40  era5_2018d041.nc_3_100_temperature.csv   259.741358   \n",
       "41  era5_2018d042.nc_3_100_temperature.csv   259.666758   \n",
       "42  era5_2018d043.nc_3_100_temperature.csv   259.755157   \n",
       "43  era5_2018d044.nc_3_100_temperature.csv   259.747979   \n",
       "44  era5_2018d045.nc_3_100_temperature.csv   259.751770   \n",
       "45  era5_2018d046.nc_3_100_temperature.csv   259.763994   \n",
       "46  era5_2018d047.nc_3_100_temperature.csv   259.686278   \n",
       "47  era5_2018d048.nc_3_100_temperature.csv   259.559417   \n",
       "48  era5_2018d049.nc_3_100_temperature.csv   259.539041   \n",
       "49  era5_2018d050.nc_3_100_temperature.csv   259.520540   \n",
       "50  era5_2018d051.nc_3_100_temperature.csv   259.618989   \n",
       "51  era5_2018d052.nc_3_100_temperature.csv   259.593117   \n",
       "52  era5_2018d053.nc_3_100_temperature.csv   259.444160   \n",
       "53  era5_2018d054.nc_3_100_temperature.csv   259.576675   \n",
       "\n",
       "    temperature_selection_mean      dates  \n",
       "0                   242.769261 2018-01-01  \n",
       "1                   242.309842 2018-01-02  \n",
       "2                   241.995566 2018-01-03  \n",
       "3                   241.612526 2018-01-04  \n",
       "4                   241.308549 2018-01-05  \n",
       "5                   241.379174 2018-01-06  \n",
       "6                   241.913818 2018-01-07  \n",
       "7                   242.961023 2018-01-08  \n",
       "8                   244.331364 2018-01-09  \n",
       "9                   244.991246 2018-01-10  \n",
       "10                  245.150582 2018-01-11  \n",
       "11                  245.912989 2018-01-12  \n",
       "12                  245.834479 2018-01-13  \n",
       "13                  245.665373 2018-01-14  \n",
       "14                  245.991413 2018-01-15  \n",
       "15                  246.224168 2018-01-16  \n",
       "16                  246.021431 2018-01-17  \n",
       "17                  245.756613 2018-01-18  \n",
       "18                  245.362369 2018-01-19  \n",
       "19                  244.969092 2018-01-20  \n",
       "20                  244.905125 2018-01-21  \n",
       "21                  244.875851 2018-01-22  \n",
       "22                  244.322229 2018-01-23  \n",
       "23                  243.842104 2018-01-24  \n",
       "24                  243.467362 2018-01-25  \n",
       "25                  243.640953 2018-01-26  \n",
       "26                  243.452643 2018-01-27  \n",
       "27                  243.206570 2018-01-28  \n",
       "28                  243.316411 2018-01-29  \n",
       "29                  243.430286 2018-01-30  \n",
       "30                  243.455491 2018-01-31  \n",
       "31                  243.534421 2018-02-01  \n",
       "32                  243.108107 2018-02-02  \n",
       "33                  243.308933 2018-02-03  \n",
       "34                  244.198445 2018-02-04  \n",
       "35                  244.872404 2018-02-05  \n",
       "36                  244.858815 2018-02-06  \n",
       "37                  244.763317 2018-02-07  \n",
       "38                  244.541315 2018-02-08  \n",
       "39                  244.698139 2018-02-09  \n",
       "40                  244.520022 2018-02-10  \n",
       "41                  244.360016 2018-02-11  \n",
       "42                  244.212047 2018-02-12  \n",
       "43                  243.653782 2018-02-13  \n",
       "44                  243.832820 2018-02-14  \n",
       "45                  244.076646 2018-02-15  \n",
       "46                  244.028641 2018-02-16  \n",
       "47                  244.084467 2018-02-17  \n",
       "48                  244.268623 2018-02-18  \n",
       "49                  244.738749 2018-02-19  \n",
       "50                  245.564576 2018-02-20  \n",
       "51                  245.394428 2018-02-21  \n",
       "52                  245.220731 2018-02-22  \n",
       "53                  246.086358 2018-02-23  "
      ]
     },
     "execution_count": 28,
     "metadata": {},
     "output_type": "execute_result"
    }
   ],
   "source": [
    "df_temperature"
   ]
  },
  {
   "cell_type": "code",
   "execution_count": 29,
   "metadata": {},
   "outputs": [],
   "source": [
    "df = pd.merge(df,df_temperature[['dates','temperature_selection_mean']],how='left', on='dates')"
   ]
  },
  {
   "cell_type": "code",
   "execution_count": 30,
   "metadata": {},
   "outputs": [
    {
     "data": {
      "text/html": [
       "<div>\n",
       "<style scoped>\n",
       "    .dataframe tbody tr th:only-of-type {\n",
       "        vertical-align: middle;\n",
       "    }\n",
       "\n",
       "    .dataframe tbody tr th {\n",
       "        vertical-align: top;\n",
       "    }\n",
       "\n",
       "    .dataframe thead th {\n",
       "        text-align: right;\n",
       "    }\n",
       "</style>\n",
       "<table border=\"1\" class=\"dataframe\">\n",
       "  <thead>\n",
       "    <tr style=\"text-align: right;\">\n",
       "      <th></th>\n",
       "      <th>file</th>\n",
       "      <th>wind_eastward_mean</th>\n",
       "      <th>wind_eastward_mean_selection</th>\n",
       "      <th>dates</th>\n",
       "      <th>outliers</th>\n",
       "      <th>res_filtered</th>\n",
       "      <th>SSW_</th>\n",
       "      <th>SSW_flag</th>\n",
       "      <th>temperature_selection_mean</th>\n",
       "    </tr>\n",
       "  </thead>\n",
       "  <tbody>\n",
       "    <tr>\n",
       "      <th>0</th>\n",
       "      <td>era5_2018d001.nc_3_100_wind_eastward.csv</td>\n",
       "      <td>5.082608</td>\n",
       "      <td>5.079032</td>\n",
       "      <td>2018-01-01</td>\n",
       "      <td>False</td>\n",
       "      <td>5.079032</td>\n",
       "      <td>False</td>\n",
       "      <td>False</td>\n",
       "      <td>242.769261</td>\n",
       "    </tr>\n",
       "    <tr>\n",
       "      <th>1</th>\n",
       "      <td>era5_2018d002.nc_3_100_wind_eastward.csv</td>\n",
       "      <td>5.016068</td>\n",
       "      <td>6.175940</td>\n",
       "      <td>2018-01-02</td>\n",
       "      <td>False</td>\n",
       "      <td>6.175940</td>\n",
       "      <td>False</td>\n",
       "      <td>False</td>\n",
       "      <td>242.309842</td>\n",
       "    </tr>\n",
       "    <tr>\n",
       "      <th>2</th>\n",
       "      <td>era5_2018d003.nc_3_100_wind_eastward.csv</td>\n",
       "      <td>4.830522</td>\n",
       "      <td>5.880341</td>\n",
       "      <td>2018-01-03</td>\n",
       "      <td>False</td>\n",
       "      <td>5.880341</td>\n",
       "      <td>False</td>\n",
       "      <td>False</td>\n",
       "      <td>241.995566</td>\n",
       "    </tr>\n",
       "    <tr>\n",
       "      <th>3</th>\n",
       "      <td>era5_2018d004.nc_3_100_wind_eastward.csv</td>\n",
       "      <td>4.947426</td>\n",
       "      <td>4.199060</td>\n",
       "      <td>2018-01-04</td>\n",
       "      <td>False</td>\n",
       "      <td>4.199060</td>\n",
       "      <td>False</td>\n",
       "      <td>False</td>\n",
       "      <td>241.612526</td>\n",
       "    </tr>\n",
       "    <tr>\n",
       "      <th>4</th>\n",
       "      <td>era5_2018d005.nc_3_100_wind_eastward.csv</td>\n",
       "      <td>4.875367</td>\n",
       "      <td>2.870764</td>\n",
       "      <td>2018-01-05</td>\n",
       "      <td>False</td>\n",
       "      <td>2.870764</td>\n",
       "      <td>False</td>\n",
       "      <td>False</td>\n",
       "      <td>241.308549</td>\n",
       "    </tr>\n",
       "    <tr>\n",
       "      <th>5</th>\n",
       "      <td>era5_2018d006.nc_3_100_wind_eastward.csv</td>\n",
       "      <td>4.626236</td>\n",
       "      <td>4.044064</td>\n",
       "      <td>2018-01-06</td>\n",
       "      <td>False</td>\n",
       "      <td>4.044064</td>\n",
       "      <td>False</td>\n",
       "      <td>False</td>\n",
       "      <td>241.379174</td>\n",
       "    </tr>\n",
       "    <tr>\n",
       "      <th>6</th>\n",
       "      <td>era5_2018d007.nc_3_100_wind_eastward.csv</td>\n",
       "      <td>4.764652</td>\n",
       "      <td>6.011424</td>\n",
       "      <td>2018-01-07</td>\n",
       "      <td>False</td>\n",
       "      <td>6.011424</td>\n",
       "      <td>False</td>\n",
       "      <td>False</td>\n",
       "      <td>241.913818</td>\n",
       "    </tr>\n",
       "    <tr>\n",
       "      <th>7</th>\n",
       "      <td>era5_2018d008.nc_3_100_wind_eastward.csv</td>\n",
       "      <td>4.565523</td>\n",
       "      <td>5.073774</td>\n",
       "      <td>2018-01-08</td>\n",
       "      <td>False</td>\n",
       "      <td>5.073774</td>\n",
       "      <td>False</td>\n",
       "      <td>False</td>\n",
       "      <td>242.961023</td>\n",
       "    </tr>\n",
       "    <tr>\n",
       "      <th>8</th>\n",
       "      <td>era5_2018d009.nc_3_100_wind_eastward.csv</td>\n",
       "      <td>4.454573</td>\n",
       "      <td>2.628993</td>\n",
       "      <td>2018-01-09</td>\n",
       "      <td>False</td>\n",
       "      <td>2.628993</td>\n",
       "      <td>False</td>\n",
       "      <td>False</td>\n",
       "      <td>244.331364</td>\n",
       "    </tr>\n",
       "    <tr>\n",
       "      <th>9</th>\n",
       "      <td>era5_2018d010.nc_3_100_wind_eastward.csv</td>\n",
       "      <td>4.946314</td>\n",
       "      <td>4.159493</td>\n",
       "      <td>2018-01-10</td>\n",
       "      <td>False</td>\n",
       "      <td>4.159493</td>\n",
       "      <td>False</td>\n",
       "      <td>False</td>\n",
       "      <td>244.991246</td>\n",
       "    </tr>\n",
       "    <tr>\n",
       "      <th>10</th>\n",
       "      <td>era5_2018d011.nc_3_100_wind_eastward.csv</td>\n",
       "      <td>4.881298</td>\n",
       "      <td>4.681943</td>\n",
       "      <td>2018-01-11</td>\n",
       "      <td>False</td>\n",
       "      <td>4.681943</td>\n",
       "      <td>False</td>\n",
       "      <td>False</td>\n",
       "      <td>245.150582</td>\n",
       "    </tr>\n",
       "    <tr>\n",
       "      <th>11</th>\n",
       "      <td>era5_2018d012.nc_3_100_wind_eastward.csv</td>\n",
       "      <td>4.537935</td>\n",
       "      <td>4.618677</td>\n",
       "      <td>2018-01-12</td>\n",
       "      <td>False</td>\n",
       "      <td>4.618677</td>\n",
       "      <td>False</td>\n",
       "      <td>False</td>\n",
       "      <td>245.912989</td>\n",
       "    </tr>\n",
       "    <tr>\n",
       "      <th>12</th>\n",
       "      <td>era5_2018d013.nc_3_100_wind_eastward.csv</td>\n",
       "      <td>4.823134</td>\n",
       "      <td>8.157209</td>\n",
       "      <td>2018-01-13</td>\n",
       "      <td>False</td>\n",
       "      <td>8.157209</td>\n",
       "      <td>False</td>\n",
       "      <td>False</td>\n",
       "      <td>245.834479</td>\n",
       "    </tr>\n",
       "    <tr>\n",
       "      <th>13</th>\n",
       "      <td>era5_2018d014.nc_3_100_wind_eastward.csv</td>\n",
       "      <td>5.003999</td>\n",
       "      <td>8.370494</td>\n",
       "      <td>2018-01-14</td>\n",
       "      <td>False</td>\n",
       "      <td>8.370494</td>\n",
       "      <td>False</td>\n",
       "      <td>False</td>\n",
       "      <td>245.665373</td>\n",
       "    </tr>\n",
       "    <tr>\n",
       "      <th>14</th>\n",
       "      <td>era5_2018d015.nc_3_100_wind_eastward.csv</td>\n",
       "      <td>5.077587</td>\n",
       "      <td>7.628216</td>\n",
       "      <td>2018-01-15</td>\n",
       "      <td>False</td>\n",
       "      <td>7.628216</td>\n",
       "      <td>False</td>\n",
       "      <td>False</td>\n",
       "      <td>245.991413</td>\n",
       "    </tr>\n",
       "    <tr>\n",
       "      <th>15</th>\n",
       "      <td>era5_2018d016.nc_3_100_wind_eastward.csv</td>\n",
       "      <td>4.432913</td>\n",
       "      <td>7.287439</td>\n",
       "      <td>2018-01-16</td>\n",
       "      <td>False</td>\n",
       "      <td>7.287439</td>\n",
       "      <td>False</td>\n",
       "      <td>False</td>\n",
       "      <td>246.224168</td>\n",
       "    </tr>\n",
       "    <tr>\n",
       "      <th>16</th>\n",
       "      <td>era5_2018d017.nc_3_100_wind_eastward.csv</td>\n",
       "      <td>3.994075</td>\n",
       "      <td>6.052842</td>\n",
       "      <td>2018-01-17</td>\n",
       "      <td>False</td>\n",
       "      <td>6.052842</td>\n",
       "      <td>False</td>\n",
       "      <td>False</td>\n",
       "      <td>246.021431</td>\n",
       "    </tr>\n",
       "    <tr>\n",
       "      <th>17</th>\n",
       "      <td>era5_2018d018.nc_3_100_wind_eastward.csv</td>\n",
       "      <td>3.939179</td>\n",
       "      <td>4.541568</td>\n",
       "      <td>2018-01-18</td>\n",
       "      <td>False</td>\n",
       "      <td>4.541568</td>\n",
       "      <td>False</td>\n",
       "      <td>False</td>\n",
       "      <td>245.756613</td>\n",
       "    </tr>\n",
       "    <tr>\n",
       "      <th>18</th>\n",
       "      <td>era5_2018d019.nc_3_100_wind_eastward.csv</td>\n",
       "      <td>3.919543</td>\n",
       "      <td>2.119969</td>\n",
       "      <td>2018-01-19</td>\n",
       "      <td>False</td>\n",
       "      <td>2.119969</td>\n",
       "      <td>False</td>\n",
       "      <td>False</td>\n",
       "      <td>245.362369</td>\n",
       "    </tr>\n",
       "    <tr>\n",
       "      <th>19</th>\n",
       "      <td>era5_2018d020.nc_3_100_wind_eastward.csv</td>\n",
       "      <td>4.025844</td>\n",
       "      <td>-0.700829</td>\n",
       "      <td>2018-01-20</td>\n",
       "      <td>False</td>\n",
       "      <td>-0.700829</td>\n",
       "      <td>True</td>\n",
       "      <td>False</td>\n",
       "      <td>244.969092</td>\n",
       "    </tr>\n",
       "    <tr>\n",
       "      <th>20</th>\n",
       "      <td>era5_2018d021.nc_3_100_wind_eastward.csv</td>\n",
       "      <td>3.893499</td>\n",
       "      <td>-2.083257</td>\n",
       "      <td>2018-01-21</td>\n",
       "      <td>False</td>\n",
       "      <td>-2.083257</td>\n",
       "      <td>False</td>\n",
       "      <td>False</td>\n",
       "      <td>244.905125</td>\n",
       "    </tr>\n",
       "    <tr>\n",
       "      <th>21</th>\n",
       "      <td>era5_2018d022.nc_3_100_wind_eastward.csv</td>\n",
       "      <td>4.010282</td>\n",
       "      <td>-0.872641</td>\n",
       "      <td>2018-01-22</td>\n",
       "      <td>False</td>\n",
       "      <td>-0.872641</td>\n",
       "      <td>False</td>\n",
       "      <td>False</td>\n",
       "      <td>244.875851</td>\n",
       "    </tr>\n",
       "    <tr>\n",
       "      <th>22</th>\n",
       "      <td>era5_2018d023.nc_3_100_wind_eastward.csv</td>\n",
       "      <td>4.179081</td>\n",
       "      <td>1.646831</td>\n",
       "      <td>2018-01-23</td>\n",
       "      <td>False</td>\n",
       "      <td>1.646831</td>\n",
       "      <td>False</td>\n",
       "      <td>False</td>\n",
       "      <td>244.322229</td>\n",
       "    </tr>\n",
       "    <tr>\n",
       "      <th>23</th>\n",
       "      <td>era5_2018d024.nc_3_100_wind_eastward.csv</td>\n",
       "      <td>4.362682</td>\n",
       "      <td>3.523615</td>\n",
       "      <td>2018-01-24</td>\n",
       "      <td>False</td>\n",
       "      <td>3.523615</td>\n",
       "      <td>False</td>\n",
       "      <td>False</td>\n",
       "      <td>243.842104</td>\n",
       "    </tr>\n",
       "    <tr>\n",
       "      <th>24</th>\n",
       "      <td>era5_2018d025.nc_3_100_wind_eastward.csv</td>\n",
       "      <td>4.562082</td>\n",
       "      <td>4.648050</td>\n",
       "      <td>2018-01-25</td>\n",
       "      <td>False</td>\n",
       "      <td>4.648050</td>\n",
       "      <td>False</td>\n",
       "      <td>False</td>\n",
       "      <td>243.467362</td>\n",
       "    </tr>\n",
       "    <tr>\n",
       "      <th>25</th>\n",
       "      <td>era5_2018d026.nc_3_100_wind_eastward.csv</td>\n",
       "      <td>4.874183</td>\n",
       "      <td>4.456990</td>\n",
       "      <td>2018-01-26</td>\n",
       "      <td>False</td>\n",
       "      <td>4.456990</td>\n",
       "      <td>False</td>\n",
       "      <td>False</td>\n",
       "      <td>243.640953</td>\n",
       "    </tr>\n",
       "    <tr>\n",
       "      <th>26</th>\n",
       "      <td>era5_2018d027.nc_3_100_wind_eastward.csv</td>\n",
       "      <td>5.061144</td>\n",
       "      <td>7.592098</td>\n",
       "      <td>2018-01-27</td>\n",
       "      <td>False</td>\n",
       "      <td>7.592098</td>\n",
       "      <td>False</td>\n",
       "      <td>False</td>\n",
       "      <td>243.452643</td>\n",
       "    </tr>\n",
       "    <tr>\n",
       "      <th>27</th>\n",
       "      <td>era5_2018d028.nc_3_100_wind_eastward.csv</td>\n",
       "      <td>5.035450</td>\n",
       "      <td>7.472702</td>\n",
       "      <td>2018-01-28</td>\n",
       "      <td>False</td>\n",
       "      <td>7.472702</td>\n",
       "      <td>False</td>\n",
       "      <td>False</td>\n",
       "      <td>243.206570</td>\n",
       "    </tr>\n",
       "    <tr>\n",
       "      <th>28</th>\n",
       "      <td>era5_2018d029.nc_3_100_wind_eastward.csv</td>\n",
       "      <td>5.206967</td>\n",
       "      <td>6.276433</td>\n",
       "      <td>2018-01-29</td>\n",
       "      <td>False</td>\n",
       "      <td>6.276433</td>\n",
       "      <td>False</td>\n",
       "      <td>False</td>\n",
       "      <td>243.316411</td>\n",
       "    </tr>\n",
       "    <tr>\n",
       "      <th>29</th>\n",
       "      <td>era5_2018d030.nc_3_100_wind_eastward.csv</td>\n",
       "      <td>5.023053</td>\n",
       "      <td>6.000108</td>\n",
       "      <td>2018-01-30</td>\n",
       "      <td>False</td>\n",
       "      <td>6.000108</td>\n",
       "      <td>False</td>\n",
       "      <td>False</td>\n",
       "      <td>243.430286</td>\n",
       "    </tr>\n",
       "    <tr>\n",
       "      <th>30</th>\n",
       "      <td>era5_2018d031.nc_3_100_wind_eastward.csv</td>\n",
       "      <td>4.897373</td>\n",
       "      <td>2.846956</td>\n",
       "      <td>2018-01-31</td>\n",
       "      <td>False</td>\n",
       "      <td>2.846956</td>\n",
       "      <td>False</td>\n",
       "      <td>False</td>\n",
       "      <td>243.455491</td>\n",
       "    </tr>\n",
       "    <tr>\n",
       "      <th>31</th>\n",
       "      <td>era5_2018d032.nc_3_100_wind_eastward.csv</td>\n",
       "      <td>5.056071</td>\n",
       "      <td>2.329159</td>\n",
       "      <td>2018-02-01</td>\n",
       "      <td>False</td>\n",
       "      <td>2.329159</td>\n",
       "      <td>False</td>\n",
       "      <td>False</td>\n",
       "      <td>243.534421</td>\n",
       "    </tr>\n",
       "    <tr>\n",
       "      <th>32</th>\n",
       "      <td>era5_2018d033.nc_3_100_wind_eastward.csv</td>\n",
       "      <td>5.585545</td>\n",
       "      <td>3.964041</td>\n",
       "      <td>2018-02-02</td>\n",
       "      <td>False</td>\n",
       "      <td>3.964041</td>\n",
       "      <td>False</td>\n",
       "      <td>False</td>\n",
       "      <td>243.108107</td>\n",
       "    </tr>\n",
       "    <tr>\n",
       "      <th>33</th>\n",
       "      <td>era5_2018d034.nc_3_100_wind_eastward.csv</td>\n",
       "      <td>5.572232</td>\n",
       "      <td>3.237221</td>\n",
       "      <td>2018-02-03</td>\n",
       "      <td>False</td>\n",
       "      <td>3.237221</td>\n",
       "      <td>False</td>\n",
       "      <td>False</td>\n",
       "      <td>243.308933</td>\n",
       "    </tr>\n",
       "    <tr>\n",
       "      <th>34</th>\n",
       "      <td>era5_2018d035.nc_3_100_wind_eastward.csv</td>\n",
       "      <td>5.634420</td>\n",
       "      <td>4.744061</td>\n",
       "      <td>2018-02-04</td>\n",
       "      <td>False</td>\n",
       "      <td>4.744061</td>\n",
       "      <td>False</td>\n",
       "      <td>False</td>\n",
       "      <td>244.198445</td>\n",
       "    </tr>\n",
       "    <tr>\n",
       "      <th>35</th>\n",
       "      <td>era5_2018d036.nc_3_100_wind_eastward.csv</td>\n",
       "      <td>5.848187</td>\n",
       "      <td>5.243373</td>\n",
       "      <td>2018-02-05</td>\n",
       "      <td>False</td>\n",
       "      <td>5.243373</td>\n",
       "      <td>False</td>\n",
       "      <td>False</td>\n",
       "      <td>244.872404</td>\n",
       "    </tr>\n",
       "    <tr>\n",
       "      <th>36</th>\n",
       "      <td>era5_2018d037.nc_3_100_wind_eastward.csv</td>\n",
       "      <td>5.970732</td>\n",
       "      <td>4.368913</td>\n",
       "      <td>2018-02-06</td>\n",
       "      <td>False</td>\n",
       "      <td>4.368913</td>\n",
       "      <td>False</td>\n",
       "      <td>False</td>\n",
       "      <td>244.858815</td>\n",
       "    </tr>\n",
       "    <tr>\n",
       "      <th>37</th>\n",
       "      <td>era5_2018d038.nc_3_100_wind_eastward.csv</td>\n",
       "      <td>5.931104</td>\n",
       "      <td>6.751072</td>\n",
       "      <td>2018-02-07</td>\n",
       "      <td>False</td>\n",
       "      <td>6.751072</td>\n",
       "      <td>False</td>\n",
       "      <td>False</td>\n",
       "      <td>244.763317</td>\n",
       "    </tr>\n",
       "    <tr>\n",
       "      <th>38</th>\n",
       "      <td>era5_2018d039.nc_3_100_wind_eastward.csv</td>\n",
       "      <td>5.871731</td>\n",
       "      <td>4.631700</td>\n",
       "      <td>2018-02-08</td>\n",
       "      <td>False</td>\n",
       "      <td>4.631700</td>\n",
       "      <td>False</td>\n",
       "      <td>False</td>\n",
       "      <td>244.541315</td>\n",
       "    </tr>\n",
       "    <tr>\n",
       "      <th>39</th>\n",
       "      <td>era5_2018d040.nc_3_100_wind_eastward.csv</td>\n",
       "      <td>5.570853</td>\n",
       "      <td>4.891966</td>\n",
       "      <td>2018-02-09</td>\n",
       "      <td>False</td>\n",
       "      <td>4.891966</td>\n",
       "      <td>False</td>\n",
       "      <td>False</td>\n",
       "      <td>244.698139</td>\n",
       "    </tr>\n",
       "    <tr>\n",
       "      <th>40</th>\n",
       "      <td>era5_2018d041.nc_3_100_wind_eastward.csv</td>\n",
       "      <td>5.207080</td>\n",
       "      <td>5.745875</td>\n",
       "      <td>2018-02-10</td>\n",
       "      <td>False</td>\n",
       "      <td>5.745875</td>\n",
       "      <td>False</td>\n",
       "      <td>False</td>\n",
       "      <td>244.520022</td>\n",
       "    </tr>\n",
       "    <tr>\n",
       "      <th>41</th>\n",
       "      <td>era5_2018d042.nc_3_100_wind_eastward.csv</td>\n",
       "      <td>4.825414</td>\n",
       "      <td>5.124168</td>\n",
       "      <td>2018-02-11</td>\n",
       "      <td>False</td>\n",
       "      <td>5.124168</td>\n",
       "      <td>False</td>\n",
       "      <td>False</td>\n",
       "      <td>244.360016</td>\n",
       "    </tr>\n",
       "    <tr>\n",
       "      <th>42</th>\n",
       "      <td>era5_2018d043.nc_3_100_wind_eastward.csv</td>\n",
       "      <td>5.134014</td>\n",
       "      <td>6.885778</td>\n",
       "      <td>2018-02-12</td>\n",
       "      <td>False</td>\n",
       "      <td>6.885778</td>\n",
       "      <td>False</td>\n",
       "      <td>False</td>\n",
       "      <td>244.212047</td>\n",
       "    </tr>\n",
       "    <tr>\n",
       "      <th>43</th>\n",
       "      <td>era5_2018d044.nc_3_100_wind_eastward.csv</td>\n",
       "      <td>5.377680</td>\n",
       "      <td>7.050673</td>\n",
       "      <td>2018-02-13</td>\n",
       "      <td>False</td>\n",
       "      <td>7.050673</td>\n",
       "      <td>False</td>\n",
       "      <td>False</td>\n",
       "      <td>243.653782</td>\n",
       "    </tr>\n",
       "    <tr>\n",
       "      <th>44</th>\n",
       "      <td>era5_2018d045.nc_3_100_wind_eastward.csv</td>\n",
       "      <td>5.221009</td>\n",
       "      <td>5.725447</td>\n",
       "      <td>2018-02-14</td>\n",
       "      <td>False</td>\n",
       "      <td>5.725447</td>\n",
       "      <td>False</td>\n",
       "      <td>False</td>\n",
       "      <td>243.832820</td>\n",
       "    </tr>\n",
       "    <tr>\n",
       "      <th>45</th>\n",
       "      <td>era5_2018d046.nc_3_100_wind_eastward.csv</td>\n",
       "      <td>5.067136</td>\n",
       "      <td>5.890432</td>\n",
       "      <td>2018-02-15</td>\n",
       "      <td>False</td>\n",
       "      <td>5.890432</td>\n",
       "      <td>False</td>\n",
       "      <td>False</td>\n",
       "      <td>244.076646</td>\n",
       "    </tr>\n",
       "    <tr>\n",
       "      <th>46</th>\n",
       "      <td>era5_2018d047.nc_3_100_wind_eastward.csv</td>\n",
       "      <td>4.857086</td>\n",
       "      <td>6.714270</td>\n",
       "      <td>2018-02-16</td>\n",
       "      <td>False</td>\n",
       "      <td>6.714270</td>\n",
       "      <td>False</td>\n",
       "      <td>False</td>\n",
       "      <td>244.028641</td>\n",
       "    </tr>\n",
       "    <tr>\n",
       "      <th>47</th>\n",
       "      <td>era5_2018d048.nc_3_100_wind_eastward.csv</td>\n",
       "      <td>4.590781</td>\n",
       "      <td>6.022020</td>\n",
       "      <td>2018-02-17</td>\n",
       "      <td>False</td>\n",
       "      <td>6.022020</td>\n",
       "      <td>False</td>\n",
       "      <td>False</td>\n",
       "      <td>244.084467</td>\n",
       "    </tr>\n",
       "    <tr>\n",
       "      <th>48</th>\n",
       "      <td>era5_2018d049.nc_3_100_wind_eastward.csv</td>\n",
       "      <td>4.690028</td>\n",
       "      <td>4.267596</td>\n",
       "      <td>2018-02-18</td>\n",
       "      <td>False</td>\n",
       "      <td>4.267596</td>\n",
       "      <td>False</td>\n",
       "      <td>False</td>\n",
       "      <td>244.268623</td>\n",
       "    </tr>\n",
       "    <tr>\n",
       "      <th>49</th>\n",
       "      <td>era5_2018d050.nc_3_100_wind_eastward.csv</td>\n",
       "      <td>4.938045</td>\n",
       "      <td>6.444854</td>\n",
       "      <td>2018-02-19</td>\n",
       "      <td>False</td>\n",
       "      <td>6.444854</td>\n",
       "      <td>False</td>\n",
       "      <td>False</td>\n",
       "      <td>244.738749</td>\n",
       "    </tr>\n",
       "    <tr>\n",
       "      <th>50</th>\n",
       "      <td>era5_2018d051.nc_3_100_wind_eastward.csv</td>\n",
       "      <td>4.945893</td>\n",
       "      <td>8.529118</td>\n",
       "      <td>2018-02-20</td>\n",
       "      <td>False</td>\n",
       "      <td>8.529118</td>\n",
       "      <td>False</td>\n",
       "      <td>False</td>\n",
       "      <td>245.564576</td>\n",
       "    </tr>\n",
       "    <tr>\n",
       "      <th>51</th>\n",
       "      <td>era5_2018d052.nc_3_100_wind_eastward.csv</td>\n",
       "      <td>4.941110</td>\n",
       "      <td>5.954099</td>\n",
       "      <td>2018-02-21</td>\n",
       "      <td>False</td>\n",
       "      <td>5.954099</td>\n",
       "      <td>False</td>\n",
       "      <td>False</td>\n",
       "      <td>245.394428</td>\n",
       "    </tr>\n",
       "    <tr>\n",
       "      <th>52</th>\n",
       "      <td>era5_2018d053.nc_3_100_wind_eastward.csv</td>\n",
       "      <td>4.613032</td>\n",
       "      <td>6.578235</td>\n",
       "      <td>2018-02-22</td>\n",
       "      <td>False</td>\n",
       "      <td>6.578235</td>\n",
       "      <td>False</td>\n",
       "      <td>False</td>\n",
       "      <td>245.220731</td>\n",
       "    </tr>\n",
       "    <tr>\n",
       "      <th>53</th>\n",
       "      <td>era5_2018d054.nc_3_100_wind_eastward.csv</td>\n",
       "      <td>4.465351</td>\n",
       "      <td>5.284296</td>\n",
       "      <td>2018-02-23</td>\n",
       "      <td>False</td>\n",
       "      <td>5.284296</td>\n",
       "      <td>False</td>\n",
       "      <td>False</td>\n",
       "      <td>246.086358</td>\n",
       "    </tr>\n",
       "  </tbody>\n",
       "</table>\n",
       "</div>"
      ],
      "text/plain": [
       "                                        file  wind_eastward_mean  \\\n",
       "0   era5_2018d001.nc_3_100_wind_eastward.csv            5.082608   \n",
       "1   era5_2018d002.nc_3_100_wind_eastward.csv            5.016068   \n",
       "2   era5_2018d003.nc_3_100_wind_eastward.csv            4.830522   \n",
       "3   era5_2018d004.nc_3_100_wind_eastward.csv            4.947426   \n",
       "4   era5_2018d005.nc_3_100_wind_eastward.csv            4.875367   \n",
       "5   era5_2018d006.nc_3_100_wind_eastward.csv            4.626236   \n",
       "6   era5_2018d007.nc_3_100_wind_eastward.csv            4.764652   \n",
       "7   era5_2018d008.nc_3_100_wind_eastward.csv            4.565523   \n",
       "8   era5_2018d009.nc_3_100_wind_eastward.csv            4.454573   \n",
       "9   era5_2018d010.nc_3_100_wind_eastward.csv            4.946314   \n",
       "10  era5_2018d011.nc_3_100_wind_eastward.csv            4.881298   \n",
       "11  era5_2018d012.nc_3_100_wind_eastward.csv            4.537935   \n",
       "12  era5_2018d013.nc_3_100_wind_eastward.csv            4.823134   \n",
       "13  era5_2018d014.nc_3_100_wind_eastward.csv            5.003999   \n",
       "14  era5_2018d015.nc_3_100_wind_eastward.csv            5.077587   \n",
       "15  era5_2018d016.nc_3_100_wind_eastward.csv            4.432913   \n",
       "16  era5_2018d017.nc_3_100_wind_eastward.csv            3.994075   \n",
       "17  era5_2018d018.nc_3_100_wind_eastward.csv            3.939179   \n",
       "18  era5_2018d019.nc_3_100_wind_eastward.csv            3.919543   \n",
       "19  era5_2018d020.nc_3_100_wind_eastward.csv            4.025844   \n",
       "20  era5_2018d021.nc_3_100_wind_eastward.csv            3.893499   \n",
       "21  era5_2018d022.nc_3_100_wind_eastward.csv            4.010282   \n",
       "22  era5_2018d023.nc_3_100_wind_eastward.csv            4.179081   \n",
       "23  era5_2018d024.nc_3_100_wind_eastward.csv            4.362682   \n",
       "24  era5_2018d025.nc_3_100_wind_eastward.csv            4.562082   \n",
       "25  era5_2018d026.nc_3_100_wind_eastward.csv            4.874183   \n",
       "26  era5_2018d027.nc_3_100_wind_eastward.csv            5.061144   \n",
       "27  era5_2018d028.nc_3_100_wind_eastward.csv            5.035450   \n",
       "28  era5_2018d029.nc_3_100_wind_eastward.csv            5.206967   \n",
       "29  era5_2018d030.nc_3_100_wind_eastward.csv            5.023053   \n",
       "30  era5_2018d031.nc_3_100_wind_eastward.csv            4.897373   \n",
       "31  era5_2018d032.nc_3_100_wind_eastward.csv            5.056071   \n",
       "32  era5_2018d033.nc_3_100_wind_eastward.csv            5.585545   \n",
       "33  era5_2018d034.nc_3_100_wind_eastward.csv            5.572232   \n",
       "34  era5_2018d035.nc_3_100_wind_eastward.csv            5.634420   \n",
       "35  era5_2018d036.nc_3_100_wind_eastward.csv            5.848187   \n",
       "36  era5_2018d037.nc_3_100_wind_eastward.csv            5.970732   \n",
       "37  era5_2018d038.nc_3_100_wind_eastward.csv            5.931104   \n",
       "38  era5_2018d039.nc_3_100_wind_eastward.csv            5.871731   \n",
       "39  era5_2018d040.nc_3_100_wind_eastward.csv            5.570853   \n",
       "40  era5_2018d041.nc_3_100_wind_eastward.csv            5.207080   \n",
       "41  era5_2018d042.nc_3_100_wind_eastward.csv            4.825414   \n",
       "42  era5_2018d043.nc_3_100_wind_eastward.csv            5.134014   \n",
       "43  era5_2018d044.nc_3_100_wind_eastward.csv            5.377680   \n",
       "44  era5_2018d045.nc_3_100_wind_eastward.csv            5.221009   \n",
       "45  era5_2018d046.nc_3_100_wind_eastward.csv            5.067136   \n",
       "46  era5_2018d047.nc_3_100_wind_eastward.csv            4.857086   \n",
       "47  era5_2018d048.nc_3_100_wind_eastward.csv            4.590781   \n",
       "48  era5_2018d049.nc_3_100_wind_eastward.csv            4.690028   \n",
       "49  era5_2018d050.nc_3_100_wind_eastward.csv            4.938045   \n",
       "50  era5_2018d051.nc_3_100_wind_eastward.csv            4.945893   \n",
       "51  era5_2018d052.nc_3_100_wind_eastward.csv            4.941110   \n",
       "52  era5_2018d053.nc_3_100_wind_eastward.csv            4.613032   \n",
       "53  era5_2018d054.nc_3_100_wind_eastward.csv            4.465351   \n",
       "\n",
       "    wind_eastward_mean_selection      dates  outliers  res_filtered   SSW_  \\\n",
       "0                       5.079032 2018-01-01     False      5.079032  False   \n",
       "1                       6.175940 2018-01-02     False      6.175940  False   \n",
       "2                       5.880341 2018-01-03     False      5.880341  False   \n",
       "3                       4.199060 2018-01-04     False      4.199060  False   \n",
       "4                       2.870764 2018-01-05     False      2.870764  False   \n",
       "5                       4.044064 2018-01-06     False      4.044064  False   \n",
       "6                       6.011424 2018-01-07     False      6.011424  False   \n",
       "7                       5.073774 2018-01-08     False      5.073774  False   \n",
       "8                       2.628993 2018-01-09     False      2.628993  False   \n",
       "9                       4.159493 2018-01-10     False      4.159493  False   \n",
       "10                      4.681943 2018-01-11     False      4.681943  False   \n",
       "11                      4.618677 2018-01-12     False      4.618677  False   \n",
       "12                      8.157209 2018-01-13     False      8.157209  False   \n",
       "13                      8.370494 2018-01-14     False      8.370494  False   \n",
       "14                      7.628216 2018-01-15     False      7.628216  False   \n",
       "15                      7.287439 2018-01-16     False      7.287439  False   \n",
       "16                      6.052842 2018-01-17     False      6.052842  False   \n",
       "17                      4.541568 2018-01-18     False      4.541568  False   \n",
       "18                      2.119969 2018-01-19     False      2.119969  False   \n",
       "19                     -0.700829 2018-01-20     False     -0.700829   True   \n",
       "20                     -2.083257 2018-01-21     False     -2.083257  False   \n",
       "21                     -0.872641 2018-01-22     False     -0.872641  False   \n",
       "22                      1.646831 2018-01-23     False      1.646831  False   \n",
       "23                      3.523615 2018-01-24     False      3.523615  False   \n",
       "24                      4.648050 2018-01-25     False      4.648050  False   \n",
       "25                      4.456990 2018-01-26     False      4.456990  False   \n",
       "26                      7.592098 2018-01-27     False      7.592098  False   \n",
       "27                      7.472702 2018-01-28     False      7.472702  False   \n",
       "28                      6.276433 2018-01-29     False      6.276433  False   \n",
       "29                      6.000108 2018-01-30     False      6.000108  False   \n",
       "30                      2.846956 2018-01-31     False      2.846956  False   \n",
       "31                      2.329159 2018-02-01     False      2.329159  False   \n",
       "32                      3.964041 2018-02-02     False      3.964041  False   \n",
       "33                      3.237221 2018-02-03     False      3.237221  False   \n",
       "34                      4.744061 2018-02-04     False      4.744061  False   \n",
       "35                      5.243373 2018-02-05     False      5.243373  False   \n",
       "36                      4.368913 2018-02-06     False      4.368913  False   \n",
       "37                      6.751072 2018-02-07     False      6.751072  False   \n",
       "38                      4.631700 2018-02-08     False      4.631700  False   \n",
       "39                      4.891966 2018-02-09     False      4.891966  False   \n",
       "40                      5.745875 2018-02-10     False      5.745875  False   \n",
       "41                      5.124168 2018-02-11     False      5.124168  False   \n",
       "42                      6.885778 2018-02-12     False      6.885778  False   \n",
       "43                      7.050673 2018-02-13     False      7.050673  False   \n",
       "44                      5.725447 2018-02-14     False      5.725447  False   \n",
       "45                      5.890432 2018-02-15     False      5.890432  False   \n",
       "46                      6.714270 2018-02-16     False      6.714270  False   \n",
       "47                      6.022020 2018-02-17     False      6.022020  False   \n",
       "48                      4.267596 2018-02-18     False      4.267596  False   \n",
       "49                      6.444854 2018-02-19     False      6.444854  False   \n",
       "50                      8.529118 2018-02-20     False      8.529118  False   \n",
       "51                      5.954099 2018-02-21     False      5.954099  False   \n",
       "52                      6.578235 2018-02-22     False      6.578235  False   \n",
       "53                      5.284296 2018-02-23     False      5.284296  False   \n",
       "\n",
       "    SSW_flag  temperature_selection_mean  \n",
       "0      False                  242.769261  \n",
       "1      False                  242.309842  \n",
       "2      False                  241.995566  \n",
       "3      False                  241.612526  \n",
       "4      False                  241.308549  \n",
       "5      False                  241.379174  \n",
       "6      False                  241.913818  \n",
       "7      False                  242.961023  \n",
       "8      False                  244.331364  \n",
       "9      False                  244.991246  \n",
       "10     False                  245.150582  \n",
       "11     False                  245.912989  \n",
       "12     False                  245.834479  \n",
       "13     False                  245.665373  \n",
       "14     False                  245.991413  \n",
       "15     False                  246.224168  \n",
       "16     False                  246.021431  \n",
       "17     False                  245.756613  \n",
       "18     False                  245.362369  \n",
       "19     False                  244.969092  \n",
       "20     False                  244.905125  \n",
       "21     False                  244.875851  \n",
       "22     False                  244.322229  \n",
       "23     False                  243.842104  \n",
       "24     False                  243.467362  \n",
       "25     False                  243.640953  \n",
       "26     False                  243.452643  \n",
       "27     False                  243.206570  \n",
       "28     False                  243.316411  \n",
       "29     False                  243.430286  \n",
       "30     False                  243.455491  \n",
       "31     False                  243.534421  \n",
       "32     False                  243.108107  \n",
       "33     False                  243.308933  \n",
       "34     False                  244.198445  \n",
       "35     False                  244.872404  \n",
       "36     False                  244.858815  \n",
       "37     False                  244.763317  \n",
       "38     False                  244.541315  \n",
       "39     False                  244.698139  \n",
       "40     False                  244.520022  \n",
       "41     False                  244.360016  \n",
       "42     False                  244.212047  \n",
       "43     False                  243.653782  \n",
       "44     False                  243.832820  \n",
       "45     False                  244.076646  \n",
       "46     False                  244.028641  \n",
       "47     False                  244.084467  \n",
       "48     False                  244.268623  \n",
       "49     False                  244.738749  \n",
       "50     False                  245.564576  \n",
       "51     False                  245.394428  \n",
       "52     False                  245.220731  \n",
       "53     False                  246.086358  "
      ]
     },
     "execution_count": 30,
     "metadata": {},
     "output_type": "execute_result"
    }
   ],
   "source": [
    "df"
   ]
  },
  {
   "cell_type": "code",
   "execution_count": 31,
   "metadata": {},
   "outputs": [
    {
     "data": {
      "application/vnd.plotly.v1+json": {
       "config": {
        "plotlyServerURL": "https://plot.ly"
       },
       "data": [
        {
         "line": {
          "color": "blue"
         },
         "name": "Res Filtered",
         "type": "scatter",
         "x": [
          "2018-01-01T00:00:00",
          "2018-01-02T00:00:00",
          "2018-01-03T00:00:00",
          "2018-01-04T00:00:00",
          "2018-01-05T00:00:00",
          "2018-01-06T00:00:00",
          "2018-01-07T00:00:00",
          "2018-01-08T00:00:00",
          "2018-01-09T00:00:00",
          "2018-01-10T00:00:00",
          "2018-01-11T00:00:00",
          "2018-01-12T00:00:00",
          "2018-01-13T00:00:00",
          "2018-01-14T00:00:00",
          "2018-01-15T00:00:00",
          "2018-01-16T00:00:00",
          "2018-01-17T00:00:00",
          "2018-01-18T00:00:00",
          "2018-01-19T00:00:00",
          "2018-01-20T00:00:00",
          "2018-01-21T00:00:00",
          "2018-01-22T00:00:00",
          "2018-01-23T00:00:00",
          "2018-01-24T00:00:00",
          "2018-01-25T00:00:00",
          "2018-01-26T00:00:00",
          "2018-01-27T00:00:00",
          "2018-01-28T00:00:00",
          "2018-01-29T00:00:00",
          "2018-01-30T00:00:00",
          "2018-01-31T00:00:00",
          "2018-02-01T00:00:00",
          "2018-02-02T00:00:00",
          "2018-02-03T00:00:00",
          "2018-02-04T00:00:00",
          "2018-02-05T00:00:00",
          "2018-02-06T00:00:00",
          "2018-02-07T00:00:00",
          "2018-02-08T00:00:00",
          "2018-02-09T00:00:00",
          "2018-02-10T00:00:00",
          "2018-02-11T00:00:00",
          "2018-02-12T00:00:00",
          "2018-02-13T00:00:00",
          "2018-02-14T00:00:00",
          "2018-02-15T00:00:00",
          "2018-02-16T00:00:00",
          "2018-02-17T00:00:00",
          "2018-02-18T00:00:00",
          "2018-02-19T00:00:00",
          "2018-02-20T00:00:00",
          "2018-02-21T00:00:00",
          "2018-02-22T00:00:00",
          "2018-02-23T00:00:00"
         ],
         "y": [
          5.079032296330019,
          6.17593993693152,
          5.880341268581435,
          4.199060015479643,
          2.870764382393934,
          4.044064344915955,
          6.01142352081979,
          5.073773872440938,
          2.628993273195001,
          4.159493178475879,
          4.6819430183711095,
          4.618677365885923,
          8.157208732102827,
          8.370494040399047,
          7.628215853597648,
          7.28743867176274,
          6.052842169762923,
          4.5415683375808396,
          2.1199688758982056,
          -0.7008287444205404,
          -2.0832568298035516,
          -0.8726405052325745,
          1.646831489579244,
          3.5236153631848923,
          4.648050214262766,
          4.4569896868684795,
          7.592097726310419,
          7.472702439026273,
          6.276432605624393,
          6.000108358916381,
          2.8469555466639083,
          2.3291586354873868,
          3.9640413891366957,
          3.237221236013056,
          4.744060692886374,
          5.243372506644774,
          4.368912786693088,
          6.751071977826145,
          4.631699990748994,
          4.8919660231329685,
          5.745874570146455,
          5.124168084190484,
          6.885778387330445,
          7.050672643256587,
          5.725447044289286,
          5.890431891344276,
          6.71426956292492,
          6.022020232795756,
          4.267596442556463,
          6.444854174155276,
          8.529118168285557,
          5.95409869332182,
          6.578234628719691,
          5.284295721759421
         ]
        },
        {
         "line": {
          "color": "orange"
         },
         "name": "Temperature Selection Mean",
         "type": "scatter",
         "x": [
          "2018-01-01T00:00:00",
          "2018-01-02T00:00:00",
          "2018-01-03T00:00:00",
          "2018-01-04T00:00:00",
          "2018-01-05T00:00:00",
          "2018-01-06T00:00:00",
          "2018-01-07T00:00:00",
          "2018-01-08T00:00:00",
          "2018-01-09T00:00:00",
          "2018-01-10T00:00:00",
          "2018-01-11T00:00:00",
          "2018-01-12T00:00:00",
          "2018-01-13T00:00:00",
          "2018-01-14T00:00:00",
          "2018-01-15T00:00:00",
          "2018-01-16T00:00:00",
          "2018-01-17T00:00:00",
          "2018-01-18T00:00:00",
          "2018-01-19T00:00:00",
          "2018-01-20T00:00:00",
          "2018-01-21T00:00:00",
          "2018-01-22T00:00:00",
          "2018-01-23T00:00:00",
          "2018-01-24T00:00:00",
          "2018-01-25T00:00:00",
          "2018-01-26T00:00:00",
          "2018-01-27T00:00:00",
          "2018-01-28T00:00:00",
          "2018-01-29T00:00:00",
          "2018-01-30T00:00:00",
          "2018-01-31T00:00:00",
          "2018-02-01T00:00:00",
          "2018-02-02T00:00:00",
          "2018-02-03T00:00:00",
          "2018-02-04T00:00:00",
          "2018-02-05T00:00:00",
          "2018-02-06T00:00:00",
          "2018-02-07T00:00:00",
          "2018-02-08T00:00:00",
          "2018-02-09T00:00:00",
          "2018-02-10T00:00:00",
          "2018-02-11T00:00:00",
          "2018-02-12T00:00:00",
          "2018-02-13T00:00:00",
          "2018-02-14T00:00:00",
          "2018-02-15T00:00:00",
          "2018-02-16T00:00:00",
          "2018-02-17T00:00:00",
          "2018-02-18T00:00:00",
          "2018-02-19T00:00:00",
          "2018-02-20T00:00:00",
          "2018-02-21T00:00:00",
          "2018-02-22T00:00:00",
          "2018-02-23T00:00:00"
         ],
         "y": [
          242.7692606786763,
          242.30984218211455,
          241.9955662819696,
          241.61252633187522,
          241.30854945031408,
          241.3791743065871,
          241.9138179408094,
          242.9610230920145,
          244.3313638460366,
          244.9912464168027,
          245.1505823211337,
          245.91298855061697,
          245.83447901768324,
          245.66537344743386,
          245.99141334613827,
          246.22416808292556,
          246.02143094028725,
          245.75661319410457,
          245.36236909548197,
          244.96909243716033,
          244.90512468359887,
          244.8758508742854,
          244.32222856405426,
          243.84210422941317,
          243.46736222140404,
          243.64095289919652,
          243.45264253696925,
          243.20657024354537,
          243.31641058655308,
          243.43028580683028,
          243.4554907052931,
          243.5344207978197,
          243.10810722417068,
          243.30893268211068,
          244.19844526704432,
          244.8724040169468,
          244.8588148376185,
          244.7633167553271,
          244.54131475941733,
          244.69813929641893,
          244.52002158776497,
          244.36001583259227,
          244.2120468497256,
          243.65378230231215,
          243.83281992408592,
          244.0766461925227,
          244.02864111967887,
          244.0844667387851,
          244.2686227626403,
          244.73874910186916,
          245.5645758058068,
          245.3944279618385,
          245.22073073273103,
          246.08635826140173
         ],
         "yaxis": "y2"
        }
       ],
       "layout": {
        "legend": {
         "orientation": "h",
         "x": 0.5,
         "y": 1.2
        },
        "shapes": [
         {
          "line": {
           "color": "gray",
           "dash": "dash"
          },
          "type": "line",
          "x0": "2018-01-01T00:00:00",
          "x1": "2018-02-23T00:00:00",
          "y0": 0,
          "y1": 0
         }
        ],
        "template": {
         "data": {
          "bar": [
           {
            "error_x": {
             "color": "#2a3f5f"
            },
            "error_y": {
             "color": "#2a3f5f"
            },
            "marker": {
             "line": {
              "color": "#E5ECF6",
              "width": 0.5
             },
             "pattern": {
              "fillmode": "overlay",
              "size": 10,
              "solidity": 0.2
             }
            },
            "type": "bar"
           }
          ],
          "barpolar": [
           {
            "marker": {
             "line": {
              "color": "#E5ECF6",
              "width": 0.5
             },
             "pattern": {
              "fillmode": "overlay",
              "size": 10,
              "solidity": 0.2
             }
            },
            "type": "barpolar"
           }
          ],
          "carpet": [
           {
            "aaxis": {
             "endlinecolor": "#2a3f5f",
             "gridcolor": "white",
             "linecolor": "white",
             "minorgridcolor": "white",
             "startlinecolor": "#2a3f5f"
            },
            "baxis": {
             "endlinecolor": "#2a3f5f",
             "gridcolor": "white",
             "linecolor": "white",
             "minorgridcolor": "white",
             "startlinecolor": "#2a3f5f"
            },
            "type": "carpet"
           }
          ],
          "choropleth": [
           {
            "colorbar": {
             "outlinewidth": 0,
             "ticks": ""
            },
            "type": "choropleth"
           }
          ],
          "contour": [
           {
            "colorbar": {
             "outlinewidth": 0,
             "ticks": ""
            },
            "colorscale": [
             [
              0,
              "#0d0887"
             ],
             [
              0.1111111111111111,
              "#46039f"
             ],
             [
              0.2222222222222222,
              "#7201a8"
             ],
             [
              0.3333333333333333,
              "#9c179e"
             ],
             [
              0.4444444444444444,
              "#bd3786"
             ],
             [
              0.5555555555555556,
              "#d8576b"
             ],
             [
              0.6666666666666666,
              "#ed7953"
             ],
             [
              0.7777777777777778,
              "#fb9f3a"
             ],
             [
              0.8888888888888888,
              "#fdca26"
             ],
             [
              1,
              "#f0f921"
             ]
            ],
            "type": "contour"
           }
          ],
          "contourcarpet": [
           {
            "colorbar": {
             "outlinewidth": 0,
             "ticks": ""
            },
            "type": "contourcarpet"
           }
          ],
          "heatmap": [
           {
            "colorbar": {
             "outlinewidth": 0,
             "ticks": ""
            },
            "colorscale": [
             [
              0,
              "#0d0887"
             ],
             [
              0.1111111111111111,
              "#46039f"
             ],
             [
              0.2222222222222222,
              "#7201a8"
             ],
             [
              0.3333333333333333,
              "#9c179e"
             ],
             [
              0.4444444444444444,
              "#bd3786"
             ],
             [
              0.5555555555555556,
              "#d8576b"
             ],
             [
              0.6666666666666666,
              "#ed7953"
             ],
             [
              0.7777777777777778,
              "#fb9f3a"
             ],
             [
              0.8888888888888888,
              "#fdca26"
             ],
             [
              1,
              "#f0f921"
             ]
            ],
            "type": "heatmap"
           }
          ],
          "heatmapgl": [
           {
            "colorbar": {
             "outlinewidth": 0,
             "ticks": ""
            },
            "colorscale": [
             [
              0,
              "#0d0887"
             ],
             [
              0.1111111111111111,
              "#46039f"
             ],
             [
              0.2222222222222222,
              "#7201a8"
             ],
             [
              0.3333333333333333,
              "#9c179e"
             ],
             [
              0.4444444444444444,
              "#bd3786"
             ],
             [
              0.5555555555555556,
              "#d8576b"
             ],
             [
              0.6666666666666666,
              "#ed7953"
             ],
             [
              0.7777777777777778,
              "#fb9f3a"
             ],
             [
              0.8888888888888888,
              "#fdca26"
             ],
             [
              1,
              "#f0f921"
             ]
            ],
            "type": "heatmapgl"
           }
          ],
          "histogram": [
           {
            "marker": {
             "pattern": {
              "fillmode": "overlay",
              "size": 10,
              "solidity": 0.2
             }
            },
            "type": "histogram"
           }
          ],
          "histogram2d": [
           {
            "colorbar": {
             "outlinewidth": 0,
             "ticks": ""
            },
            "colorscale": [
             [
              0,
              "#0d0887"
             ],
             [
              0.1111111111111111,
              "#46039f"
             ],
             [
              0.2222222222222222,
              "#7201a8"
             ],
             [
              0.3333333333333333,
              "#9c179e"
             ],
             [
              0.4444444444444444,
              "#bd3786"
             ],
             [
              0.5555555555555556,
              "#d8576b"
             ],
             [
              0.6666666666666666,
              "#ed7953"
             ],
             [
              0.7777777777777778,
              "#fb9f3a"
             ],
             [
              0.8888888888888888,
              "#fdca26"
             ],
             [
              1,
              "#f0f921"
             ]
            ],
            "type": "histogram2d"
           }
          ],
          "histogram2dcontour": [
           {
            "colorbar": {
             "outlinewidth": 0,
             "ticks": ""
            },
            "colorscale": [
             [
              0,
              "#0d0887"
             ],
             [
              0.1111111111111111,
              "#46039f"
             ],
             [
              0.2222222222222222,
              "#7201a8"
             ],
             [
              0.3333333333333333,
              "#9c179e"
             ],
             [
              0.4444444444444444,
              "#bd3786"
             ],
             [
              0.5555555555555556,
              "#d8576b"
             ],
             [
              0.6666666666666666,
              "#ed7953"
             ],
             [
              0.7777777777777778,
              "#fb9f3a"
             ],
             [
              0.8888888888888888,
              "#fdca26"
             ],
             [
              1,
              "#f0f921"
             ]
            ],
            "type": "histogram2dcontour"
           }
          ],
          "mesh3d": [
           {
            "colorbar": {
             "outlinewidth": 0,
             "ticks": ""
            },
            "type": "mesh3d"
           }
          ],
          "parcoords": [
           {
            "line": {
             "colorbar": {
              "outlinewidth": 0,
              "ticks": ""
             }
            },
            "type": "parcoords"
           }
          ],
          "pie": [
           {
            "automargin": true,
            "type": "pie"
           }
          ],
          "scatter": [
           {
            "fillpattern": {
             "fillmode": "overlay",
             "size": 10,
             "solidity": 0.2
            },
            "type": "scatter"
           }
          ],
          "scatter3d": [
           {
            "line": {
             "colorbar": {
              "outlinewidth": 0,
              "ticks": ""
             }
            },
            "marker": {
             "colorbar": {
              "outlinewidth": 0,
              "ticks": ""
             }
            },
            "type": "scatter3d"
           }
          ],
          "scattercarpet": [
           {
            "marker": {
             "colorbar": {
              "outlinewidth": 0,
              "ticks": ""
             }
            },
            "type": "scattercarpet"
           }
          ],
          "scattergeo": [
           {
            "marker": {
             "colorbar": {
              "outlinewidth": 0,
              "ticks": ""
             }
            },
            "type": "scattergeo"
           }
          ],
          "scattergl": [
           {
            "marker": {
             "colorbar": {
              "outlinewidth": 0,
              "ticks": ""
             }
            },
            "type": "scattergl"
           }
          ],
          "scattermapbox": [
           {
            "marker": {
             "colorbar": {
              "outlinewidth": 0,
              "ticks": ""
             }
            },
            "type": "scattermapbox"
           }
          ],
          "scatterpolar": [
           {
            "marker": {
             "colorbar": {
              "outlinewidth": 0,
              "ticks": ""
             }
            },
            "type": "scatterpolar"
           }
          ],
          "scatterpolargl": [
           {
            "marker": {
             "colorbar": {
              "outlinewidth": 0,
              "ticks": ""
             }
            },
            "type": "scatterpolargl"
           }
          ],
          "scatterternary": [
           {
            "marker": {
             "colorbar": {
              "outlinewidth": 0,
              "ticks": ""
             }
            },
            "type": "scatterternary"
           }
          ],
          "surface": [
           {
            "colorbar": {
             "outlinewidth": 0,
             "ticks": ""
            },
            "colorscale": [
             [
              0,
              "#0d0887"
             ],
             [
              0.1111111111111111,
              "#46039f"
             ],
             [
              0.2222222222222222,
              "#7201a8"
             ],
             [
              0.3333333333333333,
              "#9c179e"
             ],
             [
              0.4444444444444444,
              "#bd3786"
             ],
             [
              0.5555555555555556,
              "#d8576b"
             ],
             [
              0.6666666666666666,
              "#ed7953"
             ],
             [
              0.7777777777777778,
              "#fb9f3a"
             ],
             [
              0.8888888888888888,
              "#fdca26"
             ],
             [
              1,
              "#f0f921"
             ]
            ],
            "type": "surface"
           }
          ],
          "table": [
           {
            "cells": {
             "fill": {
              "color": "#EBF0F8"
             },
             "line": {
              "color": "white"
             }
            },
            "header": {
             "fill": {
              "color": "#C8D4E3"
             },
             "line": {
              "color": "white"
             }
            },
            "type": "table"
           }
          ]
         },
         "layout": {
          "annotationdefaults": {
           "arrowcolor": "#2a3f5f",
           "arrowhead": 0,
           "arrowwidth": 1
          },
          "autotypenumbers": "strict",
          "coloraxis": {
           "colorbar": {
            "outlinewidth": 0,
            "ticks": ""
           }
          },
          "colorscale": {
           "diverging": [
            [
             0,
             "#8e0152"
            ],
            [
             0.1,
             "#c51b7d"
            ],
            [
             0.2,
             "#de77ae"
            ],
            [
             0.3,
             "#f1b6da"
            ],
            [
             0.4,
             "#fde0ef"
            ],
            [
             0.5,
             "#f7f7f7"
            ],
            [
             0.6,
             "#e6f5d0"
            ],
            [
             0.7,
             "#b8e186"
            ],
            [
             0.8,
             "#7fbc41"
            ],
            [
             0.9,
             "#4d9221"
            ],
            [
             1,
             "#276419"
            ]
           ],
           "sequential": [
            [
             0,
             "#0d0887"
            ],
            [
             0.1111111111111111,
             "#46039f"
            ],
            [
             0.2222222222222222,
             "#7201a8"
            ],
            [
             0.3333333333333333,
             "#9c179e"
            ],
            [
             0.4444444444444444,
             "#bd3786"
            ],
            [
             0.5555555555555556,
             "#d8576b"
            ],
            [
             0.6666666666666666,
             "#ed7953"
            ],
            [
             0.7777777777777778,
             "#fb9f3a"
            ],
            [
             0.8888888888888888,
             "#fdca26"
            ],
            [
             1,
             "#f0f921"
            ]
           ],
           "sequentialminus": [
            [
             0,
             "#0d0887"
            ],
            [
             0.1111111111111111,
             "#46039f"
            ],
            [
             0.2222222222222222,
             "#7201a8"
            ],
            [
             0.3333333333333333,
             "#9c179e"
            ],
            [
             0.4444444444444444,
             "#bd3786"
            ],
            [
             0.5555555555555556,
             "#d8576b"
            ],
            [
             0.6666666666666666,
             "#ed7953"
            ],
            [
             0.7777777777777778,
             "#fb9f3a"
            ],
            [
             0.8888888888888888,
             "#fdca26"
            ],
            [
             1,
             "#f0f921"
            ]
           ]
          },
          "colorway": [
           "#636efa",
           "#EF553B",
           "#00cc96",
           "#ab63fa",
           "#FFA15A",
           "#19d3f3",
           "#FF6692",
           "#B6E880",
           "#FF97FF",
           "#FECB52"
          ],
          "font": {
           "color": "#2a3f5f"
          },
          "geo": {
           "bgcolor": "white",
           "lakecolor": "white",
           "landcolor": "#E5ECF6",
           "showlakes": true,
           "showland": true,
           "subunitcolor": "white"
          },
          "hoverlabel": {
           "align": "left"
          },
          "hovermode": "closest",
          "mapbox": {
           "style": "light"
          },
          "paper_bgcolor": "white",
          "plot_bgcolor": "#E5ECF6",
          "polar": {
           "angularaxis": {
            "gridcolor": "white",
            "linecolor": "white",
            "ticks": ""
           },
           "bgcolor": "#E5ECF6",
           "radialaxis": {
            "gridcolor": "white",
            "linecolor": "white",
            "ticks": ""
           }
          },
          "scene": {
           "xaxis": {
            "backgroundcolor": "#E5ECF6",
            "gridcolor": "white",
            "gridwidth": 2,
            "linecolor": "white",
            "showbackground": true,
            "ticks": "",
            "zerolinecolor": "white"
           },
           "yaxis": {
            "backgroundcolor": "#E5ECF6",
            "gridcolor": "white",
            "gridwidth": 2,
            "linecolor": "white",
            "showbackground": true,
            "ticks": "",
            "zerolinecolor": "white"
           },
           "zaxis": {
            "backgroundcolor": "#E5ECF6",
            "gridcolor": "white",
            "gridwidth": 2,
            "linecolor": "white",
            "showbackground": true,
            "ticks": "",
            "zerolinecolor": "white"
           }
          },
          "shapedefaults": {
           "line": {
            "color": "#2a3f5f"
           }
          },
          "ternary": {
           "aaxis": {
            "gridcolor": "white",
            "linecolor": "white",
            "ticks": ""
           },
           "baxis": {
            "gridcolor": "white",
            "linecolor": "white",
            "ticks": ""
           },
           "bgcolor": "#E5ECF6",
           "caxis": {
            "gridcolor": "white",
            "linecolor": "white",
            "ticks": ""
           }
          },
          "title": {
           "x": 0.05
          },
          "xaxis": {
           "automargin": true,
           "gridcolor": "white",
           "linecolor": "white",
           "ticks": "",
           "title": {
            "standoff": 15
           },
           "zerolinecolor": "white",
           "zerolinewidth": 2
          },
          "yaxis": {
           "automargin": true,
           "gridcolor": "white",
           "linecolor": "white",
           "ticks": "",
           "title": {
            "standoff": 15
           },
           "zerolinecolor": "white",
           "zerolinewidth": 2
          }
         }
        },
        "title": {
         "text": "ZMZW at 60◦ N latitude in 2018"
        },
        "xaxis": {
         "title": {
          "text": "Dates"
         }
        },
        "yaxis": {
         "range": [
          -50,
          50
         ],
         "title": {
          "text": "Res Filtered"
         }
        },
        "yaxis2": {
         "overlaying": "y",
         "range": [
          230,
          270
         ],
         "side": "right",
         "title": {
          "text": "Temperature Selection Mean"
         }
        }
       }
      }
     },
     "metadata": {},
     "output_type": "display_data"
    }
   ],
   "source": [
    "import plotly.graph_objects as go\n",
    "\n",
    "# Create figure and plot the DataFrame\n",
    "fig = go.Figure()\n",
    "fig.add_trace(go.Scatter(x=df['dates'], y=df['res_filtered'], name='Res Filtered', line=dict(color='blue')))\n",
    "fig.add_trace(go.Scatter(x=df['dates'], y=df['temperature_selection_mean'], name='Temperature Selection Mean', line=dict(color='orange'), yaxis='y2'))\n",
    "\n",
    "# Add a dashed line at y=0\n",
    "fig.add_shape(type='line', x0=df['dates'].min(), y0=0, x1=df['dates'].max(), y1=0, line=dict(color='gray', dash='dash'))\n",
    "\n",
    "# Find the index of the first negative value\n",
    "first_negative_index = (df['res_filtered'] < 0).idxmin()\n",
    "\n",
    "# Add vertical lines for SSW_flag == True\n",
    "for i, row in df.iterrows():\n",
    "    if row.SSW_flag == True:\n",
    "        fig.add_shape(type='line', x0=row.dates, y0=-50, x1=row.dates, y1=50, line=dict(color='red', dash='dash'))\n",
    "\n",
    "# Set layout\n",
    "fig.update_layout(\n",
    "    yaxis=dict(\n",
    "        range=[-50, 50],\n",
    "        title='Res Filtered'\n",
    "    ),\n",
    "    yaxis2=dict(\n",
    "        range=[230, 270],\n",
    "        title='Temperature Selection Mean',\n",
    "        side='right',\n",
    "        overlaying='y'\n",
    "    ),\n",
    "    xaxis=dict(title='Dates'),\n",
    "    title=f'ZMZW at 60◦ N latitude in {YEAR_ANALYSIS}',\n",
    "    legend=dict(orientation=\"h\", y=1.2, x=0.5)\n",
    ")\n",
    "\n",
    "# Show the plot\n",
    "fig.show()"
   ]
  },
  {
   "cell_type": "code",
   "execution_count": null,
   "metadata": {},
   "outputs": [
    {
     "data": {
      "text/plain": [
       "Timestamp('2017-01-01 00:00:00')"
      ]
     },
     "execution_count": 65,
     "metadata": {},
     "output_type": "execute_result"
    }
   ],
   "source": [
    "row['dates']"
   ]
  },
  {
   "cell_type": "code",
   "execution_count": null,
   "metadata": {},
   "outputs": [],
   "source": []
  }
 ],
 "metadata": {
  "kernelspec": {
   "display_name": "Python 3.8.16 ('geo_plotting')",
   "language": "python",
   "name": "python3"
  },
  "language_info": {
   "codemirror_mode": {
    "name": "ipython",
    "version": 3
   },
   "file_extension": ".py",
   "mimetype": "text/x-python",
   "name": "python",
   "nbconvert_exporter": "python",
   "pygments_lexer": "ipython3",
   "version": "3.8.16"
  },
  "orig_nbformat": 4,
  "vscode": {
   "interpreter": {
    "hash": "e8ad9489e57f94b24688f14228f7c19f90c3d384bbafa893e355475ae3832d01"
   }
  }
 },
 "nbformat": 4,
 "nbformat_minor": 2
}
