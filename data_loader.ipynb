{
 "cells": [
  {
   "cell_type": "code",
   "execution_count": 2,
   "metadata": {},
   "outputs": [
    {
     "name": "stderr",
     "output_type": "stream",
     "text": [
      "/Users/joaojesus/opt/anaconda3/envs/geo_plotting/lib/python3.8/site-packages/paramiko/transport.py:219: CryptographyDeprecationWarning: Blowfish has been deprecated\n",
      "  \"class\": algorithms.Blowfish,\n"
     ]
    }
   ],
   "source": [
    "import pysftp\n",
    "import os \n",
    "import numpy as np\n",
    "import pandas as pd\n",
    "import netCDF4\n",
    "import numpy as np\n",
    "\n",
    "from scipy import io\n",
    "from classes.matlab_reader import matlab_reader\n",
    "from classes.grid_funcs import map_grid,dataset,data_wizard\n",
    "from dotenv import load_dotenv   #for python-dotenv method\n",
    "from datetime import datetime"
   ]
  },
  {
   "cell_type": "code",
   "execution_count": 20,
   "metadata": {},
   "outputs": [
    {
     "data": {
      "text/plain": [
       "{2015: 151, 2016: 152, 2017: 151}"
      ]
     },
     "execution_count": 20,
     "metadata": {},
     "output_type": "execute_result"
    }
   ],
   "source": [
    "import calendar\n",
    "\n",
    "years = [year for year in range(2015,2017+1)]\n",
    "months = [1, 2, 3, 11, 12]\n",
    "\n",
    "\n",
    "dates = []\n",
    "year_days_dict = {}\n",
    "for year in years:\n",
    "    days_per_month = []\n",
    "    for month in months:\n",
    "        days_in_month = calendar.monthrange(year, month)[1]\n",
    "        days_per_month.append(days_in_month)\n",
    "        total_days = sum(days_per_month)\n",
    "        year_days_dict[year] = total_days\n",
    "\n",
    "        for day in range(1, days_in_month + 1):\n",
    "        # Create date object for the current day\n",
    "            date_str = f'{day}/{month}/{year}'\n",
    "            for hour in range(1,13):\n",
    "                date_obj = datetime.strptime(date_str + f' {hour}:0:0', '%d/%m/%Y %H:%M:%S')\n",
    "                # Add the date object to the list\n",
    "                dates.append(date_obj)\n",
    "\n",
    "\n",
    "year_days_dict"
   ]
  },
  {
   "cell_type": "code",
   "execution_count": 21,
   "metadata": {},
   "outputs": [
    {
     "data": {
      "text/plain": [
       "5448"
      ]
     },
     "execution_count": 21,
     "metadata": {},
     "output_type": "execute_result"
    }
   ],
   "source": [
    "len(dates)"
   ]
  },
  {
   "cell_type": "code",
   "execution_count": 13,
   "metadata": {},
   "outputs": [],
   "source": [
    "ds = netCDF4.Dataset('2015-2017.nc')"
   ]
  },
  {
   "cell_type": "code",
   "execution_count": 19,
   "metadata": {},
   "outputs": [],
   "source": [
    "for i in range(np.shape(ds['u'])[0]):\n",
    "    # potential_vorticity = ds['pv'][i] # POTENTIAL_VORTICITY\n",
    "    # relative_humidity = ds['r'][i] # RELATIVE_HUMIDITY\n",
    "    # specific_humidy = ds['q'][i] # SPECIFIC_HUMIDTY\n",
    "    temperature = ds['t'][i] # TEMPERATURE\n",
    "    wind_eastward = ds['u'][i] # WIND_EASTWARD\n",
    "    # wind_northward = ds['v'][i] # WIND_NORTHWARD\n",
    "    # vertical_velocity = ds['w'][i] # VERTICAL_VELOCITY\n",
    "\n",
    "    # np.savez_compressed(f\"PROCESSED_ERA5_ONLINE/COMPRESSED/POTENTIAL_VORTICITY/{dates[i].strftime(('%Y-%m-%d'))}.npz\", potential_vorticity)\n",
    "    # np.savez_compressed(f\"PROCESSED_ERA5_ONLINE/COMPRESSED/RELATIVE_HUMIDITY/{dates[i].strftime(('%Y-%m-%d'))}.npz\", relative_humidity)\n",
    "    # np.savez_compressed(f\"PROCESSED_ERA5_ONLINE/COMPRESSED/SPECIFIC_HUMIDTY/{dates[i].strftime(('%Y-%m-%d'))}.npz\", specific_humidy)\n",
    "    np.savez_compressed(f\"pre_processed_era5_online/COMPRESSED/TEMPERATURE/HOURLY/{dates[i].strftime(('%Y-%m-%d_%H:%M:%S'))}.npz\", temperature)\n",
    "    np.savez_compressed(f\"pre_processed_era5_online/COMPRESSED/WIND_EASTWARD//HOURLY/{dates[i].strftime(('%Y-%m-%d_%H:%M:%S'))}.npz\", wind_eastward)\n",
    "    # np.savez_compressed(f\"PROCESSED_ERA5_ONLINE/COMPRESSED/WIND_NORTHWARD/{dates[i].strftime(('%Y-%m-%d'))}.npz\", wind_northward)\n",
    "    # np.savez_compressed(f\"PROCESSED_ERA5_ONLINE/COMPRESSED/VERTICAL_VELOCITY/{dates[i].strftime(('%Y-%m-%d'))}.npz\", vertical_velocity)\n"
   ]
  },
  {
   "cell_type": "code",
   "execution_count": null,
   "metadata": {},
   "outputs": [],
   "source": [
    "# for i in range(np.shape(ds['u'])[0]):\n",
    "#     potential_vorticity = ds['pv'][i] # POTENTIAL_VORTICITY\n",
    "#     relative_humidity = ds['r'][i] # RELATIVE_HUMIDITY\n",
    "#     specific_humidy = ds['q'][i] # SPECIFIC_HUMIDTY\n",
    "#     temperature = ds['t'][i] # TEMPERATURE\n",
    "#     wind_eastward = ds['u'][i] # WIND_EASTWARD\n",
    "#     wind_northward = ds['v'][i] # WIND_NORTHWARD\n",
    "#     vertical_velocity = ds['w'][i] # VERTICAL_VELOCITY\n",
    "\n",
    "#     np.savetxt(f\"PROCESSED_ERA5_ONLINE/POTENTIAL_VORTICITY/{dates[i].strftime(('%Y-%m-%d'))}.csv\", potential_vorticity, delimiter=\",\")\n",
    "#     np.savetxt(f\"PROCESSED_ERA5_ONLINE/RELATIVE_HUMIDITY/{dates[i].strftime(('%Y-%m-%d'))}.csv\", relative_humidity, delimiter=\",\")\n",
    "#     np.savetxt(f\"PROCESSED_ERA5_ONLINE/SPECIFIC_HUMIDTY/{dates[i].strftime(('%Y-%m-%d'))}.csv\", specific_humidy, delimiter=\",\")\n",
    "#     np.savetxt(f\"PROCESSED_ERA5_ONLINE/TEMPERATURE/{dates[i].strftime(('%Y-%m-%d'))}.csv\", temperature, delimiter=\",\")\n",
    "#     np.savetxt(f\"PROCESSED_ERA5_ONLINE/WIND_EASTWARD/{dates[i].strftime(('%Y-%m-%d'))}.csv\", wind_eastward, delimiter=\",\")\n",
    "#     np.savetxt(f\"PROCESSED_ERA5_ONLINE/WIND_NORTHWARD/{dates[i].strftime(('%Y-%m-%d'))}.csv\", wind_northward, delimiter=\",\")\n",
    "#     np.savetxt(f\"PROCESSED_ERA5_ONLINE/VERTICAL_VELOCITY/{dates[i].strftime(('%Y-%m-%d'))}.csv\", vertical_velocity, delimiter=\",\")\n",
    "\n"
   ]
  }
 ],
 "metadata": {
  "kernelspec": {
   "display_name": "Python 3.8.16 ('geo_plotting')",
   "language": "python",
   "name": "python3"
  },
  "language_info": {
   "codemirror_mode": {
    "name": "ipython",
    "version": 3
   },
   "file_extension": ".py",
   "mimetype": "text/x-python",
   "name": "python",
   "nbconvert_exporter": "python",
   "pygments_lexer": "ipython3",
   "version": "3.8.16"
  },
  "orig_nbformat": 4,
  "vscode": {
   "interpreter": {
    "hash": "e8ad9489e57f94b24688f14228f7c19f90c3d384bbafa893e355475ae3832d01"
   }
  }
 },
 "nbformat": 4,
 "nbformat_minor": 2
}
