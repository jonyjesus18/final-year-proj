{
 "cells": [
  {
   "cell_type": "code",
   "execution_count": 2,
   "metadata": {},
   "outputs": [
    {
     "name": "stderr",
     "output_type": "stream",
     "text": [
      "/Users/joaojesus/opt/anaconda3/envs/geo_plotting/lib/python3.8/site-packages/paramiko/transport.py:219: CryptographyDeprecationWarning: Blowfish has been deprecated\n",
      "  \"class\": algorithms.Blowfish,\n"
     ]
    }
   ],
   "source": [
    "import pysftp\n",
    "import os \n",
    "import numpy as np\n",
    "import pandas as pd\n",
    "import netCDF4\n",
    "import numpy as np\n",
    "\n",
    "from scipy import io\n",
    "from classes.matlab_reader import matlab_reader\n",
    "from classes.grid_funcs import map_grid,dataset,data_wizard\n",
    "from dotenv import load_dotenv   #for python-dotenv method\n",
    "from datetime import datetime"
   ]
  },
  {
   "cell_type": "code",
   "execution_count": 10,
   "metadata": {},
   "outputs": [
    {
     "data": {
      "text/plain": [
       "{2018: 151, 2019: 151, 2020: 152}"
      ]
     },
     "execution_count": 10,
     "metadata": {},
     "output_type": "execute_result"
    }
   ],
   "source": [
    "import calendar\n",
    "\n",
    "years = [year for year in range(2018,2020+1)]\n",
    "months = [1, 2, 3, 11, 12]\n",
    "\n",
    "\n",
    "dates = []\n",
    "year_days_dict = {}\n",
    "for year in years:\n",
    "    days_per_month = []\n",
    "    for month in months:\n",
    "        days_in_month = calendar.monthrange(year, month)[1]\n",
    "        days_per_month.append(days_in_month)\n",
    "        total_days = sum(days_per_month)\n",
    "        year_days_dict[year] = total_days\n",
    "\n",
    "        for day in range(1, days_in_month + 1):\n",
    "        # Create date object for the current day\n",
    "            date_str = f'{day}/{month}/{year}'\n",
    "            for hour in range(1,13):\n",
    "                date_obj = datetime.strptime(date_str + f' {hour}:0:0', '%d/%m/%Y %H:%M:%S')\n",
    "                # Add the date object to the list\n",
    "                dates.append(date_obj)\n",
    "\n",
    "\n",
    "year_days_dict"
   ]
  },
  {
   "cell_type": "code",
   "execution_count": 11,
   "metadata": {},
   "outputs": [
    {
     "data": {
      "text/plain": [
       "5448"
      ]
     },
     "execution_count": 11,
     "metadata": {},
     "output_type": "execute_result"
    }
   ],
   "source": [
    "len(dates)"
   ]
  },
  {
   "cell_type": "code",
   "execution_count": 13,
   "metadata": {},
   "outputs": [],
   "source": [
    "ds = netCDF4.Dataset('2018-2020.nc')"
   ]
  },
  {
   "cell_type": "code",
   "execution_count": 17,
   "metadata": {},
   "outputs": [
    {
     "ename": "FileNotFoundError",
     "evalue": "[Errno 2] No such file or directory: 'PROCESSED_ERA5_ONLINE/COMPRESSED/WIND_EASTWARD//HOURLY/2020-01-17 11:00:00.npz'",
     "output_type": "error",
     "traceback": [
      "\u001b[0;31m---------------------------------------------------------------------------\u001b[0m",
      "\u001b[0;31mFileNotFoundError\u001b[0m                         Traceback (most recent call last)",
      "Cell \u001b[0;32mIn[17], line 14\u001b[0m\n\u001b[1;32m      7\u001b[0m \u001b[39m# wind_northward = ds['v'][i] # WIND_NORTHWARD\u001b[39;00m\n\u001b[1;32m      8\u001b[0m \u001b[39m# vertical_velocity = ds['w'][i] # VERTICAL_VELOCITY\u001b[39;00m\n\u001b[1;32m      9\u001b[0m \n\u001b[1;32m     10\u001b[0m \u001b[39m# np.savez_compressed(f\"PROCESSED_ERA5_ONLINE/COMPRESSED/POTENTIAL_VORTICITY/{dates[i].strftime(('%Y-%m-%d'))}.npz\", potential_vorticity)\u001b[39;00m\n\u001b[1;32m     11\u001b[0m \u001b[39m# np.savez_compressed(f\"PROCESSED_ERA5_ONLINE/COMPRESSED/RELATIVE_HUMIDITY/{dates[i].strftime(('%Y-%m-%d'))}.npz\", relative_humidity)\u001b[39;00m\n\u001b[1;32m     12\u001b[0m \u001b[39m# np.savez_compressed(f\"PROCESSED_ERA5_ONLINE/COMPRESSED/SPECIFIC_HUMIDTY/{dates[i].strftime(('%Y-%m-%d'))}.npz\", specific_humidy)\u001b[39;00m\n\u001b[1;32m     13\u001b[0m np\u001b[39m.\u001b[39msavez_compressed(\u001b[39mf\u001b[39m\u001b[39m\"\u001b[39m\u001b[39mPROCESSED_ERA5_ONLINE/COMPRESSED/TEMPERATURE/HOURLY/\u001b[39m\u001b[39m{\u001b[39;00mdates[i]\u001b[39m.\u001b[39mstrftime((\u001b[39m'\u001b[39m\u001b[39m%\u001b[39m\u001b[39mY-\u001b[39m\u001b[39m%\u001b[39m\u001b[39mm-\u001b[39m\u001b[39m%d\u001b[39;00m\u001b[39m \u001b[39m\u001b[39m%\u001b[39m\u001b[39mH:\u001b[39m\u001b[39m%\u001b[39m\u001b[39mM:\u001b[39m\u001b[39m%\u001b[39m\u001b[39mS\u001b[39m\u001b[39m'\u001b[39m))\u001b[39m}\u001b[39;00m\u001b[39m.npz\u001b[39m\u001b[39m\"\u001b[39m, temperature)\n\u001b[0;32m---> 14\u001b[0m np\u001b[39m.\u001b[39;49msavez_compressed(\u001b[39mf\u001b[39;49m\u001b[39m\"\u001b[39;49m\u001b[39mPROCESSED_ERA5_ONLINE/COMPRESSED/WIND_EASTWARD//HOURLY/\u001b[39;49m\u001b[39m{\u001b[39;49;00mdates[i]\u001b[39m.\u001b[39;49mstrftime((\u001b[39m'\u001b[39;49m\u001b[39m%\u001b[39;49m\u001b[39mY-\u001b[39;49m\u001b[39m%\u001b[39;49m\u001b[39mm-\u001b[39;49m\u001b[39m%d\u001b[39;49;00m\u001b[39m \u001b[39;49m\u001b[39m%\u001b[39;49m\u001b[39mH:\u001b[39;49m\u001b[39m%\u001b[39;49m\u001b[39mM:\u001b[39;49m\u001b[39m%\u001b[39;49m\u001b[39mS\u001b[39;49m\u001b[39m'\u001b[39;49m))\u001b[39m}\u001b[39;49;00m\u001b[39m.npz\u001b[39;49m\u001b[39m\"\u001b[39;49m, wind_eastward)\n",
      "File \u001b[0;32m<__array_function__ internals>:180\u001b[0m, in \u001b[0;36msavez_compressed\u001b[0;34m(*args, **kwargs)\u001b[0m\n",
      "File \u001b[0;32m~/opt/anaconda3/envs/geo_plotting/lib/python3.8/site-packages/numpy/lib/npyio.py:686\u001b[0m, in \u001b[0;36msavez_compressed\u001b[0;34m(file, *args, **kwds)\u001b[0m\n\u001b[1;32m    623\u001b[0m \u001b[39m@array_function_dispatch\u001b[39m(_savez_compressed_dispatcher)\n\u001b[1;32m    624\u001b[0m \u001b[39mdef\u001b[39;00m \u001b[39msavez_compressed\u001b[39m(file, \u001b[39m*\u001b[39margs, \u001b[39m*\u001b[39m\u001b[39m*\u001b[39mkwds):\n\u001b[1;32m    625\u001b[0m     \u001b[39m\"\"\"\u001b[39;00m\n\u001b[1;32m    626\u001b[0m \u001b[39m    Save several arrays into a single file in compressed ``.npz`` format.\u001b[39;00m\n\u001b[1;32m    627\u001b[0m \n\u001b[0;32m   (...)\u001b[0m\n\u001b[1;32m    684\u001b[0m \n\u001b[1;32m    685\u001b[0m \u001b[39m    \"\"\"\u001b[39;00m\n\u001b[0;32m--> 686\u001b[0m     _savez(file, args, kwds, \u001b[39mTrue\u001b[39;49;00m)\n",
      "File \u001b[0;32m~/opt/anaconda3/envs/geo_plotting/lib/python3.8/site-packages/numpy/lib/npyio.py:712\u001b[0m, in \u001b[0;36m_savez\u001b[0;34m(file, args, kwds, compress, allow_pickle, pickle_kwargs)\u001b[0m\n\u001b[1;32m    709\u001b[0m \u001b[39melse\u001b[39;00m:\n\u001b[1;32m    710\u001b[0m     compression \u001b[39m=\u001b[39m zipfile\u001b[39m.\u001b[39mZIP_STORED\n\u001b[0;32m--> 712\u001b[0m zipf \u001b[39m=\u001b[39m zipfile_factory(file, mode\u001b[39m=\u001b[39;49m\u001b[39m\"\u001b[39;49m\u001b[39mw\u001b[39;49m\u001b[39m\"\u001b[39;49m, compression\u001b[39m=\u001b[39;49mcompression)\n\u001b[1;32m    714\u001b[0m \u001b[39mfor\u001b[39;00m key, val \u001b[39min\u001b[39;00m namedict\u001b[39m.\u001b[39mitems():\n\u001b[1;32m    715\u001b[0m     fname \u001b[39m=\u001b[39m key \u001b[39m+\u001b[39m \u001b[39m'\u001b[39m\u001b[39m.npy\u001b[39m\u001b[39m'\u001b[39m\n",
      "File \u001b[0;32m~/opt/anaconda3/envs/geo_plotting/lib/python3.8/site-packages/numpy/lib/npyio.py:103\u001b[0m, in \u001b[0;36mzipfile_factory\u001b[0;34m(file, *args, **kwargs)\u001b[0m\n\u001b[1;32m    101\u001b[0m \u001b[39mimport\u001b[39;00m \u001b[39mzipfile\u001b[39;00m\n\u001b[1;32m    102\u001b[0m kwargs[\u001b[39m'\u001b[39m\u001b[39mallowZip64\u001b[39m\u001b[39m'\u001b[39m] \u001b[39m=\u001b[39m \u001b[39mTrue\u001b[39;00m\n\u001b[0;32m--> 103\u001b[0m \u001b[39mreturn\u001b[39;00m zipfile\u001b[39m.\u001b[39;49mZipFile(file, \u001b[39m*\u001b[39;49margs, \u001b[39m*\u001b[39;49m\u001b[39m*\u001b[39;49mkwargs)\n",
      "File \u001b[0;32m~/opt/anaconda3/envs/geo_plotting/lib/python3.8/zipfile.py:1251\u001b[0m, in \u001b[0;36mZipFile.__init__\u001b[0;34m(self, file, mode, compression, allowZip64, compresslevel, strict_timestamps)\u001b[0m\n\u001b[1;32m   1249\u001b[0m \u001b[39mwhile\u001b[39;00m \u001b[39mTrue\u001b[39;00m:\n\u001b[1;32m   1250\u001b[0m     \u001b[39mtry\u001b[39;00m:\n\u001b[0;32m-> 1251\u001b[0m         \u001b[39mself\u001b[39m\u001b[39m.\u001b[39mfp \u001b[39m=\u001b[39m io\u001b[39m.\u001b[39;49mopen(file, filemode)\n\u001b[1;32m   1252\u001b[0m     \u001b[39mexcept\u001b[39;00m \u001b[39mOSError\u001b[39;00m:\n\u001b[1;32m   1253\u001b[0m         \u001b[39mif\u001b[39;00m filemode \u001b[39min\u001b[39;00m modeDict:\n",
      "\u001b[0;31mFileNotFoundError\u001b[0m: [Errno 2] No such file or directory: 'PROCESSED_ERA5_ONLINE/COMPRESSED/WIND_EASTWARD//HOURLY/2020-01-17 11:00:00.npz'"
     ]
    }
   ],
   "source": [
    "for i in range(np.shape(ds['u'])[0]):\n",
    "    # potential_vorticity = ds['pv'][i] # POTENTIAL_VORTICITY\n",
    "    # relative_humidity = ds['r'][i] # RELATIVE_HUMIDITY\n",
    "    # specific_humidy = ds['q'][i] # SPECIFIC_HUMIDTY\n",
    "    temperature = ds['t'][i] # TEMPERATURE\n",
    "    wind_eastward = ds['u'][i] # WIND_EASTWARD\n",
    "    # wind_northward = ds['v'][i] # WIND_NORTHWARD\n",
    "    # vertical_velocity = ds['w'][i] # VERTICAL_VELOCITY\n",
    "\n",
    "    # np.savez_compressed(f\"PROCESSED_ERA5_ONLINE/COMPRESSED/POTENTIAL_VORTICITY/{dates[i].strftime(('%Y-%m-%d'))}.npz\", potential_vorticity)\n",
    "    # np.savez_compressed(f\"PROCESSED_ERA5_ONLINE/COMPRESSED/RELATIVE_HUMIDITY/{dates[i].strftime(('%Y-%m-%d'))}.npz\", relative_humidity)\n",
    "    # np.savez_compressed(f\"PROCESSED_ERA5_ONLINE/COMPRESSED/SPECIFIC_HUMIDTY/{dates[i].strftime(('%Y-%m-%d'))}.npz\", specific_humidy)\n",
    "    np.savez_compressed(f\"PROCESSED_ERA5_ONLINE/COMPRESSED/TEMPERATURE/HOURLY/{dates[i].strftime(('%Y-%m-%d %H:%M:%S'))}.npz\", temperature)\n",
    "    np.savez_compressed(f\"PROCESSED_ERA5_ONLINE/COMPRESSED/WIND_EASTWARD//HOURLY/{dates[i].strftime(('%Y-%m-%d %H:%M:%S'))}.npz\", wind_eastward)\n",
    "    # np.savez_compressed(f\"PROCESSED_ERA5_ONLINE/COMPRESSED/WIND_NORTHWARD/{dates[i].strftime(('%Y-%m-%d'))}.npz\", wind_northward)\n",
    "    # np.savez_compressed(f\"PROCESSED_ERA5_ONLINE/COMPRESSED/VERTICAL_VELOCITY/{dates[i].strftime(('%Y-%m-%d'))}.npz\", vertical_velocity)\n"
   ]
  },
  {
   "cell_type": "code",
   "execution_count": null,
   "metadata": {},
   "outputs": [],
   "source": [
    "# for i in range(np.shape(ds['u'])[0]):\n",
    "#     potential_vorticity = ds['pv'][i] # POTENTIAL_VORTICITY\n",
    "#     relative_humidity = ds['r'][i] # RELATIVE_HUMIDITY\n",
    "#     specific_humidy = ds['q'][i] # SPECIFIC_HUMIDTY\n",
    "#     temperature = ds['t'][i] # TEMPERATURE\n",
    "#     wind_eastward = ds['u'][i] # WIND_EASTWARD\n",
    "#     wind_northward = ds['v'][i] # WIND_NORTHWARD\n",
    "#     vertical_velocity = ds['w'][i] # VERTICAL_VELOCITY\n",
    "\n",
    "#     np.savetxt(f\"PROCESSED_ERA5_ONLINE/POTENTIAL_VORTICITY/{dates[i].strftime(('%Y-%m-%d'))}.csv\", potential_vorticity, delimiter=\",\")\n",
    "#     np.savetxt(f\"PROCESSED_ERA5_ONLINE/RELATIVE_HUMIDITY/{dates[i].strftime(('%Y-%m-%d'))}.csv\", relative_humidity, delimiter=\",\")\n",
    "#     np.savetxt(f\"PROCESSED_ERA5_ONLINE/SPECIFIC_HUMIDTY/{dates[i].strftime(('%Y-%m-%d'))}.csv\", specific_humidy, delimiter=\",\")\n",
    "#     np.savetxt(f\"PROCESSED_ERA5_ONLINE/TEMPERATURE/{dates[i].strftime(('%Y-%m-%d'))}.csv\", temperature, delimiter=\",\")\n",
    "#     np.savetxt(f\"PROCESSED_ERA5_ONLINE/WIND_EASTWARD/{dates[i].strftime(('%Y-%m-%d'))}.csv\", wind_eastward, delimiter=\",\")\n",
    "#     np.savetxt(f\"PROCESSED_ERA5_ONLINE/WIND_NORTHWARD/{dates[i].strftime(('%Y-%m-%d'))}.csv\", wind_northward, delimiter=\",\")\n",
    "#     np.savetxt(f\"PROCESSED_ERA5_ONLINE/VERTICAL_VELOCITY/{dates[i].strftime(('%Y-%m-%d'))}.csv\", vertical_velocity, delimiter=\",\")\n",
    "\n"
   ]
  }
 ],
 "metadata": {
  "kernelspec": {
   "display_name": "Python 3.8.16 ('geo_plotting')",
   "language": "python",
   "name": "python3"
  },
  "language_info": {
   "codemirror_mode": {
    "name": "ipython",
    "version": 3
   },
   "file_extension": ".py",
   "mimetype": "text/x-python",
   "name": "python",
   "nbconvert_exporter": "python",
   "pygments_lexer": "ipython3",
   "version": "3.8.16"
  },
  "orig_nbformat": 4,
  "vscode": {
   "interpreter": {
    "hash": "e8ad9489e57f94b24688f14228f7c19f90c3d384bbafa893e355475ae3832d01"
   }
  }
 },
 "nbformat": 4,
 "nbformat_minor": 2
}
