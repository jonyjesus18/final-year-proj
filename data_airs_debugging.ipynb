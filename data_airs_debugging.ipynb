{
 "cells": [
  {
   "cell_type": "code",
   "execution_count": 1,
   "metadata": {},
   "outputs": [],
   "source": [
    "import scipy.io\n",
    "import pprint\n",
    "\n",
    "import numpy as np\n",
    "from classes.matlab_reader import matlab_reader\n",
    "\n",
    "# data_ = self.data_airs[hemisphere.upper()][0][0][0][0][self.mappings[daytime.lower()]][0][0][self.mappings[data_field.lower()]]\n",
    "# data_ = data_[:, :, self.mappings[altitude]]\n"
   ]
  },
  {
   "cell_type": "code",
   "execution_count": 10,
   "metadata": {},
   "outputs": [
    {
     "data": {
      "text/plain": [
       "array([[-0.35978654, -0.303786  ,  0.00500955, ...,         nan,\n",
       "                nan,         nan],\n",
       "       [-0.35652283, -0.21974182,  0.00408833, ...,         nan,\n",
       "                nan,         nan],\n",
       "       [-0.38643995, -0.16448222, -0.28554636, ...,         nan,\n",
       "                nan,         nan],\n",
       "       ...,\n",
       "       [-0.00569292, -0.08182327,  0.09258261, ..., -0.35803798,\n",
       "        -0.17547862, -0.0687004 ],\n",
       "       [ 0.02874295, -0.0255497 ,  0.24076514, ...,  0.02178107,\n",
       "         0.08895864,  0.26415947],\n",
       "       [ 0.28957596, -0.1664846 ,  0.00802184, ...,  0.04174329,\n",
       "         0.01324838, -0.04102039]], dtype=float32)"
      ]
     },
     "execution_count": 10,
     "metadata": {},
     "output_type": "execute_result"
    }
   ],
   "source": [
    "data = scipy.io.loadmat('20220101_AIRS_3DST-1_40km_grid.mat')\n",
    "data = data['Airs']['NH'][0][0][0][0]['Night'][0][0]['tp'][:, :, 0]\n",
    "data"
   ]
  },
  {
   "cell_type": "code",
   "execution_count": 8,
   "metadata": {},
   "outputs": [
    {
     "name": "stdout",
     "output_type": "stream",
     "text": [
      "Unexpected exception formatting exception. Falling back to standard exception\n"
     ]
    },
    {
     "name": "stderr",
     "output_type": "stream",
     "text": [
      "Traceback (most recent call last):\n",
      "  File \"/Users/joaojesus/opt/anaconda3/envs/main_fyp_env/lib/python3.9/site-packages/IPython/core/interactiveshell.py\", line 3460, in run_code\n",
      "    exec(code_obj, self.user_global_ns, self.user_ns)\n",
      "  File \"/var/folders/p6/325r0tsd2cd1jddpt9nd70hm0000gn/T/ipykernel_22380/3976739821.py\", line 2, in <module>\n",
      "    data = reader.select(hemisphere='NH',daytime='Night',data_field='A',altitude=0)\n",
      "  File \"/Users/joaojesus/Desktop/final_year_proj/classes/matlab_reader.py\", line 73, in select\n",
      "ValueError: no field of name a\n",
      "\n",
      "During handling of the above exception, another exception occurred:\n",
      "\n",
      "Traceback (most recent call last):\n",
      "  File \"/Users/joaojesus/opt/anaconda3/envs/main_fyp_env/lib/python3.9/site-packages/IPython/core/interactiveshell.py\", line 2057, in showtraceback\n",
      "    stb = self.InteractiveTB.structured_traceback(\n",
      "  File \"/Users/joaojesus/opt/anaconda3/envs/main_fyp_env/lib/python3.9/site-packages/IPython/core/ultratb.py\", line 1118, in structured_traceback\n",
      "    return FormattedTB.structured_traceback(\n",
      "  File \"/Users/joaojesus/opt/anaconda3/envs/main_fyp_env/lib/python3.9/site-packages/IPython/core/ultratb.py\", line 1012, in structured_traceback\n",
      "    return VerboseTB.structured_traceback(\n",
      "  File \"/Users/joaojesus/opt/anaconda3/envs/main_fyp_env/lib/python3.9/site-packages/IPython/core/ultratb.py\", line 865, in structured_traceback\n",
      "    formatted_exception = self.format_exception_as_a_whole(etype, evalue, etb, number_of_lines_of_context,\n",
      "  File \"/Users/joaojesus/opt/anaconda3/envs/main_fyp_env/lib/python3.9/site-packages/IPython/core/ultratb.py\", line 818, in format_exception_as_a_whole\n",
      "    frames.append(self.format_record(r))\n",
      "  File \"/Users/joaojesus/opt/anaconda3/envs/main_fyp_env/lib/python3.9/site-packages/IPython/core/ultratb.py\", line 736, in format_record\n",
      "    result += ''.join(_format_traceback_lines(frame_info.lines, Colors, self.has_colors, lvals))\n",
      "  File \"/Users/joaojesus/opt/anaconda3/envs/main_fyp_env/lib/python3.9/site-packages/stack_data/utils.py\", line 145, in cached_property_wrapper\n",
      "    value = obj.__dict__[self.func.__name__] = self.func(obj)\n",
      "  File \"/Users/joaojesus/opt/anaconda3/envs/main_fyp_env/lib/python3.9/site-packages/stack_data/core.py\", line 698, in lines\n",
      "    pieces = self.included_pieces\n",
      "  File \"/Users/joaojesus/opt/anaconda3/envs/main_fyp_env/lib/python3.9/site-packages/stack_data/utils.py\", line 145, in cached_property_wrapper\n",
      "    value = obj.__dict__[self.func.__name__] = self.func(obj)\n",
      "  File \"/Users/joaojesus/opt/anaconda3/envs/main_fyp_env/lib/python3.9/site-packages/stack_data/core.py\", line 649, in included_pieces\n",
      "    pos = scope_pieces.index(self.executing_piece)\n",
      "  File \"/Users/joaojesus/opt/anaconda3/envs/main_fyp_env/lib/python3.9/site-packages/stack_data/utils.py\", line 145, in cached_property_wrapper\n",
      "    value = obj.__dict__[self.func.__name__] = self.func(obj)\n",
      "  File \"/Users/joaojesus/opt/anaconda3/envs/main_fyp_env/lib/python3.9/site-packages/stack_data/core.py\", line 628, in executing_piece\n",
      "    return only(\n",
      "  File \"/Users/joaojesus/opt/anaconda3/envs/main_fyp_env/lib/python3.9/site-packages/executing/executing.py\", line 164, in only\n",
      "    raise NotOneValueFound('Expected one value, found 0')\n",
      "executing.executing.NotOneValueFound: Expected one value, found 0\n"
     ]
    }
   ],
   "source": [
    "reader = matlab_reader('20220101_AIRS_3DST-1_40km_grid.mat')\n",
    "data = reader.select(hemisphere='NH',daytime='Night',data_field='A',altitude=0)"
   ]
  },
  {
   "cell_type": "code",
   "execution_count": 6,
   "metadata": {},
   "outputs": [
    {
     "data": {
      "text/plain": [
       "array([[ 0.00636945,  0.0043993 ,  0.00251693, ...,         nan,\n",
       "                nan,         nan],\n",
       "       [ 0.00209963,  0.00129383,  0.00230272, ...,         nan,\n",
       "                nan,         nan],\n",
       "       [ 0.00246693,  0.00247482,  0.00143402, ...,         nan,\n",
       "                nan,         nan],\n",
       "       ...,\n",
       "       [ 0.00034836,  0.00011085,  0.00019278, ...,  0.00462381,\n",
       "         0.00343737,  0.00298575],\n",
       "       [ 0.00054679,  0.00027675,  0.00043716, ...,  0.00139858,\n",
       "         0.00250136,  0.00321837],\n",
       "       [-0.00197263,  0.00039342,  0.00034549, ..., -0.0052472 ,\n",
       "         0.00762954,  0.00624589]], dtype=float32)"
      ]
     },
     "execution_count": 6,
     "metadata": {},
     "output_type": "execute_result"
    }
   ],
   "source": [
    "data"
   ]
  },
  {
   "cell_type": "code",
   "execution_count": null,
   "metadata": {},
   "outputs": [],
   "source": []
  }
 ],
 "metadata": {
  "kernelspec": {
   "display_name": "Python 3.9.16 ('main_fyp_env')",
   "language": "python",
   "name": "python3"
  },
  "language_info": {
   "codemirror_mode": {
    "name": "ipython",
    "version": 3
   },
   "file_extension": ".py",
   "mimetype": "text/x-python",
   "name": "python",
   "nbconvert_exporter": "python",
   "pygments_lexer": "ipython3",
   "version": "3.9.16"
  },
  "orig_nbformat": 4,
  "vscode": {
   "interpreter": {
    "hash": "8884dac054093db9aae4f55b239dc4d3884458936f39f31cf0f95408e834f664"
   }
  }
 },
 "nbformat": 4,
 "nbformat_minor": 2
}
