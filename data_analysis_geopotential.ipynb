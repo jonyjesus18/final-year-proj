{
 "cells": [
  {
   "cell_type": "code",
   "execution_count": 50,
   "metadata": {},
   "outputs": [],
   "source": [
    "import numpy as np\n",
    "import xarray as xr\n",
    "\n",
    "# Load the ERA5 data\n",
    "ds = xr.open_dataset('/Users/joaojesus/Desktop/final_year_proj/samples/jan-march-2009-geopotential-10-100hpa-30-90N.nc')\n",
    "\n",
    "# Subset the data to the desired sub-region and pressure levels\n",
    "ds_sub = ds.sel(latitude=slice(90,30), longitude=slice(-180,180), level=[5,7,10,20])\n",
    "\n",
    "\n"
   ]
  },
  {
   "cell_type": "code",
   "execution_count": 51,
   "metadata": {},
   "outputs": [
    {
     "data": {
      "text/plain": [
       "array(317594.06, dtype=float32)"
      ]
     },
     "execution_count": 51,
     "metadata": {},
     "output_type": "execute_result"
    }
   ],
   "source": [
    "\n",
    "ds['z'][0][0][0][0].values"
   ]
  },
  {
   "cell_type": "code",
   "execution_count": 52,
   "metadata": {},
   "outputs": [],
   "source": [
    "# Loop over each day and time and calculate the mean geopotential height\n",
    "means = []\n",
    "for day_time in ds_sub.time:\n",
    "        da = ds_sub.sel(time=day_time)['z'].mean(dim=['latitude', 'longitude'])\n",
    "        means.append(da)\n",
    "\n",
    "# Calculate the overall mean geopotential height\n",
    "mean_z = np.mean(means)"
   ]
  },
  {
   "cell_type": "code",
   "execution_count": 53,
   "metadata": {},
   "outputs": [],
   "source": [
    "# Loop over each day and time and calculate the geopotential height perturbations\n",
    "perturbations = []\n",
    "for day_time in ds_sub.time:\n",
    "        da = ds_sub.sel(time=day_time)['z']\n",
    "        pert = (da - mean_z) / 9.80665  # Divide by g to convert to units of meters\n",
    "        perturbations.append(pert)\n",
    "\n",
    "# Concatenate the perturbation data into a single array\n",
    "perturbations = xr.concat(perturbations, dim='time')\n",
    "\n",
    "# Save the perturbation data to a NetCDF file\n",
    "perturbations.to_netcdf('perturbation_data.nc')"
   ]
  },
  {
   "cell_type": "code",
   "execution_count": null,
   "metadata": {},
   "outputs": [],
   "source": []
  }
 ],
 "metadata": {
  "kernelspec": {
   "display_name": "Python 3.9.16 ('main_fyp_env')",
   "language": "python",
   "name": "python3"
  },
  "language_info": {
   "codemirror_mode": {
    "name": "ipython",
    "version": 3
   },
   "file_extension": ".py",
   "mimetype": "text/x-python",
   "name": "python",
   "nbconvert_exporter": "python",
   "pygments_lexer": "ipython3",
   "version": "3.9.16"
  },
  "orig_nbformat": 4,
  "vscode": {
   "interpreter": {
    "hash": "8884dac054093db9aae4f55b239dc4d3884458936f39f31cf0f95408e834f664"
   }
  }
 },
 "nbformat": 4,
 "nbformat_minor": 2
}
