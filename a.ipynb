{
 "cells": [
  {
   "cell_type": "code",
   "execution_count": 1,
   "metadata": {},
   "outputs": [],
   "source": [
    "import os"
   ]
  },
  {
   "cell_type": "code",
   "execution_count": 5,
   "metadata": {},
   "outputs": [],
   "source": [
    "files = os.listdir('ssw_events_saved')\n",
    "files.sort()"
   ]
  },
  {
   "cell_type": "code",
   "execution_count": 7,
   "metadata": {},
   "outputs": [
    {
     "name": "stdout",
     "output_type": "stream",
     "text": [
      "1970 01 03\n",
      "1971 01 17\n",
      "1973 01 31\n",
      "1974 03 24\n",
      "1975 03 17\n",
      "1978 03 27\n",
      "1980 02 29\n",
      "1984 02 23\n",
      "1985 03 24\n",
      "1986 03 21\n",
      "1987 02 04\n",
      "1988 03 12\n",
      "1992 03 25\n",
      "1993 03 06\n",
      "1995 02 03\n",
      "1995 02 10\n",
      "1998 01 07\n",
      "1998 12 16\n",
      "1999 02 25\n",
      "2001 02 06\n",
      "2003 01 18\n",
      "2004 01 04\n",
      "2005 03 13\n",
      "2005 03 28\n",
      "2006 01 22\n",
      "2007 02 24\n",
      "2008 02 22\n",
      "2008 03 15\n",
      "2009 01 24\n",
      "2010 01 27\n",
      "2010 02 06\n",
      "2010 02 18\n",
      "2013 01 07\n",
      "2013 01 12\n",
      "2014 03 17\n",
      "2014 03 28\n",
      "2016 03 06\n",
      "2016 03 30\n"
     ]
    }
   ],
   "source": [
    "for file in files:\n",
    "    print(file[:4],file[5:7],file[8:10])"
   ]
  },
  {
   "cell_type": "code",
   "execution_count": null,
   "metadata": {},
   "outputs": [],
   "source": []
  }
 ],
 "metadata": {
  "kernelspec": {
   "display_name": "Python 3.8.16 ('geo_plotting')",
   "language": "python",
   "name": "python3"
  },
  "language_info": {
   "codemirror_mode": {
    "name": "ipython",
    "version": 3
   },
   "file_extension": ".py",
   "mimetype": "text/x-python",
   "name": "python",
   "nbconvert_exporter": "python",
   "pygments_lexer": "ipython3",
   "version": "3.8.16"
  },
  "orig_nbformat": 4,
  "vscode": {
   "interpreter": {
    "hash": "e8ad9489e57f94b24688f14228f7c19f90c3d384bbafa893e355475ae3832d01"
   }
  }
 },
 "nbformat": 4,
 "nbformat_minor": 2
}
