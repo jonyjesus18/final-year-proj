{
 "cells": [
  {
   "cell_type": "code",
   "execution_count": 2,
   "metadata": {},
   "outputs": [],
   "source": [
    "import numpy as np\n",
    "import xarray as xr\n",
    "\n"
   ]
  },
  {
   "cell_type": "code",
   "execution_count": 17,
   "metadata": {},
   "outputs": [
    {
     "ename": "NameError",
     "evalue": "name 'latitude' is not defined",
     "output_type": "error",
     "traceback": [
      "\u001b[0;31m---------------------------------------------------------------------------\u001b[0m",
      "\u001b[0;31mNameError\u001b[0m                                 Traceback (most recent call last)",
      "Cell \u001b[0;32mIn[17], line 3\u001b[0m\n\u001b[1;32m      1\u001b[0m \u001b[39m# Load ERA5 data for zonal-mean zonal wind\u001b[39;00m\n\u001b[1;32m      2\u001b[0m ds \u001b[39m=\u001b[39m xr\u001b[39m.\u001b[39mopen_dataset(\u001b[39m'\u001b[39m\u001b[39mera5_zonal_wind_2018.nc\u001b[39m\u001b[39m'\u001b[39m)\n\u001b[0;32m----> 3\u001b[0m u \u001b[39m=\u001b[39m ds\u001b[39m.\u001b[39mu\u001b[39m.\u001b[39msel(latitude \u001b[39m>\u001b[39m \u001b[39m60\u001b[39m)\n",
      "\u001b[0;31mNameError\u001b[0m: name 'latitude' is not defined"
     ]
    }
   ],
   "source": [
    "# Load ERA5 data for zonal-mean zonal wind\n",
    "ds = xr.open_dataset('era5_zonal_wind_2018.nc')\n",
    "u = ds.u.sel()\n"
   ]
  },
  {
   "cell_type": "code",
   "execution_count": 16,
   "metadata": {},
   "outputs": [
    {
     "name": "stdout",
     "output_type": "stream",
     "text": [
      "No major SSW event occurred\n"
     ]
    }
   ],
   "source": [
    "# Compute minimum zonal-mean zonal wind and day of occurrence\n",
    "min_u = np.min(u)\n",
    "day_min_u = np.where(u == min_u)[0][0]\n",
    "\n",
    "# Compute 5-day running mean of zonal-mean zonal wind\n",
    "u_rm = u.rolling(time=5, center=True).mean()\n",
    "\n",
    "# Compute climatological mean and standard deviation of 5-day running mean\n",
    "u_clim = u_rm.mean()\n",
    "u_std = u_rm.std()\n",
    "\n",
    "# Check if 5-day running mean falls below -1 standard deviation of climatological mean\n",
    "if u_rm[day_min_u].any() < u_clim - u_std:\n",
    "    print('A major SSW event occurred on day', day_min_u)\n",
    "else:\n",
    "    print('No major SSW event occurred')"
   ]
  },
  {
   "cell_type": "code",
   "execution_count": null,
   "metadata": {},
   "outputs": [],
   "source": []
  }
 ],
 "metadata": {
  "kernelspec": {
   "display_name": "Python 3.9.16 ('main_fyp_env')",
   "language": "python",
   "name": "python3"
  },
  "language_info": {
   "codemirror_mode": {
    "name": "ipython",
    "version": 3
   },
   "file_extension": ".py",
   "mimetype": "text/x-python",
   "name": "python",
   "nbconvert_exporter": "python",
   "pygments_lexer": "ipython3",
   "version": "3.9.16"
  },
  "orig_nbformat": 4,
  "vscode": {
   "interpreter": {
    "hash": "8884dac054093db9aae4f55b239dc4d3884458936f39f31cf0f95408e834f664"
   }
  }
 },
 "nbformat": 4,
 "nbformat_minor": 2
}
